{
  "nbformat": 4,
  "nbformat_minor": 0,
  "metadata": {
    "colab": {
      "name": "(MODF) Classification based on Review Title",
      "provenance": [],
      "collapsed_sections": []
    },
    "kernelspec": {
      "name": "python3",
      "display_name": "Python 3"
    }
  },
  "cells": [
    {
      "cell_type": "code",
      "metadata": {
        "id": "6iUnF35eXMxz",
        "colab_type": "code",
        "outputId": "3fe59925-d061-4459-fa3d-f058d5c67917",
        "colab": {
          "base_uri": "https://localhost:8080/",
          "height": 122
        }
      },
      "source": [
        "from google.colab import drive\n",
        "drive.mount('/gdrive')"
      ],
      "execution_count": 0,
      "outputs": [
        {
          "output_type": "stream",
          "text": [
            "Go to this URL in a browser: https://accounts.google.com/o/oauth2/auth?client_id=947318989803-6bn6qk8qdgf4n4g3pfee6491hc0brc4i.apps.googleusercontent.com&redirect_uri=urn%3aietf%3awg%3aoauth%3a2.0%3aoob&response_type=code&scope=email%20https%3a%2f%2fwww.googleapis.com%2fauth%2fdocs.test%20https%3a%2f%2fwww.googleapis.com%2fauth%2fdrive%20https%3a%2f%2fwww.googleapis.com%2fauth%2fdrive.photos.readonly%20https%3a%2f%2fwww.googleapis.com%2fauth%2fpeopleapi.readonly\n",
            "\n",
            "Enter your authorization code:\n",
            "··········\n",
            "Mounted at /gdrive\n"
          ],
          "name": "stdout"
        }
      ]
    },
    {
      "cell_type": "code",
      "metadata": {
        "id": "Uysn3o83X7a6",
        "colab_type": "code",
        "colab": {}
      },
      "source": [
        "import numpy as np\n",
        "import pandas as pd\n",
        "import matplotlib.pyplot as plt \n",
        "import seaborn as sns\n",
        "from sklearn.feature_extraction.text import TfidfVectorizer\n",
        "%matplotlib inline"
      ],
      "execution_count": 0,
      "outputs": []
    },
    {
      "cell_type": "code",
      "metadata": {
        "id": "MevE09TddJ0J",
        "colab_type": "code",
        "outputId": "5f2241ae-17a6-4c39-f90f-3b5401d9ff09",
        "colab": {
          "base_uri": "https://localhost:8080/",
          "height": 34
        }
      },
      "source": [
        "cd '/gdrive/My Drive/Colab Notebooks/Knight ML Assignment/Data/mydata'"
      ],
      "execution_count": 0,
      "outputs": [
        {
          "output_type": "stream",
          "text": [
            "/gdrive/My Drive/Colab Notebooks/Knight ML Assignment/Data/mydata\n"
          ],
          "name": "stdout"
        }
      ]
    },
    {
      "cell_type": "code",
      "metadata": {
        "id": "ofH9_hpmdlOZ",
        "colab_type": "code",
        "colab": {}
      },
      "source": [
        "df=pd.read_csv('df1_train.csv')[['review_title','variety',]]"
      ],
      "execution_count": 0,
      "outputs": []
    },
    {
      "cell_type": "code",
      "metadata": {
        "id": "qqS7wWc7dvT4",
        "colab_type": "code",
        "outputId": "60b16ad5-45ea-4517-8bde-592f5527b114",
        "colab": {
          "base_uri": "https://localhost:8080/",
          "height": 204
        }
      },
      "source": [
        "df.head()"
      ],
      "execution_count": 0,
      "outputs": [
        {
          "output_type": "execute_result",
          "data": {
            "text/html": [
              "<div>\n",
              "<style scoped>\n",
              "    .dataframe tbody tr th:only-of-type {\n",
              "        vertical-align: middle;\n",
              "    }\n",
              "\n",
              "    .dataframe tbody tr th {\n",
              "        vertical-align: top;\n",
              "    }\n",
              "\n",
              "    .dataframe thead th {\n",
              "        text-align: right;\n",
              "    }\n",
              "</style>\n",
              "<table border=\"1\" class=\"dataframe\">\n",
              "  <thead>\n",
              "    <tr style=\"text-align: right;\">\n",
              "      <th></th>\n",
              "      <th>review_title</th>\n",
              "      <th>variety</th>\n",
              "    </tr>\n",
              "  </thead>\n",
              "  <tbody>\n",
              "    <tr>\n",
              "      <th>0</th>\n",
              "      <td>Domaines Bunan 2014 Château la Rouvière Rosé (...</td>\n",
              "      <td>Rosé</td>\n",
              "    </tr>\n",
              "    <tr>\n",
              "      <th>1</th>\n",
              "      <td>Wieninger 2014 White (Wiener Gemischter Satz)</td>\n",
              "      <td>White Blend</td>\n",
              "    </tr>\n",
              "    <tr>\n",
              "      <th>2</th>\n",
              "      <td>Tensley 2015 Colson Canyon Vineyard Syrah (San...</td>\n",
              "      <td>Syrah</td>\n",
              "    </tr>\n",
              "    <tr>\n",
              "      <th>3</th>\n",
              "      <td>Bodegas Luzón 2008 Red (Jumilla)</td>\n",
              "      <td>Red Blend</td>\n",
              "    </tr>\n",
              "    <tr>\n",
              "      <th>4</th>\n",
              "      <td>Big Smooth 2014 Zinfandel (Lodi)</td>\n",
              "      <td>Zinfandel</td>\n",
              "    </tr>\n",
              "  </tbody>\n",
              "</table>\n",
              "</div>"
            ],
            "text/plain": [
              "                                        review_title      variety\n",
              "0  Domaines Bunan 2014 Château la Rouvière Rosé (...         Rosé\n",
              "1      Wieninger 2014 White (Wiener Gemischter Satz)  White Blend\n",
              "2  Tensley 2015 Colson Canyon Vineyard Syrah (San...        Syrah\n",
              "3                   Bodegas Luzón 2008 Red (Jumilla)    Red Blend\n",
              "4                   Big Smooth 2014 Zinfandel (Lodi)    Zinfandel"
            ]
          },
          "metadata": {
            "tags": []
          },
          "execution_count": 8
        }
      ]
    },
    {
      "cell_type": "code",
      "metadata": {
        "id": "UTSDOTgOdwZK",
        "colab_type": "code",
        "colab": {}
      },
      "source": [
        "df['category_id']=df['variety'].factorize()[0]"
      ],
      "execution_count": 0,
      "outputs": []
    },
    {
      "cell_type": "code",
      "metadata": {
        "id": "rDfT3_c-eER6",
        "colab_type": "code",
        "colab": {}
      },
      "source": [
        "category_id_df=df[['variety','category_id']].drop_duplicates().sort_values('category_id')"
      ],
      "execution_count": 0,
      "outputs": []
    },
    {
      "cell_type": "code",
      "metadata": {
        "id": "xM09TRKQeFXC",
        "colab_type": "code",
        "colab": {}
      },
      "source": [
        "category_to_id = category_id_df.set_index('variety')['category_id'].to_dict()"
      ],
      "execution_count": 0,
      "outputs": []
    },
    {
      "cell_type": "code",
      "metadata": {
        "id": "TGVdj6KteXak",
        "colab_type": "code",
        "colab": {}
      },
      "source": [
        "id_to_category = category_id_df.set_index('category_id')['variety'].to_dict()"
      ],
      "execution_count": 0,
      "outputs": []
    },
    {
      "cell_type": "code",
      "metadata": {
        "id": "JCoVi4sYkSOc",
        "colab_type": "code",
        "outputId": "fef7fdce-94dc-4a67-8e8c-3b906cbb2827",
        "colab": {
          "base_uri": "https://localhost:8080/",
          "height": 493
        }
      },
      "source": [
        ""
      ],
      "execution_count": 0,
      "outputs": [
        {
          "output_type": "execute_result",
          "data": {
            "text/plain": [
              "{'Bordeaux-style Red Blend': 5,\n",
              " 'Bordeaux-style White Blend': 20,\n",
              " 'Cabernet Franc': 18,\n",
              " 'Cabernet Sauvignon': 11,\n",
              " 'Champagne Blend': 14,\n",
              " 'Chardonnay': 10,\n",
              " 'Gamay': 25,\n",
              " 'Gewürztraminer': 17,\n",
              " 'Grüner Veltliner': 6,\n",
              " 'Malbec': 16,\n",
              " 'Merlot': 22,\n",
              " 'Nebbiolo': 12,\n",
              " 'Pinot Grigio': 21,\n",
              " 'Pinot Gris': 26,\n",
              " 'Pinot Noir': 7,\n",
              " 'Portuguese Red': 13,\n",
              " 'Portuguese White': 24,\n",
              " 'Red Blend': 3,\n",
              " 'Rhône-style Red Blend': 27,\n",
              " 'Riesling': 8,\n",
              " 'Rosé': 0,\n",
              " 'Sangiovese': 9,\n",
              " 'Sauvignon Blanc': 15,\n",
              " 'Sparkling Blend': 23,\n",
              " 'Syrah': 2,\n",
              " 'Tempranillo': 19,\n",
              " 'White Blend': 1,\n",
              " 'Zinfandel': 4}"
            ]
          },
          "metadata": {
            "tags": []
          },
          "execution_count": 50
        }
      ]
    },
    {
      "cell_type": "code",
      "metadata": {
        "id": "nFC8AbuK1w_R",
        "colab_type": "code",
        "colab": {}
      },
      "source": [
        "import nltk"
      ],
      "execution_count": 0,
      "outputs": []
    },
    {
      "cell_type": "code",
      "metadata": {
        "id": "L0WqPICh10iG",
        "colab_type": "code",
        "outputId": "987fc05c-0b4c-49dc-fb04-0bff9fa2b543",
        "colab": {
          "base_uri": "https://localhost:8080/",
          "height": 68
        }
      },
      "source": [
        "nltk.download('stopwords')"
      ],
      "execution_count": 0,
      "outputs": [
        {
          "output_type": "stream",
          "text": [
            "[nltk_data] Downloading package stopwords to /root/nltk_data...\n",
            "[nltk_data]   Package stopwords is already up-to-date!\n"
          ],
          "name": "stdout"
        },
        {
          "output_type": "execute_result",
          "data": {
            "text/plain": [
              "True"
            ]
          },
          "metadata": {
            "tags": []
          },
          "execution_count": 14
        }
      ]
    },
    {
      "cell_type": "code",
      "metadata": {
        "id": "7cc2Jsjd3wHS",
        "colab_type": "code",
        "colab": {}
      },
      "source": [
        "from nltk.corpus import stopwords"
      ],
      "execution_count": 0,
      "outputs": []
    },
    {
      "cell_type": "code",
      "metadata": {
        "id": "CD9MxL2_3fth",
        "colab_type": "code",
        "colab": {}
      },
      "source": [
        "stop = list(stopwords.words('english'))"
      ],
      "execution_count": 0,
      "outputs": []
    },
    {
      "cell_type": "code",
      "metadata": {
        "id": "8UMYE6vl3tnm",
        "colab_type": "code",
        "colab": {}
      },
      "source": [
        "my = category_id_df.variety.to_list()"
      ],
      "execution_count": 0,
      "outputs": []
    },
    {
      "cell_type": "code",
      "metadata": {
        "id": "AHKGkKWZ5Rh3",
        "colab_type": "code",
        "colab": {}
      },
      "source": [
        "mylist = [] \n",
        "for w in my:\n",
        "  lis=w.split()\n",
        "  for l in lis:\n",
        "    mylist.append(l.lower())"
      ],
      "execution_count": 0,
      "outputs": []
    },
    {
      "cell_type": "code",
      "metadata": {
        "id": "Eh3Ig37L5thh",
        "colab_type": "code",
        "colab": {}
      },
      "source": [
        "stop.extend(mylist)"
      ],
      "execution_count": 0,
      "outputs": []
    },
    {
      "cell_type": "code",
      "metadata": {
        "id": "v5nkFCXv6LTO",
        "colab_type": "code",
        "outputId": "79922898-898d-4bc1-b8e8-d3e2acc03d46",
        "colab": {
          "base_uri": "https://localhost:8080/",
          "height": 1000
        }
      },
      "source": [
        "stop=set(stop)\n",
        "stop"
      ],
      "execution_count": 0,
      "outputs": [
        {
          "output_type": "execute_result",
          "data": {
            "text/plain": [
              "{'a',\n",
              " 'about',\n",
              " 'above',\n",
              " 'after',\n",
              " 'again',\n",
              " 'against',\n",
              " 'ain',\n",
              " 'all',\n",
              " 'am',\n",
              " 'an',\n",
              " 'and',\n",
              " 'any',\n",
              " 'are',\n",
              " 'aren',\n",
              " \"aren't\",\n",
              " 'as',\n",
              " 'at',\n",
              " 'be',\n",
              " 'because',\n",
              " 'been',\n",
              " 'before',\n",
              " 'being',\n",
              " 'below',\n",
              " 'between',\n",
              " 'blanc',\n",
              " 'blend',\n",
              " 'bordeaux-style',\n",
              " 'both',\n",
              " 'but',\n",
              " 'by',\n",
              " 'cabernet',\n",
              " 'can',\n",
              " 'champagne',\n",
              " 'chardonnay',\n",
              " 'couldn',\n",
              " \"couldn't\",\n",
              " 'd',\n",
              " 'did',\n",
              " 'didn',\n",
              " \"didn't\",\n",
              " 'do',\n",
              " 'does',\n",
              " 'doesn',\n",
              " \"doesn't\",\n",
              " 'doing',\n",
              " 'don',\n",
              " \"don't\",\n",
              " 'down',\n",
              " 'during',\n",
              " 'each',\n",
              " 'few',\n",
              " 'for',\n",
              " 'franc',\n",
              " 'from',\n",
              " 'further',\n",
              " 'gamay',\n",
              " 'gewürztraminer',\n",
              " 'grigio',\n",
              " 'gris',\n",
              " 'grüner',\n",
              " 'had',\n",
              " 'hadn',\n",
              " \"hadn't\",\n",
              " 'has',\n",
              " 'hasn',\n",
              " \"hasn't\",\n",
              " 'have',\n",
              " 'haven',\n",
              " \"haven't\",\n",
              " 'having',\n",
              " 'he',\n",
              " 'her',\n",
              " 'here',\n",
              " 'hers',\n",
              " 'herself',\n",
              " 'him',\n",
              " 'himself',\n",
              " 'his',\n",
              " 'how',\n",
              " 'i',\n",
              " 'if',\n",
              " 'in',\n",
              " 'into',\n",
              " 'is',\n",
              " 'isn',\n",
              " \"isn't\",\n",
              " 'it',\n",
              " \"it's\",\n",
              " 'its',\n",
              " 'itself',\n",
              " 'just',\n",
              " 'll',\n",
              " 'm',\n",
              " 'ma',\n",
              " 'malbec',\n",
              " 'me',\n",
              " 'merlot',\n",
              " 'mightn',\n",
              " \"mightn't\",\n",
              " 'more',\n",
              " 'most',\n",
              " 'mustn',\n",
              " \"mustn't\",\n",
              " 'my',\n",
              " 'myself',\n",
              " 'nebbiolo',\n",
              " 'needn',\n",
              " \"needn't\",\n",
              " 'no',\n",
              " 'noir',\n",
              " 'nor',\n",
              " 'not',\n",
              " 'now',\n",
              " 'o',\n",
              " 'of',\n",
              " 'off',\n",
              " 'on',\n",
              " 'once',\n",
              " 'only',\n",
              " 'or',\n",
              " 'other',\n",
              " 'our',\n",
              " 'ours',\n",
              " 'ourselves',\n",
              " 'out',\n",
              " 'over',\n",
              " 'own',\n",
              " 'pinot',\n",
              " 'portuguese',\n",
              " 're',\n",
              " 'red',\n",
              " 'rhône-style',\n",
              " 'riesling',\n",
              " 'rosé',\n",
              " 's',\n",
              " 'same',\n",
              " 'sangiovese',\n",
              " 'sauvignon',\n",
              " 'shan',\n",
              " \"shan't\",\n",
              " 'she',\n",
              " \"she's\",\n",
              " 'should',\n",
              " \"should've\",\n",
              " 'shouldn',\n",
              " \"shouldn't\",\n",
              " 'so',\n",
              " 'some',\n",
              " 'sparkling',\n",
              " 'such',\n",
              " 'syrah',\n",
              " 't',\n",
              " 'tempranillo',\n",
              " 'than',\n",
              " 'that',\n",
              " \"that'll\",\n",
              " 'the',\n",
              " 'their',\n",
              " 'theirs',\n",
              " 'them',\n",
              " 'themselves',\n",
              " 'then',\n",
              " 'there',\n",
              " 'these',\n",
              " 'they',\n",
              " 'this',\n",
              " 'those',\n",
              " 'through',\n",
              " 'to',\n",
              " 'too',\n",
              " 'under',\n",
              " 'until',\n",
              " 'up',\n",
              " 've',\n",
              " 'veltliner',\n",
              " 'very',\n",
              " 'was',\n",
              " 'wasn',\n",
              " \"wasn't\",\n",
              " 'we',\n",
              " 'were',\n",
              " 'weren',\n",
              " \"weren't\",\n",
              " 'what',\n",
              " 'when',\n",
              " 'where',\n",
              " 'which',\n",
              " 'while',\n",
              " 'white',\n",
              " 'who',\n",
              " 'whom',\n",
              " 'why',\n",
              " 'will',\n",
              " 'with',\n",
              " 'won',\n",
              " \"won't\",\n",
              " 'wouldn',\n",
              " \"wouldn't\",\n",
              " 'y',\n",
              " 'you',\n",
              " \"you'd\",\n",
              " \"you'll\",\n",
              " \"you're\",\n",
              " \"you've\",\n",
              " 'your',\n",
              " 'yours',\n",
              " 'yourself',\n",
              " 'yourselves',\n",
              " 'zinfandel'}"
            ]
          },
          "metadata": {
            "tags": []
          },
          "execution_count": 33
        }
      ]
    },
    {
      "cell_type": "code",
      "metadata": {
        "id": "D3JmBjrHemgl",
        "colab_type": "code",
        "colab": {}
      },
      "source": [
        "tfidf=TfidfVectorizer( sublinear_tf=True,min_df=10,norm='l2',ngram_range=(1,2),stop_words=stop)"
      ],
      "execution_count": 0,
      "outputs": []
    },
    {
      "cell_type": "code",
      "metadata": {
        "id": "YvVg8f7qfZbt",
        "colab_type": "code",
        "outputId": "1fe65931-1b28-42d0-98ad-d3a3cfabdaf0",
        "colab": {
          "base_uri": "https://localhost:8080/",
          "height": 255
        }
      },
      "source": [
        "tfidf"
      ],
      "execution_count": 0,
      "outputs": [
        {
          "output_type": "execute_result",
          "data": {
            "text/plain": [
              "TfidfVectorizer(analyzer='word', binary=False, decode_error='strict',\n",
              "                dtype=<class 'numpy.float64'>, encoding='utf-8',\n",
              "                input='content', lowercase=True, max_df=1.0, max_features=None,\n",
              "                min_df=10, ngram_range=(1, 2), norm='l2', preprocessor=None,\n",
              "                smooth_idf=True,\n",
              "                stop_words={'a', 'about', 'above', 'after', 'again', 'against',\n",
              "                            'ain', 'all', 'am', 'an', 'and', 'any', 'are',\n",
              "                            'aren', \"aren't\", 'as', 'at', 'be', 'because',\n",
              "                            'been', 'before', 'being', 'below', 'between',\n",
              "                            'blanc', 'blend', 'bordeaux-style', 'both', 'but',\n",
              "                            'by', ...},\n",
              "                strip_accents=None, sublinear_tf=True,\n",
              "                token_pattern='(?u)\\\\b\\\\w\\\\w+\\\\b', tokenizer=None, use_idf=True,\n",
              "                vocabulary=None)"
            ]
          },
          "metadata": {
            "tags": []
          },
          "execution_count": 35
        }
      ]
    },
    {
      "cell_type": "code",
      "metadata": {
        "id": "bS3W8R6GgI52",
        "colab_type": "code",
        "outputId": "6456e976-9dd5-482a-9344-322b14538d20",
        "colab": {
          "base_uri": "https://localhost:8080/",
          "height": 71
        }
      },
      "source": [
        "features = tfidf.fit_transform(df.review_title)"
      ],
      "execution_count": 0,
      "outputs": [
        {
          "output_type": "stream",
          "text": [
            "/usr/local/lib/python3.6/dist-packages/sklearn/feature_extraction/text.py:385: UserWarning: Your stop_words may be inconsistent with your preprocessing. Tokenizing the stop words generated tokens ['bordeaux', 'rhône', 'style'] not in stop_words.\n",
            "  'stop_words.' % sorted(inconsistent))\n"
          ],
          "name": "stderr"
        }
      ]
    },
    {
      "cell_type": "code",
      "metadata": {
        "id": "3qI8qZpQgNyv",
        "colab_type": "code",
        "outputId": "1f28a974-0ddf-4d6d-8c89-af375301ec51",
        "colab": {
          "base_uri": "https://localhost:8080/",
          "height": 34
        }
      },
      "source": [
        "features.shape"
      ],
      "execution_count": 0,
      "outputs": [
        {
          "output_type": "execute_result",
          "data": {
            "text/plain": [
              "(41319, 5312)"
            ]
          },
          "metadata": {
            "tags": []
          },
          "execution_count": 37
        }
      ]
    },
    {
      "cell_type": "code",
      "metadata": {
        "id": "fTZM6dQBgair",
        "colab_type": "code",
        "colab": {}
      },
      "source": [
        "features=features.toarray()"
      ],
      "execution_count": 0,
      "outputs": []
    },
    {
      "cell_type": "code",
      "metadata": {
        "id": "l9L4mzGCg3wP",
        "colab_type": "code",
        "colab": {}
      },
      "source": [
        "labels=df.category_id"
      ],
      "execution_count": 0,
      "outputs": []
    },
    {
      "cell_type": "code",
      "metadata": {
        "id": "at3_1FFdgtF_",
        "colab_type": "code",
        "outputId": "4612d509-c46a-4434-f27b-feb5c242f577",
        "colab": {
          "base_uri": "https://localhost:8080/",
          "height": 1000
        }
      },
      "source": [
        "from sklearn.feature_selection import chi2\n",
        "import numpy as np\n",
        "N = 2\n",
        "for variety, category_id in sorted(category_to_id.items()):\n",
        "  features_chi2 = chi2(features, labels == category_id)\n",
        "  indices = np.argsort(features_chi2[0])\n",
        "  feature_names = np.array(tfidf.get_feature_names())[indices]\n",
        "  unigrams = [v for v in feature_names if len(v.split(' ')) == 1]\n",
        "  bigrams = [v for v in feature_names if len(v.split(' ')) == 2]\n",
        "  print(\"# '{}':\".format(variety))\n",
        "  print(\"  . Most correlated unigrams:\\n. {}\".format('\\n. '.join(unigrams[-N:])))\n",
        "  print(\"  . Most correlated bigrams:\\n. {}\".format('\\n. '.join(bigrams[-N:])))"
      ],
      "execution_count": 0,
      "outputs": [
        {
          "output_type": "stream",
          "text": [
            "# 'Bordeaux-style Red Blend':\n",
            "  . Most correlated unigrams:\n",
            ". médoc\n",
            ". château\n",
            "  . Most correlated bigrams:\n",
            ". de bordeaux\n",
            ". saint émilion\n",
            "# 'Bordeaux-style White Blend':\n",
            "  . Most correlated unigrams:\n",
            ". barsac\n",
            ". sauternes\n",
            "  . Most correlated bigrams:\n",
            ". sample sauternes\n",
            ". 2016 bordeaux\n",
            "# 'Cabernet Franc':\n",
            "  . Most correlated unigrams:\n",
            ". bourgueil\n",
            ". chinon\n",
            "  . Most correlated bigrams:\n",
            ". saint nicolas\n",
            ". de bourgueil\n",
            "# 'Cabernet Sauvignon':\n",
            "  . Most correlated unigrams:\n",
            ". oakville\n",
            ". napa\n",
            "  . Most correlated bigrams:\n",
            ". alexander valley\n",
            ". napa valley\n",
            "# 'Champagne Blend':\n",
            "  . Most correlated unigrams:\n",
            ". nv\n",
            ". brut\n",
            "  . Most correlated bigrams:\n",
            ". cru brut\n",
            ". nv brut\n",
            "# 'Chardonnay':\n",
            "  . Most correlated unigrams:\n",
            ". fuissé\n",
            ". chablis\n",
            "  . Most correlated bigrams:\n",
            ". cru chablis\n",
            ". pouilly fuissé\n",
            "# 'Gamay':\n",
            "  . Most correlated unigrams:\n",
            ". morgon\n",
            ". beaujolais\n",
            "  . Most correlated bigrams:\n",
            ". georges duboeuf\n",
            ". beaujolais villages\n",
            "# 'Gewürztraminer':\n",
            "  . Most correlated unigrams:\n",
            ". alsace\n",
            ". gewurztraminer\n",
            "  . Most correlated bigrams:\n",
            ". cru gewurztraminer\n",
            ". gewurztraminer alsace\n",
            "# 'Grüner Veltliner':\n",
            "  . Most correlated unigrams:\n",
            ". kamptal\n",
            ". niederösterreich\n",
            "  . Most correlated bigrams:\n",
            ". reserve weinviertel\n",
            ". reserve kamptal\n",
            "# 'Malbec':\n",
            "  . Most correlated unigrams:\n",
            ". cahors\n",
            ". mendoza\n",
            "  . Most correlated bigrams:\n",
            ". reserva mendoza\n",
            ". uco valley\n",
            "# 'Merlot':\n",
            "  . Most correlated unigrams:\n",
            ". wa\n",
            ". duckhorn\n",
            "  . Most correlated bigrams:\n",
            ". rapel valley\n",
            ". valley wa\n",
            "# 'Nebbiolo':\n",
            "  . Most correlated unigrams:\n",
            ". barbaresco\n",
            ". barolo\n",
            "  . Most correlated bigrams:\n",
            ". riserva barbaresco\n",
            ". riserva barolo\n",
            "# 'Pinot Grigio':\n",
            "  . Most correlated unigrams:\n",
            ". adige\n",
            ". friuli\n",
            "  . Most correlated bigrams:\n",
            ". friuli grave\n",
            ". alto adige\n",
            "# 'Pinot Gris':\n",
            "  . Most correlated unigrams:\n",
            ". willamette\n",
            ". alsace\n",
            "  . Most correlated bigrams:\n",
            ". willamette valley\n",
            ". cru alsace\n",
            "# 'Pinot Noir':\n",
            "  . Most correlated unigrams:\n",
            ". russian\n",
            ". willamette\n",
            "  . Most correlated bigrams:\n",
            ". sonoma coast\n",
            ". willamette valley\n",
            "# 'Portuguese Red':\n",
            "  . Most correlated unigrams:\n",
            ". quinta\n",
            ". douro\n",
            "  . Most correlated bigrams:\n",
            ". tinto douro\n",
            ". reserva douro\n",
            "# 'Portuguese White':\n",
            "  . Most correlated unigrams:\n",
            ". vinho\n",
            ". branco\n",
            "  . Most correlated bigrams:\n",
            ". vinho verde\n",
            ". branco douro\n",
            "# 'Red Blend':\n",
            "  . Most correlated unigrams:\n",
            ". valpolicella\n",
            ". toscana\n",
            "  . Most correlated bigrams:\n",
            ". amarone della\n",
            ". della valpolicella\n",
            "# 'Rhône-style Red Blend':\n",
            "  . Most correlated unigrams:\n",
            ". rhône\n",
            ". châteauneuf\n",
            "  . Most correlated bigrams:\n",
            ". du pape\n",
            ". châteauneuf du\n",
            "# 'Riesling':\n",
            "  . Most correlated unigrams:\n",
            ". kabinett\n",
            ". mosel\n",
            "  . Most correlated bigrams:\n",
            ". dry finger\n",
            ". kabinett mosel\n",
            "# 'Rosé':\n",
            "  . Most correlated unigrams:\n",
            ". côtes\n",
            ". provence\n",
            "  . Most correlated bigrams:\n",
            ". côtes de\n",
            ". de provence\n",
            "# 'Sangiovese':\n",
            "  . Most correlated unigrams:\n",
            ". brunello\n",
            ". montalcino\n",
            "  . Most correlated bigrams:\n",
            ". brunello di\n",
            ". di montalcino\n",
            "# 'Sauvignon Blanc':\n",
            "  . Most correlated unigrams:\n",
            ". marlborough\n",
            ". sancerre\n",
            "  . Most correlated bigrams:\n",
            ". leyda valley\n",
            ". pouilly fumé\n",
            "# 'Sparkling Blend':\n",
            "  . Most correlated unigrams:\n",
            ". brut\n",
            ". cava\n",
            "  . Most correlated bigrams:\n",
            ". crémant alsace\n",
            ". brut cava\n",
            "# 'Syrah':\n",
            "  . Most correlated unigrams:\n",
            ". ballard\n",
            ". walla\n",
            "  . Most correlated bigrams:\n",
            ". walla valley\n",
            ". ballard canyon\n",
            "# 'Tempranillo':\n",
            "  . Most correlated unigrams:\n",
            ". duero\n",
            ". rioja\n",
            "  . Most correlated bigrams:\n",
            ". ribera del\n",
            ". del duero\n",
            "# 'White Blend':\n",
            "  . Most correlated unigrams:\n",
            ". soave\n",
            ". bianco\n",
            "  . Most correlated bigrams:\n",
            ". orvieto classico\n",
            ". bianco etna\n",
            "# 'Zinfandel':\n",
            "  . Most correlated unigrams:\n",
            ". vine\n",
            ". old\n",
            "  . Most correlated bigrams:\n",
            ". creek valley\n",
            ". dry creek\n"
          ],
          "name": "stdout"
        }
      ]
    },
    {
      "cell_type": "code",
      "metadata": {
        "id": "SiiMK71KgzsH",
        "colab_type": "code",
        "outputId": "797a9b4b-2bb2-45b7-9039-8c4fce73be35",
        "colab": {
          "base_uri": "https://localhost:8080/",
          "height": 348
        }
      },
      "source": [
        "from sklearn.linear_model import LogisticRegression\n",
        "from sklearn.ensemble import RandomForestClassifier\n",
        "from sklearn.svm import LinearSVC\n",
        "from sklearn.naive_bayes import MultinomialNB\n",
        "from sklearn.model_selection import cross_val_score\n",
        "models = [\n",
        "    LinearSVC(verbose=1),\n",
        "    MultinomialNB(),\n",
        "]\n",
        "CV = 5\n",
        "cv_df = pd.DataFrame(index=range(CV * len(models)))\n",
        "entries = []\n",
        "for model in models:\n",
        "  model_name = model.__class__.__name__\n",
        "  print(\"Started Training {}\".format(model_name))\n",
        "  accuracies = cross_val_score(model, features, labels, scoring='accuracy', cv=CV)\n",
        "  for fold_idx, accuracy in enumerate(accuracies):\n",
        "    entries.append((model_name, fold_idx, accuracy))\n",
        "  print(\"Completed Training {}\".format(model_name))\n",
        "cv_df = pd.DataFrame(entries, columns=['model_name', 'fold_idx', 'accuracy'])\n",
        "import seaborn as sns\n",
        "sns.boxplot(x='model_name', y='accuracy', data=cv_df)\n",
        "sns.stripplot(x='model_name', y='accuracy', data=cv_df, \n",
        "              size=8, jitter=True, edgecolor=\"gray\", linewidth=2)\n",
        "plt.show()"
      ],
      "execution_count": 0,
      "outputs": [
        {
          "output_type": "stream",
          "text": [
            "Started Training LinearSVC\n",
            "[LibLinear][LibLinear][LibLinear][LibLinear][LibLinear]Completed Training LinearSVC\n",
            "Started Training MultinomialNB\n",
            "Completed Training MultinomialNB\n"
          ],
          "name": "stdout"
        },
        {
          "output_type": "display_data",
          "data": {
            "image/png": "[encoded data removed]",
            "text/plain": [
              "<Figure size 432x288 with 1 Axes>"
            ]
          },
          "metadata": {
            "tags": [],
            "needs_background": "light"
          }
        }
      ]
    },
    {
      "cell_type": "code",
      "metadata": {
        "id": "F9uma0FihT3J",
        "colab_type": "code",
        "outputId": "b1b98e52-e936-4db5-c378-63fbe8d86338",
        "colab": {
          "base_uri": "https://localhost:8080/",
          "height": 85
        }
      },
      "source": [
        "cv_df.groupby('model_name').accuracy.mean()"
      ],
      "execution_count": 0,
      "outputs": [
        {
          "output_type": "execute_result",
          "data": {
            "text/plain": [
              "model_name\n",
              "LinearSVC        0.585082\n",
              "MultinomialNB    0.540841\n",
              "Name: accuracy, dtype: float64"
            ]
          },
          "metadata": {
            "tags": []
          },
          "execution_count": 42
        }
      ]
    },
    {
      "cell_type": "code",
      "metadata": {
        "id": "DnhbB0v-h2fa",
        "colab_type": "code",
        "outputId": "f93a74ec-67e9-4e05-9a48-d8709d16a15b",
        "colab": {
          "base_uri": "https://localhost:8080/",
          "height": 1000
        }
      },
      "source": [
        "from sklearn.model_selection import train_test_split\n",
        "model = LinearSVC()\n",
        "X_train, X_test, y_train, y_test, indices_train, indices_test = train_test_split(features, labels, df.index, test_size=0.33, random_state=0)\n",
        "model.fit(X_train, y_train)\n",
        "y_pred = model.predict(X_test)\n",
        "from sklearn.metrics import confusion_matrix\n",
        "conf_mat = confusion_matrix(y_test, y_pred)\n",
        "fig, ax = plt.subplots(figsize=(15,15))\n",
        "sns.heatmap(conf_mat, annot=True, fmt='d',\n",
        "            xticklabels=category_id_df.variety.values, yticklabels=category_id_df.variety.values)\n",
        "plt.ylabel('Actual')\n",
        "plt.xlabel('Predicted')\n",
        "plt.show()\n"
      ],
      "execution_count": 0,
      "outputs": [
        {
          "output_type": "display_data",
          "data": {
            "image/png": "[encoded data removed]",
            "text/plain": [
              "<Figure size 1080x1080 with 2 Axes>"
            ]
          },
          "metadata": {
            "tags": [],
            "needs_background": "light"
          }
        }
      ]
    },
    {
      "cell_type": "code",
      "metadata": {
        "id": "Frf_7DmziGfm",
        "colab_type": "code",
        "outputId": "01d0ba88-16a9-4238-970c-f67e300cfdeb",
        "colab": {
          "base_uri": "https://localhost:8080/",
          "height": 1000
        }
      },
      "source": [
        "from IPython.display import display\n",
        "for predicted in category_id_df.category_id:\n",
        "  for actual in category_id_df.category_id:\n",
        "    if predicted != actual and conf_mat[actual, predicted] >= 100:\n",
        "      print(\"'{}' predicted as '{}' : {} examples.\".format(id_to_category[actual], id_to_category[predicted], conf_mat[actual, predicted]))\n",
        "      display(df.loc[indices_test[(y_test == actual) & (y_pred == predicted)]][['variety', 'review_title']])\n",
        "      print('')"
      ],
      "execution_count": 0,
      "outputs": [
        {
          "output_type": "stream",
          "text": [
            "'Chardonnay' predicted as 'Pinot Noir' : 380 examples.\n"
          ],
          "name": "stdout"
        },
        {
          "output_type": "display_data",
          "data": {
            "text/html": [
              "<div>\n",
              "<style scoped>\n",
              "    .dataframe tbody tr th:only-of-type {\n",
              "        vertical-align: middle;\n",
              "    }\n",
              "\n",
              "    .dataframe tbody tr th {\n",
              "        vertical-align: top;\n",
              "    }\n",
              "\n",
              "    .dataframe thead th {\n",
              "        text-align: right;\n",
              "    }\n",
              "</style>\n",
              "<table border=\"1\" class=\"dataframe\">\n",
              "  <thead>\n",
              "    <tr style=\"text-align: right;\">\n",
              "      <th></th>\n",
              "      <th>variety</th>\n",
              "      <th>review_title</th>\n",
              "    </tr>\n",
              "  </thead>\n",
              "  <tbody>\n",
              "    <tr>\n",
              "      <th>14086</th>\n",
              "      <td>Chardonnay</td>\n",
              "      <td>Felton Road 2008 Block 2 Chardonnay (Central O...</td>\n",
              "    </tr>\n",
              "    <tr>\n",
              "      <th>28466</th>\n",
              "      <td>Chardonnay</td>\n",
              "      <td>Thomas Henry 2010 Chardonnay (Napa County)</td>\n",
              "    </tr>\n",
              "    <tr>\n",
              "      <th>6768</th>\n",
              "      <td>Chardonnay</td>\n",
              "      <td>Kynsi 2006 Edna Ranch Vineyard Chardonnay (Edn...</td>\n",
              "    </tr>\n",
              "    <tr>\n",
              "      <th>13839</th>\n",
              "      <td>Chardonnay</td>\n",
              "      <td>Vinum 2015 Chardonnay (Monterey)</td>\n",
              "    </tr>\n",
              "    <tr>\n",
              "      <th>36136</th>\n",
              "      <td>Chardonnay</td>\n",
              "      <td>Davis Bynum 2007 Chardonnay (Russian River Val...</td>\n",
              "    </tr>\n",
              "    <tr>\n",
              "      <th>...</th>\n",
              "      <td>...</td>\n",
              "      <td>...</td>\n",
              "    </tr>\n",
              "    <tr>\n",
              "      <th>23698</th>\n",
              "      <td>Chardonnay</td>\n",
              "      <td>Kessler-Haak 2012 Chardonnay (Sta. Rita Hills)</td>\n",
              "    </tr>\n",
              "    <tr>\n",
              "      <th>31815</th>\n",
              "      <td>Chardonnay</td>\n",
              "      <td>Fernz 2009 Chardonnay (Marlborough)</td>\n",
              "    </tr>\n",
              "    <tr>\n",
              "      <th>9778</th>\n",
              "      <td>Chardonnay</td>\n",
              "      <td>Sea Smoke 2014 Chardonnay (Sta. Rita Hills)</td>\n",
              "    </tr>\n",
              "    <tr>\n",
              "      <th>25290</th>\n",
              "      <td>Chardonnay</td>\n",
              "      <td>Lucas &amp; Lewellen 2015 Chardonnay (Santa Barbar...</td>\n",
              "    </tr>\n",
              "    <tr>\n",
              "      <th>4320</th>\n",
              "      <td>Chardonnay</td>\n",
              "      <td>Raptor Ridge 2015 Gran Moraine Vineyard Chardo...</td>\n",
              "    </tr>\n",
              "  </tbody>\n",
              "</table>\n",
              "<p>380 rows × 2 columns</p>\n",
              "</div>"
            ],
            "text/plain": [
              "          variety                                       review_title\n",
              "14086  Chardonnay  Felton Road 2008 Block 2 Chardonnay (Central O...\n",
              "28466  Chardonnay         Thomas Henry 2010 Chardonnay (Napa County)\n",
              "6768   Chardonnay  Kynsi 2006 Edna Ranch Vineyard Chardonnay (Edn...\n",
              "13839  Chardonnay                   Vinum 2015 Chardonnay (Monterey)\n",
              "36136  Chardonnay  Davis Bynum 2007 Chardonnay (Russian River Val...\n",
              "...           ...                                                ...\n",
              "23698  Chardonnay     Kessler-Haak 2012 Chardonnay (Sta. Rita Hills)\n",
              "31815  Chardonnay                Fernz 2009 Chardonnay (Marlborough)\n",
              "9778   Chardonnay        Sea Smoke 2014 Chardonnay (Sta. Rita Hills)\n",
              "25290  Chardonnay  Lucas & Lewellen 2015 Chardonnay (Santa Barbar...\n",
              "4320   Chardonnay  Raptor Ridge 2015 Gran Moraine Vineyard Chardo...\n",
              "\n",
              "[380 rows x 2 columns]"
            ]
          },
          "metadata": {
            "tags": []
          }
        },
        {
          "output_type": "stream",
          "text": [
            "\n",
            "'Pinot Noir' predicted as 'Chardonnay' : 209 examples.\n"
          ],
          "name": "stdout"
        },
        {
          "output_type": "display_data",
          "data": {
            "text/html": [
              "<div>\n",
              "<style scoped>\n",
              "    .dataframe tbody tr th:only-of-type {\n",
              "        vertical-align: middle;\n",
              "    }\n",
              "\n",
              "    .dataframe tbody tr th {\n",
              "        vertical-align: top;\n",
              "    }\n",
              "\n",
              "    .dataframe thead th {\n",
              "        text-align: right;\n",
              "    }\n",
              "</style>\n",
              "<table border=\"1\" class=\"dataframe\">\n",
              "  <thead>\n",
              "    <tr style=\"text-align: right;\">\n",
              "      <th></th>\n",
              "      <th>variety</th>\n",
              "      <th>review_title</th>\n",
              "    </tr>\n",
              "  </thead>\n",
              "  <tbody>\n",
              "    <tr>\n",
              "      <th>19923</th>\n",
              "      <td>Pinot Noir</td>\n",
              "      <td>Domaine Serene 2013 Jerusalem Hill Vineyard Pi...</td>\n",
              "    </tr>\n",
              "    <tr>\n",
              "      <th>12408</th>\n",
              "      <td>Pinot Noir</td>\n",
              "      <td>Faiveley 2005 La Framboisière  (Mercurey)</td>\n",
              "    </tr>\n",
              "    <tr>\n",
              "      <th>31806</th>\n",
              "      <td>Pinot Noir</td>\n",
              "      <td>Roth 2009 Pinot Noir (Sonoma Coast)</td>\n",
              "    </tr>\n",
              "    <tr>\n",
              "      <th>31912</th>\n",
              "      <td>Pinot Noir</td>\n",
              "      <td>El Lugar 2015 Bien Nacido Vineyard Pinot Noir ...</td>\n",
              "    </tr>\n",
              "    <tr>\n",
              "      <th>38335</th>\n",
              "      <td>Pinot Noir</td>\n",
              "      <td>Artesa 2006 Reserve Pinot Noir (Carneros)</td>\n",
              "    </tr>\n",
              "    <tr>\n",
              "      <th>...</th>\n",
              "      <td>...</td>\n",
              "      <td>...</td>\n",
              "    </tr>\n",
              "    <tr>\n",
              "      <th>36936</th>\n",
              "      <td>Pinot Noir</td>\n",
              "      <td>Jeriko 2011 Dijon Clone Pinot Noir (Mendocino)</td>\n",
              "    </tr>\n",
              "    <tr>\n",
              "      <th>27185</th>\n",
              "      <td>Pinot Noir</td>\n",
              "      <td>Wild Oats 2013 Pinot Noir (Edna Valley)</td>\n",
              "    </tr>\n",
              "    <tr>\n",
              "      <th>1866</th>\n",
              "      <td>Pinot Noir</td>\n",
              "      <td>Vista Hills 2014 Heritage Reserve Pinot Noir (...</td>\n",
              "    </tr>\n",
              "    <tr>\n",
              "      <th>24195</th>\n",
              "      <td>Pinot Noir</td>\n",
              "      <td>Uptick Vineyards 2011 Estate Pinot Noir (Russi...</td>\n",
              "    </tr>\n",
              "    <tr>\n",
              "      <th>40091</th>\n",
              "      <td>Pinot Noir</td>\n",
              "      <td>Domaine Serene 2012 Two Barns Pinot Noir (Dund...</td>\n",
              "    </tr>\n",
              "  </tbody>\n",
              "</table>\n",
              "<p>209 rows × 2 columns</p>\n",
              "</div>"
            ],
            "text/plain": [
              "          variety                                       review_title\n",
              "19923  Pinot Noir  Domaine Serene 2013 Jerusalem Hill Vineyard Pi...\n",
              "12408  Pinot Noir          Faiveley 2005 La Framboisière  (Mercurey)\n",
              "31806  Pinot Noir                Roth 2009 Pinot Noir (Sonoma Coast)\n",
              "31912  Pinot Noir  El Lugar 2015 Bien Nacido Vineyard Pinot Noir ...\n",
              "38335  Pinot Noir          Artesa 2006 Reserve Pinot Noir (Carneros)\n",
              "...           ...                                                ...\n",
              "36936  Pinot Noir     Jeriko 2011 Dijon Clone Pinot Noir (Mendocino)\n",
              "27185  Pinot Noir            Wild Oats 2013 Pinot Noir (Edna Valley)\n",
              "1866   Pinot Noir  Vista Hills 2014 Heritage Reserve Pinot Noir (...\n",
              "24195  Pinot Noir  Uptick Vineyards 2011 Estate Pinot Noir (Russi...\n",
              "40091  Pinot Noir  Domaine Serene 2012 Two Barns Pinot Noir (Dund...\n",
              "\n",
              "[209 rows x 2 columns]"
            ]
          },
          "metadata": {
            "tags": []
          }
        },
        {
          "output_type": "stream",
          "text": [
            "\n",
            "'Cabernet Sauvignon' predicted as 'Chardonnay' : 101 examples.\n"
          ],
          "name": "stdout"
        },
        {
          "output_type": "display_data",
          "data": {
            "text/html": [
              "<div>\n",
              "<style scoped>\n",
              "    .dataframe tbody tr th:only-of-type {\n",
              "        vertical-align: middle;\n",
              "    }\n",
              "\n",
              "    .dataframe tbody tr th {\n",
              "        vertical-align: top;\n",
              "    }\n",
              "\n",
              "    .dataframe thead th {\n",
              "        text-align: right;\n",
              "    }\n",
              "</style>\n",
              "<table border=\"1\" class=\"dataframe\">\n",
              "  <thead>\n",
              "    <tr style=\"text-align: right;\">\n",
              "      <th></th>\n",
              "      <th>variety</th>\n",
              "      <th>review_title</th>\n",
              "    </tr>\n",
              "  </thead>\n",
              "  <tbody>\n",
              "    <tr>\n",
              "      <th>34029</th>\n",
              "      <td>Cabernet Sauvignon</td>\n",
              "      <td>Chime 2014 Cabernet Sauvignon (California)</td>\n",
              "    </tr>\n",
              "    <tr>\n",
              "      <th>2124</th>\n",
              "      <td>Cabernet Sauvignon</td>\n",
              "      <td>Barra of Mendocino 2015 Estate Grown Cabernet ...</td>\n",
              "    </tr>\n",
              "    <tr>\n",
              "      <th>22672</th>\n",
              "      <td>Cabernet Sauvignon</td>\n",
              "      <td>Gordon Estate 2014 Cabernet Sauvignon (Columbi...</td>\n",
              "    </tr>\n",
              "    <tr>\n",
              "      <th>32105</th>\n",
              "      <td>Cabernet Sauvignon</td>\n",
              "      <td>Arrowood 2008 Reserve Speciale Cabernet Sauvig...</td>\n",
              "    </tr>\n",
              "    <tr>\n",
              "      <th>6722</th>\n",
              "      <td>Cabernet Sauvignon</td>\n",
              "      <td>Black Stallion 2009 Estate Cabernet Sauvignon ...</td>\n",
              "    </tr>\n",
              "    <tr>\n",
              "      <th>...</th>\n",
              "      <td>...</td>\n",
              "      <td>...</td>\n",
              "    </tr>\n",
              "    <tr>\n",
              "      <th>19602</th>\n",
              "      <td>Cabernet Sauvignon</td>\n",
              "      <td>Edna Valley Vineyard 2011 Cabernet Sauvignon (...</td>\n",
              "    </tr>\n",
              "    <tr>\n",
              "      <th>29396</th>\n",
              "      <td>Cabernet Sauvignon</td>\n",
              "      <td>Ironstone 2012 Cabernet Sauvignon (California)</td>\n",
              "    </tr>\n",
              "    <tr>\n",
              "      <th>38346</th>\n",
              "      <td>Cabernet Sauvignon</td>\n",
              "      <td>Chime 2011 Cabernet Sauvignon (California)</td>\n",
              "    </tr>\n",
              "    <tr>\n",
              "      <th>24169</th>\n",
              "      <td>Cabernet Sauvignon</td>\n",
              "      <td>Michel Torino 2006 Coleccion Cabernet Sauvigno...</td>\n",
              "    </tr>\n",
              "    <tr>\n",
              "      <th>34919</th>\n",
              "      <td>Cabernet Sauvignon</td>\n",
              "      <td>Kenwood 2005 Reserve Cabernet Sauvignon (Sonom...</td>\n",
              "    </tr>\n",
              "  </tbody>\n",
              "</table>\n",
              "<p>101 rows × 2 columns</p>\n",
              "</div>"
            ],
            "text/plain": [
              "                  variety                                       review_title\n",
              "34029  Cabernet Sauvignon         Chime 2014 Cabernet Sauvignon (California)\n",
              "2124   Cabernet Sauvignon  Barra of Mendocino 2015 Estate Grown Cabernet ...\n",
              "22672  Cabernet Sauvignon  Gordon Estate 2014 Cabernet Sauvignon (Columbi...\n",
              "32105  Cabernet Sauvignon  Arrowood 2008 Reserve Speciale Cabernet Sauvig...\n",
              "6722   Cabernet Sauvignon  Black Stallion 2009 Estate Cabernet Sauvignon ...\n",
              "...                   ...                                                ...\n",
              "19602  Cabernet Sauvignon  Edna Valley Vineyard 2011 Cabernet Sauvignon (...\n",
              "29396  Cabernet Sauvignon     Ironstone 2012 Cabernet Sauvignon (California)\n",
              "38346  Cabernet Sauvignon         Chime 2011 Cabernet Sauvignon (California)\n",
              "24169  Cabernet Sauvignon  Michel Torino 2006 Coleccion Cabernet Sauvigno...\n",
              "34919  Cabernet Sauvignon  Kenwood 2005 Reserve Cabernet Sauvignon (Sonom...\n",
              "\n",
              "[101 rows x 2 columns]"
            ]
          },
          "metadata": {
            "tags": []
          }
        },
        {
          "output_type": "stream",
          "text": [
            "\n",
            "'Chardonnay' predicted as 'Cabernet Sauvignon' : 137 examples.\n"
          ],
          "name": "stdout"
        },
        {
          "output_type": "display_data",
          "data": {
            "text/html": [
              "<div>\n",
              "<style scoped>\n",
              "    .dataframe tbody tr th:only-of-type {\n",
              "        vertical-align: middle;\n",
              "    }\n",
              "\n",
              "    .dataframe tbody tr th {\n",
              "        vertical-align: top;\n",
              "    }\n",
              "\n",
              "    .dataframe thead th {\n",
              "        text-align: right;\n",
              "    }\n",
              "</style>\n",
              "<table border=\"1\" class=\"dataframe\">\n",
              "  <thead>\n",
              "    <tr style=\"text-align: right;\">\n",
              "      <th></th>\n",
              "      <th>variety</th>\n",
              "      <th>review_title</th>\n",
              "    </tr>\n",
              "  </thead>\n",
              "  <tbody>\n",
              "    <tr>\n",
              "      <th>29651</th>\n",
              "      <td>Chardonnay</td>\n",
              "      <td>Undurraga 2010 Sibaris Reserva Especial Chardo...</td>\n",
              "    </tr>\n",
              "    <tr>\n",
              "      <th>30750</th>\n",
              "      <td>Chardonnay</td>\n",
              "      <td>Jarvis 2011 Finch Hollow Estate Grown Cave Fer...</td>\n",
              "    </tr>\n",
              "    <tr>\n",
              "      <th>32357</th>\n",
              "      <td>Chardonnay</td>\n",
              "      <td>Stuhlmuller Vineyards 2009 Reserve Chardonnay ...</td>\n",
              "    </tr>\n",
              "    <tr>\n",
              "      <th>39426</th>\n",
              "      <td>Chardonnay</td>\n",
              "      <td>Casa Rivas 2001 Reserva - Estate Bottled Chard...</td>\n",
              "    </tr>\n",
              "    <tr>\n",
              "      <th>3590</th>\n",
              "      <td>Chardonnay</td>\n",
              "      <td>Courtney Benham 2011 Reserve Chardonnay (Napa ...</td>\n",
              "    </tr>\n",
              "    <tr>\n",
              "      <th>...</th>\n",
              "      <td>...</td>\n",
              "      <td>...</td>\n",
              "    </tr>\n",
              "    <tr>\n",
              "      <th>37487</th>\n",
              "      <td>Chardonnay</td>\n",
              "      <td>Concannon 2015 Reserve Chardonnay (Livermore V...</td>\n",
              "    </tr>\n",
              "    <tr>\n",
              "      <th>8598</th>\n",
              "      <td>Chardonnay</td>\n",
              "      <td>Dutcher Crossing 2006 Stuhlmuller Vineyard Cha...</td>\n",
              "    </tr>\n",
              "    <tr>\n",
              "      <th>37090</th>\n",
              "      <td>Chardonnay</td>\n",
              "      <td>Beaulieu Vineyard 2006 Chardonnay (Napa Valley)</td>\n",
              "    </tr>\n",
              "    <tr>\n",
              "      <th>21149</th>\n",
              "      <td>Chardonnay</td>\n",
              "      <td>Gundlach Bundschu 2007 Estate Vineyard Chardon...</td>\n",
              "    </tr>\n",
              "    <tr>\n",
              "      <th>4545</th>\n",
              "      <td>Chardonnay</td>\n",
              "      <td>Dominican Oaks 2013 Chardonnay (Napa Valley)</td>\n",
              "    </tr>\n",
              "  </tbody>\n",
              "</table>\n",
              "<p>137 rows × 2 columns</p>\n",
              "</div>"
            ],
            "text/plain": [
              "          variety                                       review_title\n",
              "29651  Chardonnay  Undurraga 2010 Sibaris Reserva Especial Chardo...\n",
              "30750  Chardonnay  Jarvis 2011 Finch Hollow Estate Grown Cave Fer...\n",
              "32357  Chardonnay  Stuhlmuller Vineyards 2009 Reserve Chardonnay ...\n",
              "39426  Chardonnay  Casa Rivas 2001 Reserva - Estate Bottled Chard...\n",
              "3590   Chardonnay  Courtney Benham 2011 Reserve Chardonnay (Napa ...\n",
              "...           ...                                                ...\n",
              "37487  Chardonnay  Concannon 2015 Reserve Chardonnay (Livermore V...\n",
              "8598   Chardonnay  Dutcher Crossing 2006 Stuhlmuller Vineyard Cha...\n",
              "37090  Chardonnay    Beaulieu Vineyard 2006 Chardonnay (Napa Valley)\n",
              "21149  Chardonnay  Gundlach Bundschu 2007 Estate Vineyard Chardon...\n",
              "4545   Chardonnay       Dominican Oaks 2013 Chardonnay (Napa Valley)\n",
              "\n",
              "[137 rows x 2 columns]"
            ]
          },
          "metadata": {
            "tags": []
          }
        },
        {
          "output_type": "stream",
          "text": [
            "\n",
            "'Merlot' predicted as 'Cabernet Sauvignon' : 148 examples.\n"
          ],
          "name": "stdout"
        },
        {
          "output_type": "display_data",
          "data": {
            "text/html": [
              "<div>\n",
              "<style scoped>\n",
              "    .dataframe tbody tr th:only-of-type {\n",
              "        vertical-align: middle;\n",
              "    }\n",
              "\n",
              "    .dataframe tbody tr th {\n",
              "        vertical-align: top;\n",
              "    }\n",
              "\n",
              "    .dataframe thead th {\n",
              "        text-align: right;\n",
              "    }\n",
              "</style>\n",
              "<table border=\"1\" class=\"dataframe\">\n",
              "  <thead>\n",
              "    <tr style=\"text-align: right;\">\n",
              "      <th></th>\n",
              "      <th>variety</th>\n",
              "      <th>review_title</th>\n",
              "    </tr>\n",
              "  </thead>\n",
              "  <tbody>\n",
              "    <tr>\n",
              "      <th>25459</th>\n",
              "      <td>Merlot</td>\n",
              "      <td>Leaping Lizard 2007 Merlot (Napa Valley)</td>\n",
              "    </tr>\n",
              "    <tr>\n",
              "      <th>10191</th>\n",
              "      <td>Merlot</td>\n",
              "      <td>Obelisco Estate 2009 Reserve Merlot (Red Mount...</td>\n",
              "    </tr>\n",
              "    <tr>\n",
              "      <th>7835</th>\n",
              "      <td>Merlot</td>\n",
              "      <td>Pedestal 2013 Merlot (Columbia Valley (WA))</td>\n",
              "    </tr>\n",
              "    <tr>\n",
              "      <th>23445</th>\n",
              "      <td>Merlot</td>\n",
              "      <td>Viña Casablanca 2012 Nimbus Single Vineyard Me...</td>\n",
              "    </tr>\n",
              "    <tr>\n",
              "      <th>34824</th>\n",
              "      <td>Merlot</td>\n",
              "      <td>Echeverria 2013 Gran Reserva Merlot (Curicó Va...</td>\n",
              "    </tr>\n",
              "    <tr>\n",
              "      <th>...</th>\n",
              "      <td>...</td>\n",
              "      <td>...</td>\n",
              "    </tr>\n",
              "    <tr>\n",
              "      <th>21292</th>\n",
              "      <td>Merlot</td>\n",
              "      <td>Northstar 2010 Merlot (Walla Walla Valley (WA))</td>\n",
              "    </tr>\n",
              "    <tr>\n",
              "      <th>11754</th>\n",
              "      <td>Merlot</td>\n",
              "      <td>Columbia Crest 2006 H3 Merlot (Horse Heaven Hi...</td>\n",
              "    </tr>\n",
              "    <tr>\n",
              "      <th>6888</th>\n",
              "      <td>Merlot</td>\n",
              "      <td>Post House 2007 Merlot (Stellenbosch)</td>\n",
              "    </tr>\n",
              "    <tr>\n",
              "      <th>18974</th>\n",
              "      <td>Merlot</td>\n",
              "      <td>Castillo's Hillside Shire 2014 Merlot (Santa C...</td>\n",
              "    </tr>\n",
              "    <tr>\n",
              "      <th>4833</th>\n",
              "      <td>Merlot</td>\n",
              "      <td>Trentadue 2009 Block 500 Estate Merlot (Alexan...</td>\n",
              "    </tr>\n",
              "  </tbody>\n",
              "</table>\n",
              "<p>148 rows × 2 columns</p>\n",
              "</div>"
            ],
            "text/plain": [
              "      variety                                       review_title\n",
              "25459  Merlot           Leaping Lizard 2007 Merlot (Napa Valley)\n",
              "10191  Merlot  Obelisco Estate 2009 Reserve Merlot (Red Mount...\n",
              "7835   Merlot        Pedestal 2013 Merlot (Columbia Valley (WA))\n",
              "23445  Merlot  Viña Casablanca 2012 Nimbus Single Vineyard Me...\n",
              "34824  Merlot  Echeverria 2013 Gran Reserva Merlot (Curicó Va...\n",
              "...       ...                                                ...\n",
              "21292  Merlot    Northstar 2010 Merlot (Walla Walla Valley (WA))\n",
              "11754  Merlot  Columbia Crest 2006 H3 Merlot (Horse Heaven Hi...\n",
              "6888   Merlot              Post House 2007 Merlot (Stellenbosch)\n",
              "18974  Merlot  Castillo's Hillside Shire 2014 Merlot (Santa C...\n",
              "4833   Merlot  Trentadue 2009 Block 500 Estate Merlot (Alexan...\n",
              "\n",
              "[148 rows x 2 columns]"
            ]
          },
          "metadata": {
            "tags": []
          }
        },
        {
          "output_type": "stream",
          "text": [
            "\n"
          ],
          "name": "stdout"
        }
      ]
    },
    {
      "cell_type": "code",
      "metadata": {
        "id": "qNoaFfCOiWxc",
        "colab_type": "code",
        "outputId": "7393e326-cec5-4bd3-a282-bea02fe0402c",
        "colab": {
          "base_uri": "https://localhost:8080/",
          "height": 1000
        }
      },
      "source": [
        "model.fit(features, labels)\n",
        "N = 2\n",
        "for Product, category_id in sorted(category_to_id.items()):\n",
        "  indices = np.argsort(model.coef_[category_id])\n",
        "  feature_names = np.array(tfidf.get_feature_names())[indices]\n",
        "  unigrams = [v for v in reversed(feature_names) if len(v.split(' ')) == 1][:N]\n",
        "  bigrams = [v for v in reversed(feature_names) if len(v.split(' ')) == 2][:N]\n",
        "  print(\"# '{}':\".format(Product))\n",
        "  print(\"  . Top unigrams:\\n       . {}\".format('\\n       . '.join(unigrams)))\n",
        "  print(\"  . Top bigrams:\\n       . {}\".format('\\n       . '.join(bigrams)))"
      ],
      "execution_count": 0,
      "outputs": [
        {
          "output_type": "stream",
          "text": [
            "# 'Bordeaux-style Red Blend':\n",
            "  . Top unigrams:\n",
            "       . médoc\n",
            "       . pauillac\n",
            "  . Top bigrams:\n",
            "       . bordeaux supérieur\n",
            "       . saint estèphe\n",
            "# 'Bordeaux-style White Blend':\n",
            "  . Top unigrams:\n",
            "       . sauternes\n",
            "       . barsac\n",
            "  . Top bigrams:\n",
            "       . bergerac sec\n",
            "       . 2007 pessac\n",
            "# 'Cabernet Franc':\n",
            "  . Top unigrams:\n",
            "       . chinon\n",
            "       . bourgueil\n",
            "  . Top bigrams:\n",
            "       . reserve carmel\n",
            "       . shenandoah valley\n",
            "# 'Cabernet Sauvignon':\n",
            "  . Top unigrams:\n",
            "       . bully\n",
            "       . papa\n",
            "  . Top bigrams:\n",
            "       . vineyard los\n",
            "       . wine cellars\n",
            "# 'Champagne Blend':\n",
            "  . Top unigrams:\n",
            "       . brut\n",
            "       . deutz\n",
            "  . Top bigrams:\n",
            "       . moët chandon\n",
            "       . louis roederer\n",
            "# 'Chardonnay':\n",
            "  . Top unigrams:\n",
            "       . chablis\n",
            "       . meursault\n",
            "  . Top bigrams:\n",
            "       . saint véran\n",
            "       . ranch sta\n",
            "# 'Gamay':\n",
            "  . Top unigrams:\n",
            "       . morgon\n",
            "       . fleurie\n",
            "  . Top bigrams:\n",
            "       . moulin vent\n",
            "       . saint amour\n",
            "# 'Gewürztraminer':\n",
            "  . Top unigrams:\n",
            "       . gewurztraminer\n",
            "       . fogarty\n",
            "  . Top bigrams:\n",
            "       . gewurztraminer alsace\n",
            "       . thomas fogarty\n",
            "# 'Grüner Veltliner':\n",
            "  . Top unigrams:\n",
            "       . weinviertel\n",
            "       . kamptal\n",
            "  . Top bigrams:\n",
            "       . reben reserve\n",
            "       . 2014 columbia\n",
            "# 'Malbec':\n",
            "  . Top unigrams:\n",
            "       . cahors\n",
            "       . mendoza\n",
            "  . Top bigrams:\n",
            "       . select mendoza\n",
            "       . selection mendoza\n",
            "# 'Merlot':\n",
            "  . Top unigrams:\n",
            "       . clarke\n",
            "       . ballentine\n",
            "  . Top bigrams:\n",
            "       . long island\n",
            "       . château sainte\n",
            "# 'Nebbiolo':\n",
            "  . Top unigrams:\n",
            "       . barolo\n",
            "       . barbaresco\n",
            "  . Top bigrams:\n",
            "       . 2011 bricco\n",
            "       . valtellina superiore\n",
            "# 'Pinot Grigio':\n",
            "  . Top unigrams:\n",
            "       . volpe\n",
            "       . venezie\n",
            "  . Top bigrams:\n",
            "       . 2014 alto\n",
            "       . terra oro\n",
            "# 'Pinot Gris':\n",
            "  . Top unigrams:\n",
            "       . alsace\n",
            "       . turckheim\n",
            "  . Top bigrams:\n",
            "       . 2016 cuvée\n",
            "       . clos saint\n",
            "# 'Pinot Noir':\n",
            "  . Top unigrams:\n",
            "       . chambertin\n",
            "       . pommard\n",
            "  . Top bigrams:\n",
            "       . anderson valley\n",
            "       . brut alsace\n",
            "# 'Portuguese Red':\n",
            "  . Top unigrams:\n",
            "       . alentejano\n",
            "       . douro\n",
            "  . Top bigrams:\n",
            "       . casal branco\n",
            "       . wines 2014\n",
            "# 'Portuguese White':\n",
            "  . Top unigrams:\n",
            "       . branco\n",
            "       . alvarinho\n",
            "  . Top bigrams:\n",
            "       . vinho verde\n",
            "       . branco alentejano\n",
            "# 'Red Blend':\n",
            "  . Top unigrams:\n",
            "       . shiraz\n",
            "       . valpolicella\n",
            "  . Top bigrams:\n",
            "       . 2014 chianti\n",
            "       . wine columbia\n",
            "# 'Rhône-style Red Blend':\n",
            "  . Top unigrams:\n",
            "       . ventoux\n",
            "       . corbières\n",
            "  . Top bigrams:\n",
            "       . du roussillon\n",
            "       . châteauneuf du\n",
            "# 'Riesling':\n",
            "  . Top unigrams:\n",
            "       . mosel\n",
            "       . heiligenstein\n",
            "  . Top bigrams:\n",
            "       . cave spring\n",
            "       . vineyard finger\n",
            "# 'Rosé':\n",
            "  . Top unigrams:\n",
            "       . rosato\n",
            "       . grenache\n",
            "  . Top bigrams:\n",
            "       . de provence\n",
            "       . dry north\n",
            "# 'Sangiovese':\n",
            "  . Top unigrams:\n",
            "       . montalcino\n",
            "       . romagna\n",
            "  . Top bigrams:\n",
            "       . di montalcino\n",
            "       . 2006 chianti\n",
            "# 'Sauvignon Blanc':\n",
            "  . Top unigrams:\n",
            "       . fumé\n",
            "       . sancerre\n",
            "  . Top bigrams:\n",
            "       . selection rapel\n",
            "       . leyda valley\n",
            "# 'Sparkling Blend':\n",
            "  . Top unigrams:\n",
            "       . cava\n",
            "       . crémant\n",
            "  . Top bigrams:\n",
            "       . mumm napa\n",
            "       . 2012 brut\n",
            "# 'Syrah':\n",
            "  . Top unigrams:\n",
            "       . novy\n",
            "       . hermitage\n",
            "  . Top bigrams:\n",
            "       . saint joseph\n",
            "       . terre rouge\n",
            "# 'Tempranillo':\n",
            "  . Top unigrams:\n",
            "       . valdepeñas\n",
            "       . cigales\n",
            "  . Top bigrams:\n",
            "       . la mancha\n",
            "       . reserva rioja\n",
            "# 'White Blend':\n",
            "  . Top unigrams:\n",
            "       . bianco\n",
            "       . viognier\n",
            "  . Top bigrams:\n",
            "       . vin santo\n",
            "       . di san\n",
            "# 'Zinfandel':\n",
            "  . Top unigrams:\n",
            "       . zin\n",
            "       . sausal\n",
            "  . Top bigrams:\n",
            "       . vines sonoma\n",
            "       . old vine\n"
          ],
          "name": "stdout"
        }
      ]
    },
    {
      "cell_type": "code",
      "metadata": {
        "id": "UvVXKutGiwBP",
        "colab_type": "code",
        "outputId": "d9127ea6-99f8-49f7-ee2c-fed65b220b81",
        "colab": {
          "base_uri": "https://localhost:8080/",
          "height": 612
        }
      },
      "source": [
        "from sklearn import metrics\n",
        "print(metrics.classification_report(y_test, y_pred, target_names=df['variety'].unique()))"
      ],
      "execution_count": 0,
      "outputs": [
        {
          "output_type": "stream",
          "text": [
            "                            precision    recall  f1-score   support\n",
            "\n",
            "                      Rosé       0.62      0.49      0.54       459\n",
            "               White Blend       0.47      0.31      0.37       296\n",
            "                     Syrah       0.38      0.34      0.36       546\n",
            "                 Red Blend       0.52      0.61      0.56      1153\n",
            "                 Zinfandel       0.50      0.59      0.55       345\n",
            "  Bordeaux-style Red Blend       0.73      0.72      0.72       876\n",
            "          Grüner Veltliner       0.66      0.77      0.71       183\n",
            "                Pinot Noir       0.62      0.73      0.67      1795\n",
            "                  Riesling       0.69      0.67      0.68       676\n",
            "                Sangiovese       0.78      0.59      0.67       358\n",
            "                Chardonnay       0.52      0.45      0.48      1603\n",
            "        Cabernet Sauvignon       0.44      0.55      0.49      1286\n",
            "                  Nebbiolo       0.98      0.97      0.98       392\n",
            "            Portuguese Red       0.76      0.95      0.85       334\n",
            "           Champagne Blend       0.81      0.86      0.83       185\n",
            "           Sauvignon Blanc       0.42      0.37      0.39       664\n",
            "                    Malbec       0.46      0.56      0.50       346\n",
            "            Gewürztraminer       0.81      0.61      0.70       135\n",
            "            Cabernet Franc       0.26      0.19      0.22       180\n",
            "               Tempranillo       0.76      0.81      0.78       227\n",
            "Bordeaux-style White Blend       0.63      0.53      0.57       136\n",
            "              Pinot Grigio       0.43      0.41      0.42       120\n",
            "                    Merlot       0.18      0.11      0.14       404\n",
            "           Sparkling Blend       0.79      0.78      0.79       282\n",
            "          Portuguese White       0.77      0.68      0.72       147\n",
            "                     Gamay       0.94      0.95      0.94       147\n",
            "                Pinot Gris       0.17      0.11      0.14       170\n",
            "     Rhône-style Red Blend       0.58      0.41      0.48       191\n",
            "\n",
            "                  accuracy                           0.58     13636\n",
            "                 macro avg       0.60      0.58      0.58     13636\n",
            "              weighted avg       0.57      0.58      0.57     13636\n",
            "\n"
          ],
          "name": "stdout"
        }
      ]
    },
    {
      "cell_type": "code",
      "metadata": {
        "id": "-SGCdD-0i3V7",
        "colab_type": "code",
        "colab": {}
      },
      "source": [
        "from joblib import dump,load"
      ],
      "execution_count": 0,
      "outputs": []
    },
    {
      "cell_type": "code",
      "metadata": {
        "id": "EQ1yMjETjawO",
        "colab_type": "code",
        "outputId": "01038646-955d-4802-8ade-6ce3e04f3a2c",
        "colab": {
          "base_uri": "https://localhost:8080/",
          "height": 34
        }
      },
      "source": [
        "dump(tfidf,'tfidf_review_title_mod.joblib')"
      ],
      "execution_count": 0,
      "outputs": [
        {
          "output_type": "execute_result",
          "data": {
            "text/plain": [
              "['tfidf_review_title_mod.joblib']"
            ]
          },
          "metadata": {
            "tags": []
          },
          "execution_count": 48
        }
      ]
    },
    {
      "cell_type": "code",
      "metadata": {
        "id": "n3f3oy--jhj9",
        "colab_type": "code",
        "outputId": "3fb1a714-721d-442a-d507-4742279c5e5d",
        "colab": {
          "base_uri": "https://localhost:8080/",
          "height": 34
        }
      },
      "source": [
        "dump(model,'svm_review_title_mod.joblib')"
      ],
      "execution_count": 0,
      "outputs": [
        {
          "output_type": "execute_result",
          "data": {
            "text/plain": [
              "['svm_review_title_mod.joblib']"
            ]
          },
          "metadata": {
            "tags": []
          },
          "execution_count": 49
        }
      ]
    },
    {
      "cell_type": "code",
      "metadata": {
        "id": "07eqFpzvjpOh",
        "colab_type": "code",
        "outputId": "8b2629c7-984f-4c36-d0ff-3e5f3650f1d3",
        "colab": {
          "base_uri": "https://localhost:8080/",
          "height": 34
        }
      },
      "source": [
        "dump((id_to_category),'label_dictionary.joblib')"
      ],
      "execution_count": 0,
      "outputs": [
        {
          "output_type": "execute_result",
          "data": {
            "text/plain": [
              "['label_dictionary.joblib']"
            ]
          },
          "metadata": {
            "tags": []
          },
          "execution_count": 53
        }
      ]
    },
    {
      "cell_type": "code",
      "metadata": {
        "id": "7NQ_nLOskfs1",
        "colab_type": "code",
        "outputId": "4f01147b-03e2-441b-ef90-ea4697b80490",
        "colab": {
          "base_uri": "https://localhost:8080/",
          "height": 34
        }
      },
      "source": [
        "dump((category_to_id),'category_to_id.joblib')"
      ],
      "execution_count": 0,
      "outputs": [
        {
          "output_type": "execute_result",
          "data": {
            "text/plain": [
              "['category_to_id.joblib']"
            ]
          },
          "metadata": {
            "tags": []
          },
          "execution_count": 54
        }
      ]
    },
    {
      "cell_type": "code",
      "metadata": {
        "id": "ZiVIw6RTpuAd",
        "colab_type": "code",
        "outputId": "cb018034-efca-4299-d7c8-755f585615a7",
        "colab": {
          "base_uri": "https://localhost:8080/",
          "height": 34
        }
      },
      "source": [
        "dump(category_id_df,'category_id_df.joblib')"
      ],
      "execution_count": 0,
      "outputs": [
        {
          "output_type": "execute_result",
          "data": {
            "text/plain": [
              "['category_id_df.joblib']"
            ]
          },
          "metadata": {
            "tags": []
          },
          "execution_count": 55
        }
      ]
    },
    {
      "cell_type": "code",
      "metadata": {
        "id": "dsDvFhhlrD2N",
        "colab_type": "code",
        "colab": {}
      },
      "source": [
        ""
      ],
      "execution_count": 0,
      "outputs": []
    }
  ]
}