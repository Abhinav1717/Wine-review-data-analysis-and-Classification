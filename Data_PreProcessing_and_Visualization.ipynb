{
  "nbformat": 4,
  "nbformat_minor": 0,
  "metadata": {
    "colab": {
      "name": "Data PreProcessing and Visualization",
      "provenance": [],
      "collapsed_sections": [
        "EtM1Vx9BI98U",
        "_Q3mWa_gwm-v"
      ],
      "toc_visible": true
    },
    "kernelspec": {
      "name": "python3",
      "display_name": "Python 3"
    }
  },
  "cells": [
    {
      "cell_type": "code",
      "metadata": {
        "id": "mEpRD024XjYQ",
        "colab_type": "code",
        "outputId": "fa1fcde8-2f02-4423-b541-d4511b18750f",
        "colab": {
          "base_uri": "https://localhost:8080/",
          "height": 34
        }
      },
      "source": [
        "from google.colab import drive\n",
        "drive.mount('/gdrive')"
      ],
      "execution_count": 0,
      "outputs": [
        {
          "output_type": "stream",
          "text": [
            "Drive already mounted at /gdrive; to attempt to forcibly remount, call drive.mount(\"/gdrive\", force_remount=True).\n"
          ],
          "name": "stdout"
        }
      ]
    },
    {
      "cell_type": "code",
      "metadata": {
        "id": "nGMDlptGYbaj",
        "colab_type": "code",
        "outputId": "86cac7b3-5b37-4fd0-ac68-7ee03887264e",
        "colab": {
          "base_uri": "https://localhost:8080/",
          "height": 34
        }
      },
      "source": [
        "cd '/gdrive/My Drive/Colab Notebooks/Knight ML Assignment/Data'"
      ],
      "execution_count": 0,
      "outputs": [
        {
          "output_type": "stream",
          "text": [
            "/gdrive/My Drive/Colab Notebooks/Knight ML Assignment/Data\n"
          ],
          "name": "stdout"
        }
      ]
    },
    {
      "cell_type": "code",
      "metadata": {
        "id": "bG3WkqjkY0mY",
        "colab_type": "code",
        "colab": {}
      },
      "source": [
        "#Importing Libraries\n",
        "import numpy as np\n",
        "import pandas as pd\n",
        "import seaborn as sns\n",
        "import matplotlib.pyplot as plt\n",
        "%matplotlib inline"
      ],
      "execution_count": 0,
      "outputs": []
    },
    {
      "cell_type": "code",
      "metadata": {
        "id": "EvthXtiwY2Na",
        "colab_type": "code",
        "colab": {}
      },
      "source": [
        "#Loading Dataset\n",
        "df=pd.read_csv('train.csv')"
      ],
      "execution_count": 0,
      "outputs": []
    },
    {
      "cell_type": "code",
      "metadata": {
        "id": "kv8ge2QmJeXh",
        "colab_type": "code",
        "outputId": "8148e726-211c-41ec-e1df-fd2ed62d6ea6",
        "colab": {
          "base_uri": "https://localhost:8080/",
          "height": 414
        }
      },
      "source": [
        "df.head()"
      ],
      "execution_count": 0,
      "outputs": [
        {
          "output_type": "execute_result",
          "data": {
            "text/html": [
              "<div>\n",
              "<style scoped>\n",
              "    .dataframe tbody tr th:only-of-type {\n",
              "        vertical-align: middle;\n",
              "    }\n",
              "\n",
              "    .dataframe tbody tr th {\n",
              "        vertical-align: top;\n",
              "    }\n",
              "\n",
              "    .dataframe thead th {\n",
              "        text-align: right;\n",
              "    }\n",
              "</style>\n",
              "<table border=\"1\" class=\"dataframe\">\n",
              "  <thead>\n",
              "    <tr style=\"text-align: right;\">\n",
              "      <th></th>\n",
              "      <th>user_name</th>\n",
              "      <th>country</th>\n",
              "      <th>review_title</th>\n",
              "      <th>review_description</th>\n",
              "      <th>designation</th>\n",
              "      <th>points</th>\n",
              "      <th>price</th>\n",
              "      <th>province</th>\n",
              "      <th>region_1</th>\n",
              "      <th>region_2</th>\n",
              "      <th>winery</th>\n",
              "      <th>variety</th>\n",
              "    </tr>\n",
              "  </thead>\n",
              "  <tbody>\n",
              "    <tr>\n",
              "      <th>0</th>\n",
              "      <td>NaN</td>\n",
              "      <td>Australia</td>\n",
              "      <td>Andrew Peace 2007 Peace Family Vineyard Chardo...</td>\n",
              "      <td>Classic Chardonnay aromas of apple, pear and h...</td>\n",
              "      <td>Peace Family Vineyard</td>\n",
              "      <td>83</td>\n",
              "      <td>10.0</td>\n",
              "      <td>Australia Other</td>\n",
              "      <td>South Eastern Australia</td>\n",
              "      <td>NaN</td>\n",
              "      <td>Andrew Peace</td>\n",
              "      <td>Chardonnay</td>\n",
              "    </tr>\n",
              "    <tr>\n",
              "      <th>1</th>\n",
              "      <td>@wawinereport</td>\n",
              "      <td>US</td>\n",
              "      <td>North by Northwest 2014 Red (Columbia Valley (...</td>\n",
              "      <td>This wine is near equal parts Syrah and Merlot...</td>\n",
              "      <td>NaN</td>\n",
              "      <td>89</td>\n",
              "      <td>15.0</td>\n",
              "      <td>Washington</td>\n",
              "      <td>Columbia Valley (WA)</td>\n",
              "      <td>Columbia Valley</td>\n",
              "      <td>North by Northwest</td>\n",
              "      <td>Red Blend</td>\n",
              "    </tr>\n",
              "    <tr>\n",
              "      <th>2</th>\n",
              "      <td>NaN</td>\n",
              "      <td>Italy</td>\n",
              "      <td>Renato Ratti 2007 Conca  (Barolo)</td>\n",
              "      <td>Barolo Conca opens with inky dark concentratio...</td>\n",
              "      <td>Conca</td>\n",
              "      <td>94</td>\n",
              "      <td>80.0</td>\n",
              "      <td>Piedmont</td>\n",
              "      <td>Barolo</td>\n",
              "      <td>NaN</td>\n",
              "      <td>Renato Ratti</td>\n",
              "      <td>Nebbiolo</td>\n",
              "    </tr>\n",
              "    <tr>\n",
              "      <th>3</th>\n",
              "      <td>@vossroger</td>\n",
              "      <td>France</td>\n",
              "      <td>Domaine l'Ancienne Cure 2010 L'Abbaye White (B...</td>\n",
              "      <td>It's impressive what a small addition of Sauvi...</td>\n",
              "      <td>L'Abbaye</td>\n",
              "      <td>87</td>\n",
              "      <td>22.0</td>\n",
              "      <td>Southwest France</td>\n",
              "      <td>Bergerac Sec</td>\n",
              "      <td>NaN</td>\n",
              "      <td>Domaine l'Ancienne Cure</td>\n",
              "      <td>Bordeaux-style White Blend</td>\n",
              "    </tr>\n",
              "    <tr>\n",
              "      <th>4</th>\n",
              "      <td>@vossroger</td>\n",
              "      <td>France</td>\n",
              "      <td>Château du Cèdre 2012 Le Cèdre Vintage Malbec ...</td>\n",
              "      <td>This ripe, sweet wine is rich and full of drie...</td>\n",
              "      <td>Le Cèdre Vintage</td>\n",
              "      <td>88</td>\n",
              "      <td>33.0</td>\n",
              "      <td>France Other</td>\n",
              "      <td>Vin de Liqueur</td>\n",
              "      <td>NaN</td>\n",
              "      <td>Château du Cèdre</td>\n",
              "      <td>Malbec</td>\n",
              "    </tr>\n",
              "  </tbody>\n",
              "</table>\n",
              "</div>"
            ],
            "text/plain": [
              "       user_name  ...                     variety\n",
              "0            NaN  ...                  Chardonnay\n",
              "1  @wawinereport  ...                   Red Blend\n",
              "2            NaN  ...                    Nebbiolo\n",
              "3     @vossroger  ...  Bordeaux-style White Blend\n",
              "4     @vossroger  ...                      Malbec\n",
              "\n",
              "[5 rows x 12 columns]"
            ]
          },
          "metadata": {
            "tags": []
          },
          "execution_count": 63
        }
      ]
    },
    {
      "cell_type": "code",
      "metadata": {
        "id": "srV8LC8dvXsW",
        "colab_type": "code",
        "outputId": "2cc7fbdc-c9fe-4f2e-babe-8acba5c131cc",
        "colab": {
          "base_uri": "https://localhost:8080/",
          "height": 34
        }
      },
      "source": [
        "df.shape"
      ],
      "execution_count": 0,
      "outputs": [
        {
          "output_type": "execute_result",
          "data": {
            "text/plain": [
              "(82657, 12)"
            ]
          },
          "metadata": {
            "tags": []
          },
          "execution_count": 64
        }
      ]
    },
    {
      "cell_type": "code",
      "metadata": {
        "id": "FyUvGmQgaldT",
        "colab_type": "code",
        "outputId": "d3acca9a-e948-4f04-d7e4-ed6a17c2ffbf",
        "colab": {
          "base_uri": "https://localhost:8080/",
          "height": 235
        }
      },
      "source": [
        "#Checking for NULL VALUES Percentage\n",
        "(df.isnull().sum())/(df.shape[0]) *100"
      ],
      "execution_count": 0,
      "outputs": [
        {
          "output_type": "execute_result",
          "data": {
            "text/plain": [
              "user_name             23.462018\n",
              "country                0.042344\n",
              "review_title           0.000000\n",
              "review_description     0.000000\n",
              "designation           28.608587\n",
              "points                 0.000000\n",
              "price                  6.737481\n",
              "province               0.042344\n",
              "region_1              15.430030\n",
              "region_2              56.508221\n",
              "winery                 0.000000\n",
              "variety                0.000000\n",
              "dtype: float64"
            ]
          },
          "metadata": {
            "tags": []
          },
          "execution_count": 65
        }
      ]
    },
    {
      "cell_type": "code",
      "metadata": {
        "id": "CJDdEUfWRBGq",
        "colab_type": "code",
        "outputId": "0a1b0276-c02d-4e08-eed2-43110deb8eaa",
        "colab": {
          "base_uri": "https://localhost:8080/",
          "height": 460
        }
      },
      "source": [
        "# Distribution of reviews with respect to variety\n",
        "sns.countplot(x='variety',data=df,order=df['variety'].value_counts().index)\n",
        "plt.xticks(rotation= 90)"
      ],
      "execution_count": 0,
      "outputs": [
        {
          "output_type": "execute_result",
          "data": {
            "text/plain": [
              "(array([ 0,  1,  2,  3,  4,  5,  6,  7,  8,  9, 10, 11, 12, 13, 14, 15, 16,\n",
              "        17, 18, 19, 20, 21, 22, 23, 24, 25, 26, 27]),\n",
              " <a list of 28 Text major ticklabel objects>)"
            ]
          },
          "metadata": {
            "tags": []
          },
          "execution_count": 96
        },
        {
          "output_type": "display_data",
          "data": {
            "image/png": "[encoded data removed]",
            "text/plain": [
              "<Figure size 432x288 with 1 Axes>"
            ]
          },
          "metadata": {
            "tags": [],
            "needs_background": "light"
          }
        }
      ]
    },
    {
      "cell_type": "code",
      "metadata": {
        "id": "CzkUJrtkUDJK",
        "colab_type": "code",
        "outputId": "b5317507-56cd-4c15-8b6e-7fddd64434e0",
        "colab": {
          "base_uri": "https://localhost:8080/",
          "height": 397
        }
      },
      "source": [
        "# Distribution of reviews with respect to country\n",
        "sns.countplot(x='country',data=df,order=df['country'].value_counts().index,palette='rainbow')\n",
        "plt.xticks(rotation= 90)\n",
        "#We can see that majority of the reviews are from top 3-12 countries.\n"
      ],
      "execution_count": 0,
      "outputs": [
        {
          "output_type": "execute_result",
          "data": {
            "text/plain": [
              "(array([ 0,  1,  2,  3,  4,  5,  6,  7,  8,  9, 10, 11, 12, 13, 14, 15, 16,\n",
              "        17, 18, 19, 20, 21, 22, 23, 24, 25, 26, 27, 28, 29, 30, 31, 32, 33,\n",
              "        34, 35, 36, 37]), <a list of 38 Text major ticklabel objects>)"
            ]
          },
          "metadata": {
            "tags": []
          },
          "execution_count": 97
        },
        {
          "output_type": "display_data",
          "data": {
            "image/png": "[encoded data removed]",
            "text/plain": [
              "<Figure size 432x288 with 1 Axes>"
            ]
          },
          "metadata": {
            "tags": [],
            "needs_background": "light"
          }
        }
      ]
    },
    {
      "cell_type": "code",
      "metadata": {
        "id": "0joQ7L_oX7Sh",
        "colab_type": "code",
        "outputId": "c76d109a-9f53-4f3e-aaf9-36b9706f347e",
        "colab": {
          "base_uri": "https://localhost:8080/",
          "height": 884
        }
      },
      "source": [
        "df.province.value_counts().head(50)\n",
        "#Again we can see that majority of the data is from top 50 provinces."
      ],
      "execution_count": 0,
      "outputs": [
        {
          "output_type": "execute_result",
          "data": {
            "text/plain": [
              "California              25736\n",
              "Washington               6060\n",
              "Bordeaux                 4690\n",
              "Oregon                   3900\n",
              "Tuscany                  3780\n",
              "Burgundy                 3179\n",
              "Mendoza Province         2287\n",
              "Piedmont                 2226\n",
              "New York                 1978\n",
              "Alsace                   1664\n",
              "Northern Spain           1448\n",
              "Champagne                1300\n",
              "Loire Valley             1026\n",
              "Provence                  956\n",
              "Douro                     951\n",
              "Northeastern Italy        907\n",
              "Southwest France          852\n",
              "Beaujolais                834\n",
              "Mosel                     834\n",
              "Catalonia                 794\n",
              "Veneto                    656\n",
              "Marlborough               648\n",
              "Rhône Valley              628\n",
              "Sicily & Sardinia         625\n",
              "Alentejano                623\n",
              "South Australia           518\n",
              "Colchagua Valley          483\n",
              "Casablanca Valley         464\n",
              "Virginia                  439\n",
              "Maipo Valley              423\n",
              "France Other              418\n",
              "Tejo                      414\n",
              "Languedoc-Roussillon      401\n",
              "Central Italy             393\n",
              "Niederösterreich          365\n",
              "Lisboa                    325\n",
              "Kamptal                   304\n",
              "Other                     283\n",
              "Lombardy                  270\n",
              "Central Spain             269\n",
              "Wachau                    267\n",
              "Kremstal                  263\n",
              "Rheingau                  256\n",
              "Central Valley            251\n",
              "Stellenbosch              247\n",
              "Maule Valley              245\n",
              "Vinho Verde               216\n",
              "Burgenland                203\n",
              "Southern Italy            200\n",
              "Dão                       189\n",
              "Name: province, dtype: int64"
            ]
          },
          "metadata": {
            "tags": []
          },
          "execution_count": 98
        }
      ]
    },
    {
      "cell_type": "markdown",
      "metadata": {
        "id": "hHLTOcxS6P-S",
        "colab_type": "text"
      },
      "source": [
        "# Countries/Province Missing Values Filling"
      ]
    },
    {
      "cell_type": "code",
      "metadata": {
        "id": "DnFf_E9ym_nb",
        "colab_type": "code",
        "colab": {}
      },
      "source": [
        "missing_country_winery=df[df['country'].isnull()]['winery'].tolist()"
      ],
      "execution_count": 0,
      "outputs": []
    },
    {
      "cell_type": "code",
      "metadata": {
        "id": "Jp0IjCGIpz4x",
        "colab_type": "code",
        "outputId": "2bb789de-a4d7-4e4f-8025-4f005647d635",
        "colab": {
          "base_uri": "https://localhost:8080/",
          "height": 612
        }
      },
      "source": [
        "for win in missing_country_winery:\n",
        "  print(win+\" \",df[(df['winery']==win)&(df['country'].notnull())].count()['winery'])"
      ],
      "execution_count": 0,
      "outputs": [
        {
          "output_type": "stream",
          "text": [
            "El Capricho  0\n",
            "St. Donat  0\n",
            "Orbelus  0\n",
            "Büyülübağ  0\n",
            "Ross-idi  0\n",
            "Bachelder  1\n",
            "Gotsa Family Wines  0\n",
            "Neumeister  14\n",
            "Gotsa Family Wines  0\n",
            "Mt. Beautiful  3\n",
            "Mt. Beautiful  3\n",
            "Tsililis  0\n",
            "Newton Johnson  1\n",
            "Psagot  9\n",
            "Santa Ema  70\n",
            "Bartho Eksteen  1\n",
            "Ross-idi  0\n",
            "Ross-idi  0\n",
            "Ross-idi  0\n",
            "Orbelus  0\n",
            "Les Frères Dutruy  0\n",
            "Psagot  9\n",
            "Barton & Guestier  57\n",
            "Orbelus  0\n",
            "Undurraga  73\n",
            "Stone Castle  0\n",
            "Tsililis  0\n",
            "Barton & Guestier  57\n",
            "Chilcas  31\n",
            "Ktima Voyatzi  1\n",
            "Psagot  9\n",
            "Stone Castle  0\n",
            "Neumeister  14\n",
            "El Capricho  0\n",
            "Lismore  0\n"
          ],
          "name": "stdout"
        }
      ]
    },
    {
      "cell_type": "code",
      "metadata": {
        "id": "YfQ1OCoN4Kit",
        "colab_type": "code",
        "colab": {}
      },
      "source": [
        "#since we have data for countries/province for some wineries above. We can fill them up, and drop the rest of the rows."
      ],
      "execution_count": 0,
      "outputs": []
    },
    {
      "cell_type": "code",
      "metadata": {
        "id": "9XMquwya7ve-",
        "colab_type": "code",
        "colab": {}
      },
      "source": [
        "x=[]\n",
        "for win in missing_country_winery:\n",
        "  if df[(df['winery']==win)&(df['country'].notnull())].count()['winery'] == 0:\n",
        "    x.append(win)"
      ],
      "execution_count": 0,
      "outputs": []
    },
    {
      "cell_type": "code",
      "metadata": {
        "id": "51nV3Oe671yg",
        "colab_type": "code",
        "colab": {}
      },
      "source": [
        "for win in missing_country_winery:\n",
        "  if win not in x:\n",
        "    df.loc[df[(df['winery']==win)&(df['country'].isnull())].index,'country'] = df.loc[df[(df['winery']==win)&(df['country'].notnull())].index,'country'].unique()[0]\n",
        "    df.loc[df[(df['winery']==win)&(df['province'].isnull())].index,'province'] = df.loc[df[(df['winery']==win)&(df['province'].notnull())].index,'province'].unique()[0]"
      ],
      "execution_count": 0,
      "outputs": []
    },
    {
      "cell_type": "code",
      "metadata": {
        "id": "UkxxaMDu-cNU",
        "colab_type": "code",
        "colab": {}
      },
      "source": [
        "#Dropping the rest of the reviews with missing country values.\n",
        "df.drop(df[df['country'].isnull()].index,inplace=True)"
      ],
      "execution_count": 0,
      "outputs": []
    },
    {
      "cell_type": "code",
      "metadata": {
        "id": "9lQA7js__ROU",
        "colab_type": "code",
        "outputId": "b90a8f67-52b6-4089-c05a-f04ea0d4b401",
        "colab": {
          "base_uri": "https://localhost:8080/",
          "height": 386
        }
      },
      "source": [
        "sns.countplot('country',data=df[df['variety']=='Pinot Noir'],order=df[df['variety']=='Pinot Noir'].country.value_counts().index)\n",
        "plt.xticks(rotation=90)"
      ],
      "execution_count": 0,
      "outputs": [
        {
          "output_type": "execute_result",
          "data": {
            "text/plain": [
              "(array([ 0,  1,  2,  3,  4,  5,  6,  7,  8,  9, 10, 11, 12, 13, 14, 15, 16,\n",
              "        17, 18, 19, 20, 21, 22, 23]),\n",
              " <a list of 24 Text major ticklabel objects>)"
            ]
          },
          "metadata": {
            "tags": []
          },
          "execution_count": 105
        },
        {
          "output_type": "display_data",
          "data": {
            "image/png": "[encoded data removed]",
            "text/plain": [
              "<Figure size 432x288 with 1 Axes>"
            ]
          },
          "metadata": {
            "tags": [],
            "needs_background": "light"
          }
        }
      ]
    },
    {
      "cell_type": "markdown",
      "metadata": {
        "id": "EtM1Vx9BI98U",
        "colab_type": "text"
      },
      "source": [
        "# Getting the missing values of Prices "
      ]
    },
    {
      "cell_type": "code",
      "metadata": {
        "id": "jLWHX_lGDAlT",
        "colab_type": "code",
        "outputId": "2a69d431-58db-4160-fd62-13a0d7fec657",
        "colab": {
          "base_uri": "https://localhost:8080/",
          "height": 300
        }
      },
      "source": [
        "# There is a high correlation between points and price\n",
        "# And there are 6% values for the price that are missing, so we can predict them using linear regression.\n",
        "sns.boxplot(df['points'],df['price'])\n",
        "plt.ylim((0,500))"
      ],
      "execution_count": 0,
      "outputs": [
        {
          "output_type": "execute_result",
          "data": {
            "text/plain": [
              "(0.0, 500.0)"
            ]
          },
          "metadata": {
            "tags": []
          },
          "execution_count": 106
        },
        {
          "output_type": "display_data",
          "data": {
            "image/png": "[encoded data removed]",
            "text/plain": [
              "<Figure size 432x288 with 1 Axes>"
            ]
          },
          "metadata": {
            "tags": [],
            "needs_background": "light"
          }
        }
      ]
    },
    {
      "cell_type": "code",
      "metadata": {
        "id": "PEaANj1wQDRq",
        "colab_type": "code",
        "colab": {}
      },
      "source": [
        "#Now comparing prices with different varities of wine.\n",
        "mean_prices_variety = pd.DataFrame(df.groupby('variety').mean()['price'].sort_values())"
      ],
      "execution_count": 0,
      "outputs": []
    },
    {
      "cell_type": "code",
      "metadata": {
        "id": "kb70HErCR9ev",
        "colab_type": "code",
        "colab": {}
      },
      "source": [
        "mean_prices_variety = mean_prices_variety.reset_index()"
      ],
      "execution_count": 0,
      "outputs": []
    },
    {
      "cell_type": "code",
      "metadata": {
        "id": "lJ8sZ3k9SHXk",
        "colab_type": "code",
        "outputId": "3cf00eed-2a66-46ec-fd9f-307b362b11ac",
        "colab": {
          "base_uri": "https://localhost:8080/",
          "height": 460
        }
      },
      "source": [
        "sns.barplot(x='variety',y='price',data=mean_prices_variety)\n",
        "plt.xticks(rotation=90)"
      ],
      "execution_count": 0,
      "outputs": [
        {
          "output_type": "execute_result",
          "data": {
            "text/plain": [
              "(array([ 0,  1,  2,  3,  4,  5,  6,  7,  8,  9, 10, 11, 12, 13, 14, 15, 16,\n",
              "        17, 18, 19, 20, 21, 22, 23, 24, 25, 26, 27]),\n",
              " <a list of 28 Text major ticklabel objects>)"
            ]
          },
          "metadata": {
            "tags": []
          },
          "execution_count": 109
        },
        {
          "output_type": "display_data",
          "data": {
            "image/png": "[encoded data removed]",
            "text/plain": [
              "<Figure size 432x288 with 1 Axes>"
            ]
          },
          "metadata": {
            "tags": [],
            "needs_background": "light"
          }
        }
      ]
    },
    {
      "cell_type": "code",
      "metadata": {
        "id": "r2lrulvfRmat",
        "colab_type": "code",
        "outputId": "22105a73-17cf-41fa-dc84-9c6378a17a4f",
        "colab": {
          "base_uri": "https://localhost:8080/",
          "height": 396
        }
      },
      "source": [
        "#Distribution of mean prices with respect to countries.\n",
        "sns.set_style('darkgrid')\n",
        "sns.barplot(y=df.groupby('country')['price'].mean().sort_values(),x=df.groupby('country')['price'].mean().sort_values().index)\n",
        "plt.xticks(rotation=90)"
      ],
      "execution_count": 0,
      "outputs": [
        {
          "output_type": "execute_result",
          "data": {
            "text/plain": [
              "(array([ 0,  1,  2,  3,  4,  5,  6,  7,  8,  9, 10, 11, 12, 13, 14, 15, 16,\n",
              "        17, 18, 19, 20, 21, 22, 23, 24, 25, 26, 27, 28, 29, 30, 31, 32, 33,\n",
              "        34, 35, 36, 37]), <a list of 38 Text major ticklabel objects>)"
            ]
          },
          "metadata": {
            "tags": []
          },
          "execution_count": 110
        },
        {
          "output_type": "display_data",
          "data": {
            "image/png": "[encoded data removed]",
            "text/plain": [
              "<Figure size 432x288 with 1 Axes>"
            ]
          },
          "metadata": {
            "tags": []
          }
        }
      ]
    },
    {
      "cell_type": "code",
      "metadata": {
        "id": "JUKuQkCdSg_S",
        "colab_type": "code",
        "outputId": "e30c1987-6c1d-445e-f8fc-e40010f76973",
        "colab": {
          "base_uri": "https://localhost:8080/",
          "height": 297
        }
      },
      "source": [
        "#Mean values of prices vs points\n",
        "sns.barplot(y=df.groupby('points').mean().sort_values('points')['price'],x=df.groupby('points').mean().sort_values('points').index)"
      ],
      "execution_count": 0,
      "outputs": [
        {
          "output_type": "execute_result",
          "data": {
            "text/plain": [
              "<matplotlib.axes._subplots.AxesSubplot at 0x7fa699067c18>"
            ]
          },
          "metadata": {
            "tags": []
          },
          "execution_count": 111
        },
        {
          "output_type": "display_data",
          "data": {
            "image/png": "[encoded data removed]",
            "text/plain": [
              "<Figure size 432x288 with 1 Axes>"
            ]
          },
          "metadata": {
            "tags": []
          }
        }
      ]
    },
    {
      "cell_type": "code",
      "metadata": {
        "id": "tLHlAt_mPe_3",
        "colab_type": "code",
        "colab": {}
      },
      "source": [
        "# We will set the missing values of price equal to the mean values with respect to the point.\n",
        "mean_prices_points = pd.DataFrame(df.groupby('points').mean()['price'].sort_values())"
      ],
      "execution_count": 0,
      "outputs": []
    },
    {
      "cell_type": "code",
      "metadata": {
        "id": "e31HpoiNcZDO",
        "colab_type": "code",
        "colab": {}
      },
      "source": [
        "mean_prices_points=mean_prices_points.to_dict()['price']"
      ],
      "execution_count": 0,
      "outputs": []
    },
    {
      "cell_type": "code",
      "metadata": {
        "id": "RFbzQpOoczbU",
        "colab_type": "code",
        "outputId": "4f4f3eb4-8593-4c74-8d1b-d74e32e1984c",
        "colab": {
          "base_uri": "https://localhost:8080/",
          "height": 221
        }
      },
      "source": [
        "df.loc[df[df['price'].isnull()].index,'points'].map(mean_prices_points)"
      ],
      "execution_count": 0,
      "outputs": [
        {
          "output_type": "execute_result",
          "data": {
            "text/plain": [
              "23       44.452215\n",
              "28       52.661692\n",
              "46       19.562691\n",
              "59       52.661692\n",
              "61       52.661692\n",
              "           ...    \n",
              "82572    52.661692\n",
              "82605    25.860099\n",
              "82619    29.835917\n",
              "82634    25.860099\n",
              "82650    22.967692\n",
              "Name: points, Length: 5569, dtype: float64"
            ]
          },
          "metadata": {
            "tags": []
          },
          "execution_count": 120
        }
      ]
    },
    {
      "cell_type": "code",
      "metadata": {
        "id": "3y-xIq6pdjW0",
        "colab_type": "code",
        "colab": {}
      },
      "source": [
        "df.loc[df[df['price'].isnull()].index,'price']=df.loc[df[df['price'].isnull()].index,'points'].map(mean_prices_points)"
      ],
      "execution_count": 0,
      "outputs": []
    },
    {
      "cell_type": "code",
      "metadata": {
        "id": "YmuRisRiduZ-",
        "colab_type": "code",
        "colab": {}
      },
      "source": [
        "#Technically Username should not affect the variety.. so dropping it out\n",
        "df.drop('user_name',axis=1,inplace=True)"
      ],
      "execution_count": 0,
      "outputs": []
    },
    {
      "cell_type": "code",
      "metadata": {
        "id": "65G6GlludwP2",
        "colab_type": "code",
        "colab": {}
      },
      "source": [
        "# Also near about 57 percent of the vlaues in the column region_2 is missing, that is a lot. Dropping it out \n",
        "df.drop('region_2',axis=1,inplace=True)"
      ],
      "execution_count": 0,
      "outputs": []
    },
    {
      "cell_type": "code",
      "metadata": {
        "id": "2Vl6UKanfzqu",
        "colab_type": "code",
        "colab": {}
      },
      "source": [
        "df.to_csv('cleaned_train.csv',index=False)"
      ],
      "execution_count": 0,
      "outputs": []
    },
    {
      "cell_type": "code",
      "metadata": {
        "id": "Ry5TCB-HhUyK",
        "colab_type": "code",
        "colab": {}
      },
      "source": [
        ""
      ],
      "execution_count": 0,
      "outputs": []
    },
    {
      "cell_type": "markdown",
      "metadata": {
        "id": "_Q3mWa_gwm-v",
        "colab_type": "text"
      },
      "source": [
        "#Dropping Off Insignificant Countries"
      ]
    },
    {
      "cell_type": "code",
      "metadata": {
        "id": "rQ85HAb4wvY_",
        "colab_type": "code",
        "colab": {}
      },
      "source": [
        "#Considering countries to be insignificant in data with a frequency of less than 500 and dropping them off  \n",
        "c= pd.DataFrame(df.country.value_counts())"
      ],
      "execution_count": 0,
      "outputs": []
    },
    {
      "cell_type": "code",
      "metadata": {
        "id": "uqJhFzlPwwvq",
        "colab_type": "code",
        "colab": {}
      },
      "source": [
        "insig_countries = c[c.country <500].index"
      ],
      "execution_count": 0,
      "outputs": []
    },
    {
      "cell_type": "code",
      "metadata": {
        "id": "SfJS0tT50fac",
        "colab_type": "code",
        "outputId": "46e63604-7441-4210-bf39-d4e1ba89c116",
        "colab": {
          "base_uri": "https://localhost:8080/",
          "height": 119
        }
      },
      "source": [
        ""
      ],
      "execution_count": 0,
      "outputs": [
        {
          "output_type": "execute_result",
          "data": {
            "text/plain": [
              "Index(['Israel', 'Canada', 'Greece', 'Bulgaria', 'Romania', 'England',\n",
              "       'Slovenia', 'Mexico', 'Hungary', 'Moldova', 'Turkey', 'Uruguay',\n",
              "       'Lebanon', 'Brazil', 'Morocco', 'Georgia', 'Croatia', 'Ukraine', 'Peru',\n",
              "       'Cyprus', 'Macedonia', 'Luxembourg', 'Switzerland', 'Serbia',\n",
              "       'Czech Republic', 'India'],\n",
              "      dtype='object')"
            ]
          },
          "metadata": {
            "tags": []
          },
          "execution_count": 20
        }
      ]
    },
    {
      "cell_type": "code",
      "metadata": {
        "id": "XwXrJx0h09Jr",
        "colab_type": "code",
        "colab": {}
      },
      "source": [
        "def remove_countries(c):\n",
        "  if c in insig_countries:\n",
        "    return True\n",
        "  else:\n",
        "    return False"
      ],
      "execution_count": 0,
      "outputs": []
    },
    {
      "cell_type": "code",
      "metadata": {
        "id": "sgxx1sK-1lou",
        "colab_type": "code",
        "colab": {}
      },
      "source": [
        " df.drop(df[df['country'].apply(remove_countries)].index,inplace=True)"
      ],
      "execution_count": 0,
      "outputs": []
    },
    {
      "cell_type": "code",
      "metadata": {
        "id": "_mrhBYsa2c2l",
        "colab_type": "code",
        "outputId": "cf0e355e-fc6f-4687-c41b-3692407fd640",
        "colab": {
          "base_uri": "https://localhost:8080/",
          "height": 298
        }
      },
      "source": [
        "sns.countplot('country',data=df)"
      ],
      "execution_count": 0,
      "outputs": [
        {
          "output_type": "execute_result",
          "data": {
            "text/plain": [
              "<matplotlib.axes._subplots.AxesSubplot at 0x7f121b907c88>"
            ]
          },
          "metadata": {
            "tags": []
          },
          "execution_count": 30
        },
        {
          "output_type": "display_data",
          "data": {
            "image/png": "[encoded data removed]",
            "text/plain": [
              "<Figure size 432x288 with 1 Axes>"
            ]
          },
          "metadata": {
            "tags": [],
            "needs_background": "light"
          }
        }
      ]
    },
    {
      "cell_type": "code",
      "metadata": {
        "id": "XT6lqQ632q4P",
        "colab_type": "code",
        "colab": {}
      },
      "source": [
        "df.to_csv('cleaned_train.csv',index=False)"
      ],
      "execution_count": 0,
      "outputs": []
    },
    {
      "cell_type": "markdown",
      "metadata": {
        "id": "LrLA-_y3-1Q8",
        "colab_type": "text"
      },
      "source": [
        "# Dropping Off Insignificant Provinces"
      ]
    },
    {
      "cell_type": "code",
      "metadata": {
        "id": "rpa7C0eE9Mzj",
        "colab_type": "code",
        "colab": {}
      },
      "source": [
        "#Considering provinces to be insignificant in data with a frequency of less than 100 and dropping them off\n",
        "c= pd.DataFrame(df.province.value_counts())"
      ],
      "execution_count": 0,
      "outputs": []
    },
    {
      "cell_type": "code",
      "metadata": {
        "id": "uCFLjN_U--b-",
        "colab_type": "code",
        "colab": {}
      },
      "source": [
        "insig_provinces = c[c.province <100].index"
      ],
      "execution_count": 0,
      "outputs": []
    },
    {
      "cell_type": "code",
      "metadata": {
        "id": "KIQphwNe_HiI",
        "colab_type": "code",
        "outputId": "59ed28c5-ecfe-4fd9-cdbf-767466287a91",
        "colab": {
          "base_uri": "https://localhost:8080/",
          "height": 153
        }
      },
      "source": [
        "insig_provinces"
      ],
      "execution_count": 0,
      "outputs": [
        {
          "output_type": "execute_result",
          "data": {
            "text/plain": [
              "Index(['Hawke's Bay', 'Rapel Valley', 'Mosel-Saar-Ruwer',\n",
              "       'Península de Setúbal', 'Weinviertel', 'Martinborough', 'Limarí Valley',\n",
              "       'Michigan', 'Südsteiermark', 'Bairrada',\n",
              "       ...\n",
              "       'Portugal', 'Helderberg', 'Paardeberg', 'Bot River', 'Table wine',\n",
              "       'Hawaii', 'Távora-Varosa', 'Neusiedlersee', 'Vinho Espumante',\n",
              "       'South Africa'],\n",
              "      dtype='object', length=166)"
            ]
          },
          "metadata": {
            "tags": []
          },
          "execution_count": 48
        }
      ]
    },
    {
      "cell_type": "code",
      "metadata": {
        "id": "dMtuNU_n_LBJ",
        "colab_type": "code",
        "colab": {}
      },
      "source": [
        "def remove_provinces(c):\n",
        "  if c in insig_provinces:\n",
        "    return True\n",
        "  else:\n",
        "    return False"
      ],
      "execution_count": 0,
      "outputs": []
    },
    {
      "cell_type": "code",
      "metadata": {
        "id": "2bgzbypN_YvO",
        "colab_type": "code",
        "colab": {}
      },
      "source": [
        " df.drop(df[df['province'].apply(remove_provinces)].index,inplace=True)"
      ],
      "execution_count": 0,
      "outputs": []
    },
    {
      "cell_type": "code",
      "metadata": {
        "id": "1_79G_ET_iGo",
        "colab_type": "code",
        "colab": {}
      },
      "source": [
        "df.to_csv('cleaned_train.csv',index=False)"
      ],
      "execution_count": 0,
      "outputs": []
    }
  ]
}