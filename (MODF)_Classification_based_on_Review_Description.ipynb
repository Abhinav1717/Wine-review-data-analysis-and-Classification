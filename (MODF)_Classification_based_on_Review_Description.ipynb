{
  "nbformat": 4,
  "nbformat_minor": 0,
  "metadata": {
    "colab": {
      "name": "(MODF) Classification based on Review Description",
      "provenance": []
    },
    "kernelspec": {
      "name": "python3",
      "display_name": "Python 3"
    }
  },
  "cells": [
    {
      "cell_type": "code",
      "metadata": {
        "id": "6iUnF35eXMxz",
        "colab_type": "code",
        "outputId": "1b8fc353-e9b9-42e5-8468-13ec3d233fdb",
        "colab": {
          "base_uri": "https://localhost:8080/",
          "height": 122
        }
      },
      "source": [
        "from google.colab import drive\n",
        "drive.mount('/gdrive')"
      ],
      "execution_count": 0,
      "outputs": [
        {
          "output_type": "stream",
          "text": [
            "Go to this URL in a browser: https://accounts.google.com/o/oauth2/auth?client_id=947318989803-6bn6qk8qdgf4n4g3pfee6491hc0brc4i.apps.googleusercontent.com&redirect_uri=urn%3aietf%3awg%3aoauth%3a2.0%3aoob&response_type=code&scope=email%20https%3a%2f%2fwww.googleapis.com%2fauth%2fdocs.test%20https%3a%2f%2fwww.googleapis.com%2fauth%2fdrive%20https%3a%2f%2fwww.googleapis.com%2fauth%2fdrive.photos.readonly%20https%3a%2f%2fwww.googleapis.com%2fauth%2fpeopleapi.readonly\n",
            "\n",
            "Enter your authorization code:\n",
            "··········\n",
            "Mounted at /gdrive\n"
          ],
          "name": "stdout"
        }
      ]
    },
    {
      "cell_type": "code",
      "metadata": {
        "id": "Uysn3o83X7a6",
        "colab_type": "code",
        "colab": {}
      },
      "source": [
        "import numpy as np\n",
        "import pandas as pd\n",
        "import matplotlib.pyplot as plt \n",
        "import seaborn as sns\n",
        "from sklearn.feature_extraction.text import TfidfVectorizer\n",
        "%matplotlib inline"
      ],
      "execution_count": 0,
      "outputs": []
    },
    {
      "cell_type": "code",
      "metadata": {
        "id": "MevE09TddJ0J",
        "colab_type": "code",
        "outputId": "da9b3a5c-eb80-4498-b818-6d600def8a30",
        "colab": {
          "base_uri": "https://localhost:8080/",
          "height": 34
        }
      },
      "source": [
        "cd '/gdrive/My Drive/Colab Notebooks/Knight ML Assignment/Data/mydata'"
      ],
      "execution_count": 0,
      "outputs": [
        {
          "output_type": "stream",
          "text": [
            "/gdrive/My Drive/Colab Notebooks/Knight ML Assignment/Data/mydata\n"
          ],
          "name": "stdout"
        }
      ]
    },
    {
      "cell_type": "code",
      "metadata": {
        "id": "ofH9_hpmdlOZ",
        "colab_type": "code",
        "colab": {}
      },
      "source": [
        "df=pd.read_csv('df1_train.csv')[['review_description','variety',]]"
      ],
      "execution_count": 0,
      "outputs": []
    },
    {
      "cell_type": "code",
      "metadata": {
        "id": "qqS7wWc7dvT4",
        "colab_type": "code",
        "outputId": "6fc33033-2e69-4415-94c1-e7dfb05221b5",
        "colab": {
          "base_uri": "https://localhost:8080/",
          "height": 204
        }
      },
      "source": [
        "df.head()"
      ],
      "execution_count": 0,
      "outputs": [
        {
          "output_type": "execute_result",
          "data": {
            "text/html": [
              "<div>\n",
              "<style scoped>\n",
              "    .dataframe tbody tr th:only-of-type {\n",
              "        vertical-align: middle;\n",
              "    }\n",
              "\n",
              "    .dataframe tbody tr th {\n",
              "        vertical-align: top;\n",
              "    }\n",
              "\n",
              "    .dataframe thead th {\n",
              "        text-align: right;\n",
              "    }\n",
              "</style>\n",
              "<table border=\"1\" class=\"dataframe\">\n",
              "  <thead>\n",
              "    <tr style=\"text-align: right;\">\n",
              "      <th></th>\n",
              "      <th>review_description</th>\n",
              "      <th>variety</th>\n",
              "    </tr>\n",
              "  </thead>\n",
              "  <tbody>\n",
              "    <tr>\n",
              "      <th>0</th>\n",
              "      <td>Vines planted on steep, terraced slopes around...</td>\n",
              "      <td>Rosé</td>\n",
              "    </tr>\n",
              "    <tr>\n",
              "      <th>1</th>\n",
              "      <td>The textured skin of russet apples and William...</td>\n",
              "      <td>White Blend</td>\n",
              "    </tr>\n",
              "    <tr>\n",
              "      <th>2</th>\n",
              "      <td>This bottling is still very young and will vas...</td>\n",
              "      <td>Syrah</td>\n",
              "    </tr>\n",
              "    <tr>\n",
              "      <th>3</th>\n",
              "      <td>Luzon's signature Best Buy red blends one-thir...</td>\n",
              "      <td>Red Blend</td>\n",
              "    </tr>\n",
              "    <tr>\n",
              "      <th>4</th>\n",
              "      <td>Nicely balanced for dinner time, this dry wine...</td>\n",
              "      <td>Zinfandel</td>\n",
              "    </tr>\n",
              "  </tbody>\n",
              "</table>\n",
              "</div>"
            ],
            "text/plain": [
              "                                  review_description      variety\n",
              "0  Vines planted on steep, terraced slopes around...         Rosé\n",
              "1  The textured skin of russet apples and William...  White Blend\n",
              "2  This bottling is still very young and will vas...        Syrah\n",
              "3  Luzon's signature Best Buy red blends one-thir...    Red Blend\n",
              "4  Nicely balanced for dinner time, this dry wine...    Zinfandel"
            ]
          },
          "metadata": {
            "tags": []
          },
          "execution_count": 8
        }
      ]
    },
    {
      "cell_type": "code",
      "metadata": {
        "id": "UTSDOTgOdwZK",
        "colab_type": "code",
        "colab": {}
      },
      "source": [
        "df['category_id']=df['variety'].factorize()[0]"
      ],
      "execution_count": 0,
      "outputs": []
    },
    {
      "cell_type": "code",
      "metadata": {
        "id": "rDfT3_c-eER6",
        "colab_type": "code",
        "colab": {}
      },
      "source": [
        "category_id_df=df[['variety','category_id']].drop_duplicates().sort_values('category_id')"
      ],
      "execution_count": 0,
      "outputs": []
    },
    {
      "cell_type": "code",
      "metadata": {
        "id": "xM09TRKQeFXC",
        "colab_type": "code",
        "colab": {}
      },
      "source": [
        "category_to_id = category_id_df.set_index('variety')['category_id'].to_dict()"
      ],
      "execution_count": 0,
      "outputs": []
    },
    {
      "cell_type": "code",
      "metadata": {
        "id": "TGVdj6KteXak",
        "colab_type": "code",
        "colab": {}
      },
      "source": [
        "id_to_category = category_id_df.set_index('category_id')['variety'].to_dict()"
      ],
      "execution_count": 0,
      "outputs": []
    },
    {
      "cell_type": "code",
      "metadata": {
        "id": "AZmtT1Xc8wb3",
        "colab_type": "code",
        "outputId": "ec5b209d-d81c-4ae6-83dc-d1bf2a46f36f",
        "colab": {
          "base_uri": "https://localhost:8080/",
          "height": 68
        }
      },
      "source": [
        "import nltk\n",
        "nltk.download('stopwords')"
      ],
      "execution_count": 0,
      "outputs": [
        {
          "output_type": "stream",
          "text": [
            "[nltk_data] Downloading package stopwords to /root/nltk_data...\n",
            "[nltk_data]   Unzipping corpora/stopwords.zip.\n"
          ],
          "name": "stdout"
        },
        {
          "output_type": "execute_result",
          "data": {
            "text/plain": [
              "True"
            ]
          },
          "metadata": {
            "tags": []
          },
          "execution_count": 13
        }
      ]
    },
    {
      "cell_type": "code",
      "metadata": {
        "id": "REnuNiwZ87Qy",
        "colab_type": "code",
        "colab": {}
      },
      "source": [
        "from nltk.corpus import stopwords"
      ],
      "execution_count": 0,
      "outputs": []
    },
    {
      "cell_type": "code",
      "metadata": {
        "id": "CD9MxL2_3fth",
        "colab_type": "code",
        "colab": {}
      },
      "source": [
        "stop = list(stopwords.words('english'))"
      ],
      "execution_count": 0,
      "outputs": []
    },
    {
      "cell_type": "code",
      "metadata": {
        "id": "8UMYE6vl3tnm",
        "colab_type": "code",
        "colab": {}
      },
      "source": [
        "my = category_id_df.variety.to_list()"
      ],
      "execution_count": 0,
      "outputs": []
    },
    {
      "cell_type": "code",
      "metadata": {
        "id": "AHKGkKWZ5Rh3",
        "colab_type": "code",
        "colab": {}
      },
      "source": [
        "mylist = [] \n",
        "for w in my:\n",
        "  lis=w.split()\n",
        "  for l in lis:\n",
        "    mylist.append(l.lower())"
      ],
      "execution_count": 0,
      "outputs": []
    },
    {
      "cell_type": "code",
      "metadata": {
        "id": "Eh3Ig37L5thh",
        "colab_type": "code",
        "colab": {}
      },
      "source": [
        "stop.extend(mylist)"
      ],
      "execution_count": 0,
      "outputs": []
    },
    {
      "cell_type": "code",
      "metadata": {
        "id": "n7ln4dAn9nHY",
        "colab_type": "code",
        "colab": {}
      },
      "source": [
        "stop=set(stop)"
      ],
      "execution_count": 0,
      "outputs": []
    },
    {
      "cell_type": "code",
      "metadata": {
        "id": "D3JmBjrHemgl",
        "colab_type": "code",
        "colab": {}
      },
      "source": [
        "tfidf=TfidfVectorizer( sublinear_tf=True,min_df=10,norm='l2',ngram_range=(1,2),stop_words=stop)"
      ],
      "execution_count": 0,
      "outputs": []
    },
    {
      "cell_type": "code",
      "metadata": {
        "id": "YvVg8f7qfZbt",
        "colab_type": "code",
        "outputId": "a5a75d87-5102-4fa7-9cd1-bcac5efc2c0d",
        "colab": {
          "base_uri": "https://localhost:8080/",
          "height": 255
        }
      },
      "source": [
        "tfidf"
      ],
      "execution_count": 0,
      "outputs": [
        {
          "output_type": "execute_result",
          "data": {
            "text/plain": [
              "TfidfVectorizer(analyzer='word', binary=False, decode_error='strict',\n",
              "                dtype=<class 'numpy.float64'>, encoding='utf-8',\n",
              "                input='content', lowercase=True, max_df=1.0, max_features=None,\n",
              "                min_df=10, ngram_range=(1, 2), norm='l2', preprocessor=None,\n",
              "                smooth_idf=True,\n",
              "                stop_words={'a', 'about', 'above', 'after', 'again', 'against',\n",
              "                            'ain', 'all', 'am', 'an', 'and', 'any', 'are',\n",
              "                            'aren', \"aren't\", 'as', 'at', 'be', 'because',\n",
              "                            'been', 'before', 'being', 'below', 'between',\n",
              "                            'blanc', 'blend', 'bordeaux-style', 'both', 'but',\n",
              "                            'by', ...},\n",
              "                strip_accents=None, sublinear_tf=True,\n",
              "                token_pattern='(?u)\\\\b\\\\w\\\\w+\\\\b', tokenizer=None, use_idf=True,\n",
              "                vocabulary=None)"
            ]
          },
          "metadata": {
            "tags": []
          },
          "execution_count": 21
        }
      ]
    },
    {
      "cell_type": "code",
      "metadata": {
        "id": "bS3W8R6GgI52",
        "colab_type": "code",
        "outputId": "a2546f04-44ba-48c7-d984-9ec0e354d11a",
        "colab": {
          "base_uri": "https://localhost:8080/",
          "height": 71
        }
      },
      "source": [
        "features = tfidf.fit_transform(df.review_description)"
      ],
      "execution_count": 0,
      "outputs": [
        {
          "output_type": "stream",
          "text": [
            "/usr/local/lib/python3.6/dist-packages/sklearn/feature_extraction/text.py:385: UserWarning: Your stop_words may be inconsistent with your preprocessing. Tokenizing the stop words generated tokens ['bordeaux', 'rhône', 'style'] not in stop_words.\n",
            "  'stop_words.' % sorted(inconsistent))\n"
          ],
          "name": "stderr"
        }
      ]
    },
    {
      "cell_type": "code",
      "metadata": {
        "id": "3qI8qZpQgNyv",
        "colab_type": "code",
        "outputId": "b9b209a4-1acd-42e2-da40-007e40b8223b",
        "colab": {
          "base_uri": "https://localhost:8080/",
          "height": 34
        }
      },
      "source": [
        "features.shape"
      ],
      "execution_count": 0,
      "outputs": [
        {
          "output_type": "execute_result",
          "data": {
            "text/plain": [
              "(41319, 18071)"
            ]
          },
          "metadata": {
            "tags": []
          },
          "execution_count": 23
        }
      ]
    },
    {
      "cell_type": "code",
      "metadata": {
        "id": "fTZM6dQBgair",
        "colab_type": "code",
        "colab": {}
      },
      "source": [
        "features=features.toarray()"
      ],
      "execution_count": 0,
      "outputs": []
    },
    {
      "cell_type": "code",
      "metadata": {
        "id": "l9L4mzGCg3wP",
        "colab_type": "code",
        "colab": {}
      },
      "source": [
        "labels=df.category_id"
      ],
      "execution_count": 0,
      "outputs": []
    },
    {
      "cell_type": "code",
      "metadata": {
        "id": "at3_1FFdgtF_",
        "colab_type": "code",
        "outputId": "9a72b141-7fc7-4a5d-d06c-db3318c93d50",
        "colab": {
          "base_uri": "https://localhost:8080/",
          "height": 1000
        }
      },
      "source": [
        "from sklearn.feature_selection import chi2\n",
        "import numpy as np\n",
        "N = 2\n",
        "for variety, category_id in sorted(category_to_id.items()):\n",
        "  features_chi2 = chi2(features, labels == category_id)\n",
        "  indices = np.argsort(features_chi2[0])\n",
        "  feature_names = np.array(tfidf.get_feature_names())[indices]\n",
        "  unigrams = [v for v in feature_names if len(v.split(' ')) == 1]\n",
        "  bigrams = [v for v in feature_names if len(v.split(' ')) == 2]\n",
        "  print(\"# '{}':\".format(variety))\n",
        "  print(\"  . Most correlated unigrams:\\n. {}\".format('\\n. '.join(unigrams[-N:])))\n",
        "  print(\"  . Most correlated bigrams:\\n. {}\".format('\\n. '.join(bigrams[-N:])))"
      ],
      "execution_count": 0,
      "outputs": [
        {
          "output_type": "stream",
          "text": [
            "# 'Bordeaux-style Red Blend':\n",
            "  . Most correlated unigrams:\n",
            ". bordeaux\n",
            ". sample\n",
            "  . Most correlated bigrams:\n",
            ". black currant\n",
            ". barrel sample\n",
            "# 'Bordeaux-style White Blend':\n",
            "  . Most correlated unigrams:\n",
            ". sémillon\n",
            ". botrytis\n",
            "  . Most correlated bigrams:\n",
            ". barrel sample\n",
            ". herbaceous character\n",
            "# 'Cabernet Franc':\n",
            "  . Most correlated unigrams:\n",
            ". francs\n",
            ". cab\n",
            "  . Most correlated bigrams:\n",
            ". flowers cherry\n",
            ". cranberry acidity\n",
            "# 'Cabernet Sauvignon':\n",
            "  . Most correlated unigrams:\n",
            ". cassis\n",
            ". cab\n",
            "  . Most correlated bigrams:\n",
            ". blackberry cherry\n",
            ". flavors blackberries\n",
            "# 'Champagne Blend':\n",
            "  . Most correlated unigrams:\n",
            ". nonvintage\n",
            ". dosage\n",
            "  . Most correlated bigrams:\n",
            ". nonvintage cuvée\n",
            ". high dosage\n",
            "# 'Chardonnay':\n",
            "  . Most correlated unigrams:\n",
            ". pineapple\n",
            ". buttered\n",
            "  . Most correlated bigrams:\n",
            ". tropical fruit\n",
            ". buttered toast\n",
            "# 'Gamay':\n",
            "  . Most correlated unigrams:\n",
            ". nouveau\n",
            ". beaujolais\n",
            "  . Most correlated bigrams:\n",
            ". cherry fruits\n",
            ". cru wine\n",
            "# 'Gewürztraminer':\n",
            "  . Most correlated unigrams:\n",
            ". gewurztraminer\n",
            ". lychee\n",
            "  . Most correlated bigrams:\n",
            ". spice lychee\n",
            ". medium sweet\n",
            "# 'Grüner Veltliner':\n",
            "  . Most correlated unigrams:\n",
            ". arugula\n",
            ". screwcap\n",
            "  . Most correlated bigrams:\n",
            ". conference pear\n",
            ". green pear\n",
            "# 'Malbec':\n",
            "  . Most correlated unigrams:\n",
            ". cahors\n",
            ". malbecs\n",
            "  . Most correlated bigrams:\n",
            ". grapy aromas\n",
            ". berry aromas\n",
            "# 'Merlot':\n",
            "  . Most correlated unigrams:\n",
            ". mass\n",
            ". merlots\n",
            "  . Most correlated bigrams:\n",
            ". flavors cherries\n",
            ". pleasant cherry\n",
            "# 'Nebbiolo':\n",
            "  . Most correlated unigrams:\n",
            ". barbaresco\n",
            ". barolo\n",
            "  . Most correlated bigrams:\n",
            ". bracing tannins\n",
            ". balsamic note\n",
            "# 'Pinot Grigio':\n",
            "  . Most correlated unigrams:\n",
            ". orchard\n",
            ". grigios\n",
            "  . Most correlated bigrams:\n",
            ". orchard fruit\n",
            ". mineral alongside\n",
            "# 'Pinot Gris':\n",
            "  . Most correlated unigrams:\n",
            ". residual\n",
            ". pear\n",
            "  . Most correlated bigrams:\n",
            ". residual sweetness\n",
            ". pear fruit\n",
            "# 'Pinot Noir':\n",
            "  . Most correlated unigrams:\n",
            ". cranberry\n",
            ". cola\n",
            "  . Most correlated bigrams:\n",
            ". raspberry cherry\n",
            ". cherry fruit\n",
            "# 'Portuguese Red':\n",
            "  . Most correlated unigrams:\n",
            ". touriga\n",
            ". douro\n",
            "  . Most correlated bigrams:\n",
            ". alicante bouschet\n",
            ". touriga nacional\n",
            "# 'Portuguese White':\n",
            "  . Most correlated unigrams:\n",
            ". vinho\n",
            ". arinto\n",
            "  . Most correlated bigrams:\n",
            ". fernão pires\n",
            ". vinho verde\n",
            "# 'Red Blend':\n",
            "  . Most correlated unigrams:\n",
            ". petite\n",
            ". sirah\n",
            "  . Most correlated bigrams:\n",
            ". nero avola\n",
            ". petite sirah\n",
            "# 'Rhône-style Red Blend':\n",
            "  . Most correlated unigrams:\n",
            ". mourvèdre\n",
            ". grenache\n",
            "  . Most correlated bigrams:\n",
            ". rhône style\n",
            ". grenache mourvèdre\n",
            "# 'Riesling':\n",
            "  . Most correlated unigrams:\n",
            ". lime\n",
            ". tangerine\n",
            "  . Most correlated bigrams:\n",
            ". dry style\n",
            ". lime acidity\n",
            "# 'Rosé':\n",
            "  . Most correlated unigrams:\n",
            ". pink\n",
            ". pale\n",
            "  . Most correlated bigrams:\n",
            ". strawberry fruits\n",
            ". pink color\n",
            "# 'Sangiovese':\n",
            "  . Most correlated unigrams:\n",
            ". underbrush\n",
            ". chianti\n",
            "  . Most correlated bigrams:\n",
            ". wild cherry\n",
            ". chianti classico\n",
            "# 'Sauvignon Blanc':\n",
            "  . Most correlated unigrams:\n",
            ". grass\n",
            ". gooseberry\n",
            "  . Most correlated bigrams:\n",
            ". gooseberry flavors\n",
            ". passion fruit\n",
            "# 'Sparkling Blend':\n",
            "  . Most correlated unigrams:\n",
            ". bubbles\n",
            ". bubbly\n",
            "  . Most correlated bigrams:\n",
            ". brut nature\n",
            ". bread crust\n",
            "# 'Syrah':\n",
            "  . Most correlated unigrams:\n",
            ". meat\n",
            ". syrahs\n",
            "  . Most correlated bigrams:\n",
            ". smoked meat\n",
            ". black pepper\n",
            "# 'Tempranillo':\n",
            "  . Most correlated unigrams:\n",
            ". crianza\n",
            ". rioja\n",
            "  . Most correlated bigrams:\n",
            ". del duero\n",
            ". ribera del\n",
            "# 'White Blend':\n",
            "  . Most correlated unigrams:\n",
            ". roussanne\n",
            ". viognier\n",
            "  . Most correlated bigrams:\n",
            ". gros manseng\n",
            ". ribolla gialla\n",
            "# 'Zinfandel':\n",
            "  . Most correlated unigrams:\n",
            ". briary\n",
            ". zin\n",
            "  . Most correlated bigrams:\n",
            ". briary brambly\n",
            ". high alcohol\n"
          ],
          "name": "stdout"
        }
      ]
    },
    {
      "cell_type": "code",
      "metadata": {
        "id": "SiiMK71KgzsH",
        "colab_type": "code",
        "outputId": "f72510c9-4803-4ac9-e3d0-5bbb26b3e03b",
        "colab": {
          "base_uri": "https://localhost:8080/",
          "height": 348
        }
      },
      "source": [
        "from sklearn.linear_model import LogisticRegression\n",
        "from sklearn.ensemble import RandomForestClassifier\n",
        "from sklearn.svm import LinearSVC\n",
        "from sklearn.naive_bayes import MultinomialNB\n",
        "from sklearn.model_selection import cross_val_score\n",
        "models = [\n",
        "    LinearSVC(verbose=1),\n",
        "    MultinomialNB(),\n",
        "]\n",
        "CV = 5\n",
        "cv_df = pd.DataFrame(index=range(CV * len(models)))\n",
        "entries = []\n",
        "for model in models:\n",
        "  model_name = model.__class__.__name__\n",
        "  print(\"Started Training {}\".format(model_name))\n",
        "  accuracies = cross_val_score(model, features, labels, scoring='accuracy', cv=CV)\n",
        "  for fold_idx, accuracy in enumerate(accuracies):\n",
        "    entries.append((model_name, fold_idx, accuracy))\n",
        "  print(\"Completed Training {}\".format(model_name))\n",
        "cv_df = pd.DataFrame(entries, columns=['model_name', 'fold_idx', 'accuracy'])\n",
        "import seaborn as sns\n",
        "sns.boxplot(x='model_name', y='accuracy', data=cv_df)\n",
        "sns.stripplot(x='model_name', y='accuracy', data=cv_df, \n",
        "              size=8, jitter=True, edgecolor=\"gray\", linewidth=2)\n",
        "plt.show()"
      ],
      "execution_count": 0,
      "outputs": [
        {
          "output_type": "stream",
          "text": [
            "Started Training LinearSVC\n",
            "[LibLinear][LibLinear][LibLinear][LibLinear][LibLinear]Completed Training LinearSVC\n",
            "Started Training MultinomialNB\n",
            "Completed Training MultinomialNB\n"
          ],
          "name": "stdout"
        },
        {
          "output_type": "display_data",
          "data": {
            "image/png": "[encoded data removed]",
            "text/plain": [
              "<Figure size 432x288 with 1 Axes>"
            ]
          },
          "metadata": {
            "tags": [],
            "needs_background": "light"
          }
        }
      ]
    },
    {
      "cell_type": "code",
      "metadata": {
        "id": "F9uma0FihT3J",
        "colab_type": "code",
        "outputId": "3d6422e5-78c1-4823-c54e-069b78e1d24a",
        "colab": {
          "base_uri": "https://localhost:8080/",
          "height": 85
        }
      },
      "source": [
        "cv_df.groupby('model_name').accuracy.mean()"
      ],
      "execution_count": 0,
      "outputs": [
        {
          "output_type": "execute_result",
          "data": {
            "text/plain": [
              "model_name\n",
              "LinearSVC        0.595416\n",
              "MultinomialNB    0.441419\n",
              "Name: accuracy, dtype: float64"
            ]
          },
          "metadata": {
            "tags": []
          },
          "execution_count": 30
        }
      ]
    },
    {
      "cell_type": "code",
      "metadata": {
        "id": "DnhbB0v-h2fa",
        "colab_type": "code",
        "outputId": "1057b1c4-95b7-49f1-e95e-4231f185b961",
        "colab": {
          "base_uri": "https://localhost:8080/",
          "height": 1000
        }
      },
      "source": [
        "from sklearn.model_selection import train_test_split\n",
        "model = LinearSVC()\n",
        "X_train, X_test, y_train, y_test, indices_train, indices_test = train_test_split(features, labels, df.index, test_size=0.33, random_state=0)\n",
        "model.fit(X_train, y_train)\n",
        "y_pred = model.predict(X_test)\n",
        "from sklearn.metrics import confusion_matrix\n",
        "conf_mat = confusion_matrix(y_test, y_pred)\n",
        "fig, ax = plt.subplots(figsize=(15,15))\n",
        "sns.heatmap(conf_mat, annot=True, fmt='d',\n",
        "            xticklabels=category_id_df.variety.values, yticklabels=category_id_df.variety.values)\n",
        "plt.ylabel('Actual')\n",
        "plt.xlabel('Predicted')\n",
        "plt.show()\n"
      ],
      "execution_count": 0,
      "outputs": [
        {
          "output_type": "display_data",
          "data": {
            "image/png": "[encoded data removed]",
            "text/plain": [
              "<Figure size 1080x1080 with 2 Axes>"
            ]
          },
          "metadata": {
            "tags": [],
            "needs_background": "light"
          }
        }
      ]
    },
    {
      "cell_type": "code",
      "metadata": {
        "id": "Frf_7DmziGfm",
        "colab_type": "code",
        "outputId": "3fa22dab-cace-406b-86cb-7facd26a583c",
        "colab": {
          "base_uri": "https://localhost:8080/",
          "height": 453
        }
      },
      "source": [
        "from IPython.display import display\n",
        "for predicted in category_id_df.category_id:\n",
        "  for actual in category_id_df.category_id:\n",
        "    if predicted != actual and conf_mat[actual, predicted] >= 100:\n",
        "      print(\"'{}' predicted as '{}' : {} examples.\".format(id_to_category[actual], id_to_category[predicted], conf_mat[actual, predicted]))\n",
        "      display(df.loc[indices_test[(y_test == actual) & (y_pred == predicted)]][['variety', 'review_description']])\n",
        "      print('')"
      ],
      "execution_count": 0,
      "outputs": [
        {
          "output_type": "stream",
          "text": [
            "'Sauvignon Blanc' predicted as 'Chardonnay' : 134 examples.\n"
          ],
          "name": "stdout"
        },
        {
          "output_type": "display_data",
          "data": {
            "text/html": [
              "<div>\n",
              "<style scoped>\n",
              "    .dataframe tbody tr th:only-of-type {\n",
              "        vertical-align: middle;\n",
              "    }\n",
              "\n",
              "    .dataframe tbody tr th {\n",
              "        vertical-align: top;\n",
              "    }\n",
              "\n",
              "    .dataframe thead th {\n",
              "        text-align: right;\n",
              "    }\n",
              "</style>\n",
              "<table border=\"1\" class=\"dataframe\">\n",
              "  <thead>\n",
              "    <tr style=\"text-align: right;\">\n",
              "      <th></th>\n",
              "      <th>variety</th>\n",
              "      <th>review_description</th>\n",
              "    </tr>\n",
              "  </thead>\n",
              "  <tbody>\n",
              "    <tr>\n",
              "      <th>34120</th>\n",
              "      <td>Sauvignon Blanc</td>\n",
              "      <td>Tart, tangy lemon flavor meets green apple and...</td>\n",
              "    </tr>\n",
              "    <tr>\n",
              "      <th>33868</th>\n",
              "      <td>Sauvignon Blanc</td>\n",
              "      <td>Aromas of caramel, toffee and lemon zest set t...</td>\n",
              "    </tr>\n",
              "    <tr>\n",
              "      <th>23942</th>\n",
              "      <td>Sauvignon Blanc</td>\n",
              "      <td>From the intensely steep Monts Damnés vineyard...</td>\n",
              "    </tr>\n",
              "    <tr>\n",
              "      <th>23042</th>\n",
              "      <td>Sauvignon Blanc</td>\n",
              "      <td>Wheaty white-fruit aromas lack pop and clarity...</td>\n",
              "    </tr>\n",
              "    <tr>\n",
              "      <th>35276</th>\n",
              "      <td>Sauvignon Blanc</td>\n",
              "      <td>Aromas of herb, grass, pear and citrus lead to...</td>\n",
              "    </tr>\n",
              "    <tr>\n",
              "      <th>...</th>\n",
              "      <td>...</td>\n",
              "      <td>...</td>\n",
              "    </tr>\n",
              "    <tr>\n",
              "      <th>30596</th>\n",
              "      <td>Sauvignon Blanc</td>\n",
              "      <td>Citrusy aromas suggest white grapefruit. Plump...</td>\n",
              "    </tr>\n",
              "    <tr>\n",
              "      <th>20788</th>\n",
              "      <td>Sauvignon Blanc</td>\n",
              "      <td>Aged half in stainless and half in new French ...</td>\n",
              "    </tr>\n",
              "    <tr>\n",
              "      <th>6314</th>\n",
              "      <td>Sauvignon Blanc</td>\n",
              "      <td>This is on the full-bodied side, quite ripe an...</td>\n",
              "    </tr>\n",
              "    <tr>\n",
              "      <th>21965</th>\n",
              "      <td>Sauvignon Blanc</td>\n",
              "      <td>This is dry, but lushly fruity, with sour-cand...</td>\n",
              "    </tr>\n",
              "    <tr>\n",
              "      <th>13196</th>\n",
              "      <td>Sauvignon Blanc</td>\n",
              "      <td>With three years' aging, this has developed in...</td>\n",
              "    </tr>\n",
              "  </tbody>\n",
              "</table>\n",
              "<p>134 rows × 2 columns</p>\n",
              "</div>"
            ],
            "text/plain": [
              "               variety                                 review_description\n",
              "34120  Sauvignon Blanc  Tart, tangy lemon flavor meets green apple and...\n",
              "33868  Sauvignon Blanc  Aromas of caramel, toffee and lemon zest set t...\n",
              "23942  Sauvignon Blanc  From the intensely steep Monts Damnés vineyard...\n",
              "23042  Sauvignon Blanc  Wheaty white-fruit aromas lack pop and clarity...\n",
              "35276  Sauvignon Blanc  Aromas of herb, grass, pear and citrus lead to...\n",
              "...                ...                                                ...\n",
              "30596  Sauvignon Blanc  Citrusy aromas suggest white grapefruit. Plump...\n",
              "20788  Sauvignon Blanc  Aged half in stainless and half in new French ...\n",
              "6314   Sauvignon Blanc  This is on the full-bodied side, quite ripe an...\n",
              "21965  Sauvignon Blanc  This is dry, but lushly fruity, with sour-cand...\n",
              "13196  Sauvignon Blanc  With three years' aging, this has developed in...\n",
              "\n",
              "[134 rows x 2 columns]"
            ]
          },
          "metadata": {
            "tags": []
          }
        },
        {
          "output_type": "stream",
          "text": [
            "\n"
          ],
          "name": "stdout"
        }
      ]
    },
    {
      "cell_type": "code",
      "metadata": {
        "id": "qNoaFfCOiWxc",
        "colab_type": "code",
        "outputId": "096f55ac-06bd-43c4-9536-2b76dc295466",
        "colab": {
          "base_uri": "https://localhost:8080/",
          "height": 1000
        }
      },
      "source": [
        "model.fit(features, labels)\n",
        "N = 2\n",
        "for Product, category_id in sorted(category_to_id.items()):\n",
        "  indices = np.argsort(model.coef_[category_id])\n",
        "  feature_names = np.array(tfidf.get_feature_names())[indices]\n",
        "  unigrams = [v for v in reversed(feature_names) if len(v.split(' ')) == 1][:N]\n",
        "  bigrams = [v for v in reversed(feature_names) if len(v.split(' ')) == 2][:N]\n",
        "  print(\"# '{}':\".format(Product))\n",
        "  print(\"  . Top unigrams:\\n       . {}\".format('\\n       . '.join(unigrams)))\n",
        "  print(\"  . Top bigrams:\\n       . {}\".format('\\n       . '.join(bigrams)))"
      ],
      "execution_count": 0,
      "outputs": [
        {
          "output_type": "stream",
          "text": [
            "# 'Bordeaux-style Red Blend':\n",
            "  . Top unigrams:\n",
            "       . bordeaux\n",
            "       . based\n",
            "  . Top bigrams:\n",
            "       . black currant\n",
            "       . bordeaux style\n",
            "# 'Bordeaux-style White Blend':\n",
            "  . Top unigrams:\n",
            "       . sémillon\n",
            "       . botrytis\n",
            "  . Top bigrams:\n",
            "       . age year\n",
            "       . stone fruits\n",
            "# 'Cabernet Franc':\n",
            "  . Top unigrams:\n",
            "       . cab\n",
            "       . loire\n",
            "  . Top bigrams:\n",
            "       . flowers cherry\n",
            "       . cherries tobacco\n",
            "# 'Cabernet Sauvignon':\n",
            "  . Top unigrams:\n",
            "       . cab\n",
            "       . cassis\n",
            "  . Top bigrams:\n",
            "       . verdot petite\n",
            "       . black currants\n",
            "# 'Champagne Blend':\n",
            "  . Top unigrams:\n",
            "       . nonvintage\n",
            "       . meunier\n",
            "  . Top bigrams:\n",
            "       . dry also\n",
            "       . high dosage\n",
            "# 'Chardonnay':\n",
            "  . Top unigrams:\n",
            "       . chard\n",
            "       . chablis\n",
            "  . Top bigrams:\n",
            "       . de blancs\n",
            "       . yellow fruits\n",
            "# 'Gamay':\n",
            "  . Top unigrams:\n",
            "       . beaujolais\n",
            "       . cherry\n",
            "  . Top bigrams:\n",
            "       . cru wine\n",
            "       . cherry fruits\n",
            "# 'Gewürztraminer':\n",
            "  . Top unigrams:\n",
            "       . lychee\n",
            "       . gewurztraminer\n",
            "  . Top bigrams:\n",
            "       . medium sweet\n",
            "       . peach nose\n",
            "# 'Grüner Veltliner':\n",
            "  . Top unigrams:\n",
            "       . screwcap\n",
            "       . pepper\n",
            "  . Top bigrams:\n",
            "       . green pear\n",
            "       . green pears\n",
            "# 'Malbec':\n",
            "  . Top unigrams:\n",
            "       . malbecs\n",
            "       . cahors\n",
            "  . Top bigrams:\n",
            "       . feel herbal\n",
            "       . leathery aromas\n",
            "# 'Merlot':\n",
            "  . Top unigrams:\n",
            "       . merlots\n",
            "       . resolved\n",
            "  . Top bigrams:\n",
            "       . tannins linger\n",
            "       . slightly gritty\n",
            "# 'Nebbiolo':\n",
            "  . Top unigrams:\n",
            "       . barolo\n",
            "       . barbaresco\n",
            "  . Top bigrams:\n",
            "       . bracing tannins\n",
            "       . cellar floor\n",
            "# 'Pinot Grigio':\n",
            "  . Top unigrams:\n",
            "       . grigios\n",
            "       . faintly\n",
            "  . Top bigrams:\n",
            "       . pear hint\n",
            "       . aromas peach\n",
            "# 'Pinot Gris':\n",
            "  . Top unigrams:\n",
            "       . pear\n",
            "       . resonant\n",
            "  . Top bigrams:\n",
            "       . pear fruit\n",
            "       . tight bright\n",
            "# 'Pinot Noir':\n",
            "  . Top unigrams:\n",
            "       . pinots\n",
            "       . cherry\n",
            "  . Top bigrams:\n",
            "       . finish ready\n",
            "       . tense acidity\n",
            "# 'Portuguese Red':\n",
            "  . Top unigrams:\n",
            "       . douro\n",
            "       . baga\n",
            "  . Top bigrams:\n",
            "       . alicante bouschet\n",
            "       . solid tannic\n",
            "# 'Portuguese White':\n",
            "  . Top unigrams:\n",
            "       . arinto\n",
            "       . alvarinho\n",
            "  . Top bigrams:\n",
            "       . vinho verde\n",
            "       . light prickle\n",
            "# 'Red Blend':\n",
            "  . Top unigrams:\n",
            "       . carmenère\n",
            "       . garnacha\n",
            "  . Top bigrams:\n",
            "       . super tuscan\n",
            "       . hint baking\n",
            "# 'Rhône-style Red Blend':\n",
            "  . Top unigrams:\n",
            "       . grenache\n",
            "       . mourvèdre\n",
            "  . Top bigrams:\n",
            "       . côtes du\n",
            "       . châteauneuf du\n",
            "# 'Riesling':\n",
            "  . Top unigrams:\n",
            "       . petrol\n",
            "       . rieslings\n",
            "  . Top bigrams:\n",
            "       . yellow cherry\n",
            "       . residual sugar\n",
            "# 'Rosé':\n",
            "  . Top unigrams:\n",
            "       . provence\n",
            "       . caramel\n",
            "  . Top bigrams:\n",
            "       . blush wine\n",
            "       . cherry apple\n",
            "# 'Sangiovese':\n",
            "  . Top unigrams:\n",
            "       . brunello\n",
            "       . chianti\n",
            "  . Top bigrams:\n",
            "       . made entirely\n",
            "       . compote licorice\n",
            "# 'Sauvignon Blanc':\n",
            "  . Top unigrams:\n",
            "       . gooseberry\n",
            "       . sancerre\n",
            "  . Top bigrams:\n",
            "       . pouilly fumé\n",
            "       . passion fruit\n",
            "# 'Sparkling Blend':\n",
            "  . Top unigrams:\n",
            "       . cava\n",
            "       . bubbly\n",
            "  . Top bigrams:\n",
            "       . yeasty toasty\n",
            "       . beautifully dry\n",
            "# 'Syrah':\n",
            "  . Top unigrams:\n",
            "       . syrahs\n",
            "       . pepper\n",
            "  . Top bigrams:\n",
            "       . cedar vanilla\n",
            "       . lewis vineyard\n",
            "# 'Tempranillo':\n",
            "  . Top unigrams:\n",
            "       . rioja\n",
            "       . ribera\n",
            "  . Top bigrams:\n",
            "       . mix sweet\n",
            "       . grabby palate\n",
            "# 'White Blend':\n",
            "  . Top unigrams:\n",
            "       . viura\n",
            "       . viognier\n",
            "  . Top bigrams:\n",
            "       . de oeil\n",
            "       . loin de\n",
            "# 'Zinfandel':\n",
            "  . Top unigrams:\n",
            "       . zin\n",
            "       . zins\n",
            "  . Top bigrams:\n",
            "       . dry farmed\n",
            "       . alcohol high\n"
          ],
          "name": "stdout"
        }
      ]
    },
    {
      "cell_type": "code",
      "metadata": {
        "id": "UvVXKutGiwBP",
        "colab_type": "code",
        "outputId": "8f22d2a4-474e-427f-8051-fdb4c2ce3980",
        "colab": {
          "base_uri": "https://localhost:8080/",
          "height": 612
        }
      },
      "source": [
        "from sklearn import metrics\n",
        "print(metrics.classification_report(y_test, y_pred, target_names=df['variety'].unique()))"
      ],
      "execution_count": 0,
      "outputs": [
        {
          "output_type": "stream",
          "text": [
            "                            precision    recall  f1-score   support\n",
            "\n",
            "                      Rosé       0.63      0.63      0.63       459\n",
            "               White Blend       0.68      0.46      0.54       296\n",
            "                     Syrah       0.47      0.39      0.43       546\n",
            "                 Red Blend       0.53      0.53      0.53      1153\n",
            "                 Zinfandel       0.61      0.51      0.56       345\n",
            "  Bordeaux-style Red Blend       0.60      0.68      0.64       876\n",
            "          Grüner Veltliner       0.69      0.49      0.58       183\n",
            "                Pinot Noir       0.64      0.77      0.70      1795\n",
            "                  Riesling       0.67      0.75      0.71       676\n",
            "                Sangiovese       0.54      0.41      0.47       358\n",
            "                Chardonnay       0.65      0.80      0.72      1603\n",
            "        Cabernet Sauvignon       0.53      0.60      0.57      1286\n",
            "                  Nebbiolo       0.75      0.76      0.75       392\n",
            "            Portuguese Red       0.57      0.56      0.57       334\n",
            "           Champagne Blend       0.59      0.41      0.48       185\n",
            "           Sauvignon Blanc       0.58      0.58      0.58       664\n",
            "                    Malbec       0.37      0.32      0.34       346\n",
            "            Gewürztraminer       0.70      0.51      0.59       135\n",
            "            Cabernet Franc       0.26      0.08      0.13       180\n",
            "               Tempranillo       0.38      0.36      0.37       227\n",
            "Bordeaux-style White Blend       0.45      0.26      0.33       136\n",
            "              Pinot Grigio       0.46      0.30      0.36       120\n",
            "                    Merlot       0.27      0.16      0.20       404\n",
            "           Sparkling Blend       0.72      0.59      0.65       282\n",
            "          Portuguese White       0.64      0.48      0.55       147\n",
            "                     Gamay       0.61      0.52      0.56       147\n",
            "                Pinot Gris       0.45      0.29      0.35       170\n",
            "     Rhône-style Red Blend       0.64      0.49      0.55       191\n",
            "\n",
            "                  accuracy                           0.59     13636\n",
            "                 macro avg       0.56      0.49      0.52     13636\n",
            "              weighted avg       0.58      0.59      0.58     13636\n",
            "\n"
          ],
          "name": "stdout"
        }
      ]
    },
    {
      "cell_type": "code",
      "metadata": {
        "id": "-SGCdD-0i3V7",
        "colab_type": "code",
        "colab": {}
      },
      "source": [
        "from joblib import dump,load"
      ],
      "execution_count": 0,
      "outputs": []
    },
    {
      "cell_type": "code",
      "metadata": {
        "id": "EQ1yMjETjawO",
        "colab_type": "code",
        "outputId": "a9d46b6a-34c4-4f76-d5d0-7a0a8f6edb3d",
        "colab": {
          "base_uri": "https://localhost:8080/",
          "height": 34
        }
      },
      "source": [
        "dump(tfidf,'tfidf_review_description_mod.joblib')"
      ],
      "execution_count": 0,
      "outputs": [
        {
          "output_type": "execute_result",
          "data": {
            "text/plain": [
              "['tfidf_review_description_mod.joblib']"
            ]
          },
          "metadata": {
            "tags": []
          },
          "execution_count": 25
        }
      ]
    },
    {
      "cell_type": "code",
      "metadata": {
        "id": "n3f3oy--jhj9",
        "colab_type": "code",
        "outputId": "a95378f1-b465-4ec9-99b4-54def2f3245b",
        "colab": {
          "base_uri": "https://localhost:8080/",
          "height": 34
        }
      },
      "source": [
        "dump(model,'svm_review_description_mod.joblib')"
      ],
      "execution_count": 0,
      "outputs": [
        {
          "output_type": "execute_result",
          "data": {
            "text/plain": [
              "['svm_review_description_mod.joblib']"
            ]
          },
          "metadata": {
            "tags": []
          },
          "execution_count": 35
        }
      ]
    },
    {
      "cell_type": "code",
      "metadata": {
        "id": "07eqFpzvjpOh",
        "colab_type": "code",
        "colab": {}
      },
      "source": [
        ""
      ],
      "execution_count": 0,
      "outputs": []
    }
  ]
}