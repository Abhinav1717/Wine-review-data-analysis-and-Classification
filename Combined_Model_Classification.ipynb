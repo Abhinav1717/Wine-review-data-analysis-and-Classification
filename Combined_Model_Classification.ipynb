{
  "nbformat": 4,
  "nbformat_minor": 0,
  "metadata": {
    "colab": {
      "name": "Combined Model Classification",
      "provenance": [],
      "collapsed_sections": []
    },
    "kernelspec": {
      "name": "python3",
      "display_name": "Python 3"
    }
  },
  "cells": [
    {
      "cell_type": "code",
      "metadata": {
        "id": "mKO_GPH8flVm",
        "colab_type": "code",
        "outputId": "8e7c2c1e-d1df-44b9-ab3e-a05719774c74",
        "colab": {
          "base_uri": "https://localhost:8080/",
          "height": 34
        }
      },
      "source": [
        "from google.colab import drive \n",
        "drive.mount('/gdrive')"
      ],
      "execution_count": 0,
      "outputs": [
        {
          "output_type": "stream",
          "text": [
            "Drive already mounted at /gdrive; to attempt to forcibly remount, call drive.mount(\"/gdrive\", force_remount=True).\n"
          ],
          "name": "stdout"
        }
      ]
    },
    {
      "cell_type": "code",
      "metadata": {
        "id": "emNfolw1fzH7",
        "colab_type": "code",
        "colab": {}
      },
      "source": [
        "import pandas as pd\n",
        "from joblib import load\n",
        "import seaborn as sns\n",
        "import numpy as np\n",
        "import matplotlib.pyplot as plt\n",
        "%matplotlib inline "
      ],
      "execution_count": 0,
      "outputs": []
    },
    {
      "cell_type": "code",
      "metadata": {
        "id": "Sw4gKhDihNrn",
        "colab_type": "code",
        "outputId": "42f342b9-e54a-4062-817c-d16461d1ca30",
        "colab": {
          "base_uri": "https://localhost:8080/",
          "height": 34
        }
      },
      "source": [
        "cd '/gdrive/My Drive/Colab Notebooks/Knight ML Assignment/Data/mydata'"
      ],
      "execution_count": 0,
      "outputs": [
        {
          "output_type": "stream",
          "text": [
            "/gdrive/My Drive/Colab Notebooks/Knight ML Assignment/Data/mydata\n"
          ],
          "name": "stdout"
        }
      ]
    },
    {
      "cell_type": "code",
      "metadata": {
        "id": "UuEmlhZghGJf",
        "colab_type": "code",
        "colab": {}
      },
      "source": [
        "nb_model=load('nb_numerical_features.joblib')"
      ],
      "execution_count": 0,
      "outputs": []
    },
    {
      "cell_type": "code",
      "metadata": {
        "id": "bkXGIT1chd0C",
        "colab_type": "code",
        "colab": {}
      },
      "source": [
        "rd_model=load('svm_review_description.joblib')"
      ],
      "execution_count": 0,
      "outputs": []
    },
    {
      "cell_type": "code",
      "metadata": {
        "id": "gFNSX9-NhrQy",
        "colab_type": "code",
        "colab": {}
      },
      "source": [
        "rt_model=load('svm_review_title.joblib')"
      ],
      "execution_count": 0,
      "outputs": []
    },
    {
      "cell_type": "code",
      "metadata": {
        "id": "08nwksBihxQF",
        "colab_type": "code",
        "colab": {}
      },
      "source": [
        "rd_tfidf=load('tfidf_review_description.joblib')"
      ],
      "execution_count": 0,
      "outputs": []
    },
    {
      "cell_type": "code",
      "metadata": {
        "id": "AB_vi0G-h7EP",
        "colab_type": "code",
        "colab": {}
      },
      "source": [
        "rt_tfidf=load('tfidf_review_title.joblib')"
      ],
      "execution_count": 0,
      "outputs": []
    },
    {
      "cell_type": "code",
      "metadata": {
        "id": "bPwBeEiHG_Jh",
        "colab_type": "code",
        "colab": {}
      },
      "source": [
        "country_encoder= load('country_encoder.joblib')\n",
        "points_encoder= load('points_encoder.joblib')"
      ],
      "execution_count": 0,
      "outputs": []
    },
    {
      "cell_type": "code",
      "metadata": {
        "id": "lEuamC81iChN",
        "colab_type": "code",
        "colab": {}
      },
      "source": [
        "df=pd.read_csv('df2_train.csv')[['country', 'review_title', 'review_description', 'points',\n",
        "       'province', 'variety']]"
      ],
      "execution_count": 0,
      "outputs": []
    },
    {
      "cell_type": "code",
      "metadata": {
        "id": "Al5oOFi6km0-",
        "colab_type": "code",
        "colab": {}
      },
      "source": [
        "id_to_category = load('label_dictionary.joblib')"
      ],
      "execution_count": 0,
      "outputs": []
    },
    {
      "cell_type": "code",
      "metadata": {
        "id": "DLTgXCEKiIh7",
        "colab_type": "code",
        "outputId": "9c3f30cb-6897-48bc-ae30-cd5d650b5d56",
        "colab": {
          "base_uri": "https://localhost:8080/",
          "height": 204
        }
      },
      "source": [
        "df.head()"
      ],
      "execution_count": 0,
      "outputs": [
        {
          "output_type": "execute_result",
          "data": {
            "text/html": [
              "<div>\n",
              "<style scoped>\n",
              "    .dataframe tbody tr th:only-of-type {\n",
              "        vertical-align: middle;\n",
              "    }\n",
              "\n",
              "    .dataframe tbody tr th {\n",
              "        vertical-align: top;\n",
              "    }\n",
              "\n",
              "    .dataframe thead th {\n",
              "        text-align: right;\n",
              "    }\n",
              "</style>\n",
              "<table border=\"1\" class=\"dataframe\">\n",
              "  <thead>\n",
              "    <tr style=\"text-align: right;\">\n",
              "      <th></th>\n",
              "      <th>country</th>\n",
              "      <th>review_title</th>\n",
              "      <th>review_description</th>\n",
              "      <th>points</th>\n",
              "      <th>province</th>\n",
              "      <th>variety</th>\n",
              "    </tr>\n",
              "  </thead>\n",
              "  <tbody>\n",
              "    <tr>\n",
              "      <th>0</th>\n",
              "      <td>France</td>\n",
              "      <td>Château Haut la Pointe 2016  Blaye Côtes de Bo...</td>\n",
              "      <td>This ripe young wine, with its blueberry aroma...</td>\n",
              "      <td>87</td>\n",
              "      <td>Bordeaux</td>\n",
              "      <td>Bordeaux-style Red Blend</td>\n",
              "    </tr>\n",
              "    <tr>\n",
              "      <th>1</th>\n",
              "      <td>US</td>\n",
              "      <td>Michael David 2009 Lust Zinfandel (Lodi)</td>\n",
              "      <td>Nothing small about this wine. A super-dark, r...</td>\n",
              "      <td>85</td>\n",
              "      <td>California</td>\n",
              "      <td>Zinfandel</td>\n",
              "    </tr>\n",
              "    <tr>\n",
              "      <th>2</th>\n",
              "      <td>Italy</td>\n",
              "      <td>Masseto 2011 Merlot (Toscana)</td>\n",
              "      <td>A rich, ripe expression of one of Italy's icon...</td>\n",
              "      <td>94</td>\n",
              "      <td>Tuscany</td>\n",
              "      <td>Merlot</td>\n",
              "    </tr>\n",
              "    <tr>\n",
              "      <th>3</th>\n",
              "      <td>US</td>\n",
              "      <td>Bridlewood 2011 Blend 175 Red (Central Coast)</td>\n",
              "      <td>A blend of Syrah, Cabernet Sauvignon, Viognier...</td>\n",
              "      <td>85</td>\n",
              "      <td>California</td>\n",
              "      <td>Red Blend</td>\n",
              "    </tr>\n",
              "    <tr>\n",
              "      <th>4</th>\n",
              "      <td>US</td>\n",
              "      <td>La Crema 1998 Zinfandel (Sonoma County)</td>\n",
              "      <td>Smooth style, with lots of vanilla cream and r...</td>\n",
              "      <td>86</td>\n",
              "      <td>California</td>\n",
              "      <td>Zinfandel</td>\n",
              "    </tr>\n",
              "  </tbody>\n",
              "</table>\n",
              "</div>"
            ],
            "text/plain": [
              "  country  ...                   variety\n",
              "0  France  ...  Bordeaux-style Red Blend\n",
              "1      US  ...                 Zinfandel\n",
              "2   Italy  ...                    Merlot\n",
              "3      US  ...                 Red Blend\n",
              "4      US  ...                 Zinfandel\n",
              "\n",
              "[5 rows x 6 columns]"
            ]
          },
          "metadata": {
            "tags": []
          },
          "execution_count": 169
        }
      ]
    },
    {
      "cell_type": "code",
      "metadata": {
        "id": "0GAdCCF2iMIl",
        "colab_type": "code",
        "colab": {}
      },
      "source": [
        "rd_features = rd_tfidf.transform(df.review_description).toarray()"
      ],
      "execution_count": 0,
      "outputs": []
    },
    {
      "cell_type": "code",
      "metadata": {
        "id": "ZMVA072uikm5",
        "colab_type": "code",
        "colab": {}
      },
      "source": [
        "labels=df.variety"
      ],
      "execution_count": 0,
      "outputs": []
    },
    {
      "cell_type": "code",
      "metadata": {
        "id": "AYWghpGjnZ3S",
        "colab_type": "code",
        "outputId": "806f7937-d2db-4879-e28e-a1f163a43eef",
        "colab": {
          "base_uri": "https://localhost:8080/",
          "height": 221
        }
      },
      "source": [
        "labels"
      ],
      "execution_count": 0,
      "outputs": [
        {
          "output_type": "execute_result",
          "data": {
            "text/plain": [
              "0        Bordeaux-style Red Blend\n",
              "1                       Zinfandel\n",
              "2                          Merlot\n",
              "3                       Red Blend\n",
              "4                       Zinfandel\n",
              "                   ...           \n",
              "40694                       Gamay\n",
              "40695              Gewürztraminer\n",
              "40696             Sauvignon Blanc\n",
              "40697                    Nebbiolo\n",
              "40698                       Syrah\n",
              "Name: variety, Length: 40699, dtype: object"
            ]
          },
          "metadata": {
            "tags": []
          },
          "execution_count": 172
        }
      ]
    },
    {
      "cell_type": "code",
      "metadata": {
        "id": "6jJAeB2ri4cb",
        "colab_type": "code",
        "colab": {}
      },
      "source": [
        "rd_features = pd.Series(rd_model.predict(rd_features)).map(id_to_category)"
      ],
      "execution_count": 0,
      "outputs": []
    },
    {
      "cell_type": "code",
      "metadata": {
        "id": "Aco3IfO5i5UC",
        "colab_type": "code",
        "colab": {}
      },
      "source": [
        "rd_features = rd_features.apply(lambda x: 'rd_'+x)"
      ],
      "execution_count": 0,
      "outputs": []
    },
    {
      "cell_type": "code",
      "metadata": {
        "id": "gX5Lp-BxlLZt",
        "colab_type": "code",
        "colab": {}
      },
      "source": [
        "rd_features = pd.get_dummies(rd_features,drop_first=True)"
      ],
      "execution_count": 0,
      "outputs": []
    },
    {
      "cell_type": "code",
      "metadata": {
        "id": "oS4D-kOznAHt",
        "colab_type": "code",
        "colab": {}
      },
      "source": [
        "rt_features=rt_tfidf.transform(df.review_title).toarray()"
      ],
      "execution_count": 0,
      "outputs": []
    },
    {
      "cell_type": "code",
      "metadata": {
        "id": "98FcTSionfLH",
        "colab_type": "code",
        "colab": {}
      },
      "source": [
        "rt_features = pd.Series(rt_model.predict(rt_features)).map(id_to_category)"
      ],
      "execution_count": 0,
      "outputs": []
    },
    {
      "cell_type": "code",
      "metadata": {
        "id": "X1EyIKfhno1S",
        "colab_type": "code",
        "colab": {}
      },
      "source": [
        "rt_features = rt_features.apply(lambda x: 'rt_'+x)"
      ],
      "execution_count": 0,
      "outputs": []
    },
    {
      "cell_type": "code",
      "metadata": {
        "id": "4buH0-shn1L2",
        "colab_type": "code",
        "colab": {}
      },
      "source": [
        "rt_features = pd.get_dummies(rt_features,drop_first=True)"
      ],
      "execution_count": 0,
      "outputs": []
    },
    {
      "cell_type": "code",
      "metadata": {
        "id": "M6R43-Aen6ny",
        "colab_type": "code",
        "outputId": "b7c2d048-3c39-4cb9-c982-fc24a975b759",
        "colab": {
          "base_uri": "https://localhost:8080/",
          "height": 473
        }
      },
      "source": [
        "rt_features"
      ],
      "execution_count": 0,
      "outputs": [
        {
          "output_type": "execute_result",
          "data": {
            "text/html": [
              "<div>\n",
              "<style scoped>\n",
              "    .dataframe tbody tr th:only-of-type {\n",
              "        vertical-align: middle;\n",
              "    }\n",
              "\n",
              "    .dataframe tbody tr th {\n",
              "        vertical-align: top;\n",
              "    }\n",
              "\n",
              "    .dataframe thead th {\n",
              "        text-align: right;\n",
              "    }\n",
              "</style>\n",
              "<table border=\"1\" class=\"dataframe\">\n",
              "  <thead>\n",
              "    <tr style=\"text-align: right;\">\n",
              "      <th></th>\n",
              "      <th>rt_Bordeaux-style White Blend</th>\n",
              "      <th>rt_Cabernet Franc</th>\n",
              "      <th>rt_Cabernet Sauvignon</th>\n",
              "      <th>rt_Champagne Blend</th>\n",
              "      <th>rt_Chardonnay</th>\n",
              "      <th>rt_Gamay</th>\n",
              "      <th>rt_Gewürztraminer</th>\n",
              "      <th>rt_Grüner Veltliner</th>\n",
              "      <th>rt_Malbec</th>\n",
              "      <th>rt_Merlot</th>\n",
              "      <th>rt_Nebbiolo</th>\n",
              "      <th>rt_Pinot Grigio</th>\n",
              "      <th>rt_Pinot Gris</th>\n",
              "      <th>rt_Pinot Noir</th>\n",
              "      <th>rt_Portuguese Red</th>\n",
              "      <th>rt_Portuguese White</th>\n",
              "      <th>rt_Red Blend</th>\n",
              "      <th>rt_Rhône-style Red Blend</th>\n",
              "      <th>rt_Riesling</th>\n",
              "      <th>rt_Rosé</th>\n",
              "      <th>rt_Sangiovese</th>\n",
              "      <th>rt_Sauvignon Blanc</th>\n",
              "      <th>rt_Sparkling Blend</th>\n",
              "      <th>rt_Syrah</th>\n",
              "      <th>rt_Tempranillo</th>\n",
              "      <th>rt_White Blend</th>\n",
              "      <th>rt_Zinfandel</th>\n",
              "    </tr>\n",
              "  </thead>\n",
              "  <tbody>\n",
              "    <tr>\n",
              "      <th>0</th>\n",
              "      <td>0</td>\n",
              "      <td>0</td>\n",
              "      <td>0</td>\n",
              "      <td>0</td>\n",
              "      <td>0</td>\n",
              "      <td>0</td>\n",
              "      <td>0</td>\n",
              "      <td>0</td>\n",
              "      <td>0</td>\n",
              "      <td>0</td>\n",
              "      <td>0</td>\n",
              "      <td>0</td>\n",
              "      <td>0</td>\n",
              "      <td>0</td>\n",
              "      <td>0</td>\n",
              "      <td>0</td>\n",
              "      <td>0</td>\n",
              "      <td>0</td>\n",
              "      <td>0</td>\n",
              "      <td>0</td>\n",
              "      <td>0</td>\n",
              "      <td>0</td>\n",
              "      <td>0</td>\n",
              "      <td>0</td>\n",
              "      <td>0</td>\n",
              "      <td>0</td>\n",
              "      <td>0</td>\n",
              "    </tr>\n",
              "    <tr>\n",
              "      <th>1</th>\n",
              "      <td>0</td>\n",
              "      <td>0</td>\n",
              "      <td>0</td>\n",
              "      <td>0</td>\n",
              "      <td>0</td>\n",
              "      <td>0</td>\n",
              "      <td>0</td>\n",
              "      <td>0</td>\n",
              "      <td>0</td>\n",
              "      <td>0</td>\n",
              "      <td>0</td>\n",
              "      <td>0</td>\n",
              "      <td>0</td>\n",
              "      <td>0</td>\n",
              "      <td>0</td>\n",
              "      <td>0</td>\n",
              "      <td>0</td>\n",
              "      <td>0</td>\n",
              "      <td>0</td>\n",
              "      <td>0</td>\n",
              "      <td>0</td>\n",
              "      <td>0</td>\n",
              "      <td>0</td>\n",
              "      <td>0</td>\n",
              "      <td>0</td>\n",
              "      <td>0</td>\n",
              "      <td>1</td>\n",
              "    </tr>\n",
              "    <tr>\n",
              "      <th>2</th>\n",
              "      <td>0</td>\n",
              "      <td>0</td>\n",
              "      <td>0</td>\n",
              "      <td>0</td>\n",
              "      <td>0</td>\n",
              "      <td>0</td>\n",
              "      <td>0</td>\n",
              "      <td>0</td>\n",
              "      <td>0</td>\n",
              "      <td>1</td>\n",
              "      <td>0</td>\n",
              "      <td>0</td>\n",
              "      <td>0</td>\n",
              "      <td>0</td>\n",
              "      <td>0</td>\n",
              "      <td>0</td>\n",
              "      <td>0</td>\n",
              "      <td>0</td>\n",
              "      <td>0</td>\n",
              "      <td>0</td>\n",
              "      <td>0</td>\n",
              "      <td>0</td>\n",
              "      <td>0</td>\n",
              "      <td>0</td>\n",
              "      <td>0</td>\n",
              "      <td>0</td>\n",
              "      <td>0</td>\n",
              "    </tr>\n",
              "    <tr>\n",
              "      <th>3</th>\n",
              "      <td>0</td>\n",
              "      <td>0</td>\n",
              "      <td>0</td>\n",
              "      <td>0</td>\n",
              "      <td>0</td>\n",
              "      <td>0</td>\n",
              "      <td>0</td>\n",
              "      <td>0</td>\n",
              "      <td>0</td>\n",
              "      <td>0</td>\n",
              "      <td>0</td>\n",
              "      <td>0</td>\n",
              "      <td>0</td>\n",
              "      <td>0</td>\n",
              "      <td>0</td>\n",
              "      <td>0</td>\n",
              "      <td>1</td>\n",
              "      <td>0</td>\n",
              "      <td>0</td>\n",
              "      <td>0</td>\n",
              "      <td>0</td>\n",
              "      <td>0</td>\n",
              "      <td>0</td>\n",
              "      <td>0</td>\n",
              "      <td>0</td>\n",
              "      <td>0</td>\n",
              "      <td>0</td>\n",
              "    </tr>\n",
              "    <tr>\n",
              "      <th>4</th>\n",
              "      <td>0</td>\n",
              "      <td>0</td>\n",
              "      <td>0</td>\n",
              "      <td>0</td>\n",
              "      <td>0</td>\n",
              "      <td>0</td>\n",
              "      <td>0</td>\n",
              "      <td>0</td>\n",
              "      <td>0</td>\n",
              "      <td>0</td>\n",
              "      <td>0</td>\n",
              "      <td>0</td>\n",
              "      <td>0</td>\n",
              "      <td>0</td>\n",
              "      <td>0</td>\n",
              "      <td>0</td>\n",
              "      <td>0</td>\n",
              "      <td>0</td>\n",
              "      <td>0</td>\n",
              "      <td>0</td>\n",
              "      <td>0</td>\n",
              "      <td>0</td>\n",
              "      <td>0</td>\n",
              "      <td>0</td>\n",
              "      <td>0</td>\n",
              "      <td>0</td>\n",
              "      <td>1</td>\n",
              "    </tr>\n",
              "    <tr>\n",
              "      <th>...</th>\n",
              "      <td>...</td>\n",
              "      <td>...</td>\n",
              "      <td>...</td>\n",
              "      <td>...</td>\n",
              "      <td>...</td>\n",
              "      <td>...</td>\n",
              "      <td>...</td>\n",
              "      <td>...</td>\n",
              "      <td>...</td>\n",
              "      <td>...</td>\n",
              "      <td>...</td>\n",
              "      <td>...</td>\n",
              "      <td>...</td>\n",
              "      <td>...</td>\n",
              "      <td>...</td>\n",
              "      <td>...</td>\n",
              "      <td>...</td>\n",
              "      <td>...</td>\n",
              "      <td>...</td>\n",
              "      <td>...</td>\n",
              "      <td>...</td>\n",
              "      <td>...</td>\n",
              "      <td>...</td>\n",
              "      <td>...</td>\n",
              "      <td>...</td>\n",
              "      <td>...</td>\n",
              "      <td>...</td>\n",
              "    </tr>\n",
              "    <tr>\n",
              "      <th>40694</th>\n",
              "      <td>0</td>\n",
              "      <td>0</td>\n",
              "      <td>0</td>\n",
              "      <td>0</td>\n",
              "      <td>0</td>\n",
              "      <td>1</td>\n",
              "      <td>0</td>\n",
              "      <td>0</td>\n",
              "      <td>0</td>\n",
              "      <td>0</td>\n",
              "      <td>0</td>\n",
              "      <td>0</td>\n",
              "      <td>0</td>\n",
              "      <td>0</td>\n",
              "      <td>0</td>\n",
              "      <td>0</td>\n",
              "      <td>0</td>\n",
              "      <td>0</td>\n",
              "      <td>0</td>\n",
              "      <td>0</td>\n",
              "      <td>0</td>\n",
              "      <td>0</td>\n",
              "      <td>0</td>\n",
              "      <td>0</td>\n",
              "      <td>0</td>\n",
              "      <td>0</td>\n",
              "      <td>0</td>\n",
              "    </tr>\n",
              "    <tr>\n",
              "      <th>40695</th>\n",
              "      <td>0</td>\n",
              "      <td>0</td>\n",
              "      <td>0</td>\n",
              "      <td>0</td>\n",
              "      <td>0</td>\n",
              "      <td>0</td>\n",
              "      <td>1</td>\n",
              "      <td>0</td>\n",
              "      <td>0</td>\n",
              "      <td>0</td>\n",
              "      <td>0</td>\n",
              "      <td>0</td>\n",
              "      <td>0</td>\n",
              "      <td>0</td>\n",
              "      <td>0</td>\n",
              "      <td>0</td>\n",
              "      <td>0</td>\n",
              "      <td>0</td>\n",
              "      <td>0</td>\n",
              "      <td>0</td>\n",
              "      <td>0</td>\n",
              "      <td>0</td>\n",
              "      <td>0</td>\n",
              "      <td>0</td>\n",
              "      <td>0</td>\n",
              "      <td>0</td>\n",
              "      <td>0</td>\n",
              "    </tr>\n",
              "    <tr>\n",
              "      <th>40696</th>\n",
              "      <td>0</td>\n",
              "      <td>0</td>\n",
              "      <td>0</td>\n",
              "      <td>0</td>\n",
              "      <td>0</td>\n",
              "      <td>0</td>\n",
              "      <td>0</td>\n",
              "      <td>0</td>\n",
              "      <td>0</td>\n",
              "      <td>0</td>\n",
              "      <td>0</td>\n",
              "      <td>0</td>\n",
              "      <td>0</td>\n",
              "      <td>0</td>\n",
              "      <td>0</td>\n",
              "      <td>0</td>\n",
              "      <td>0</td>\n",
              "      <td>0</td>\n",
              "      <td>0</td>\n",
              "      <td>0</td>\n",
              "      <td>0</td>\n",
              "      <td>1</td>\n",
              "      <td>0</td>\n",
              "      <td>0</td>\n",
              "      <td>0</td>\n",
              "      <td>0</td>\n",
              "      <td>0</td>\n",
              "    </tr>\n",
              "    <tr>\n",
              "      <th>40697</th>\n",
              "      <td>0</td>\n",
              "      <td>0</td>\n",
              "      <td>0</td>\n",
              "      <td>0</td>\n",
              "      <td>0</td>\n",
              "      <td>0</td>\n",
              "      <td>0</td>\n",
              "      <td>0</td>\n",
              "      <td>0</td>\n",
              "      <td>0</td>\n",
              "      <td>1</td>\n",
              "      <td>0</td>\n",
              "      <td>0</td>\n",
              "      <td>0</td>\n",
              "      <td>0</td>\n",
              "      <td>0</td>\n",
              "      <td>0</td>\n",
              "      <td>0</td>\n",
              "      <td>0</td>\n",
              "      <td>0</td>\n",
              "      <td>0</td>\n",
              "      <td>0</td>\n",
              "      <td>0</td>\n",
              "      <td>0</td>\n",
              "      <td>0</td>\n",
              "      <td>0</td>\n",
              "      <td>0</td>\n",
              "    </tr>\n",
              "    <tr>\n",
              "      <th>40698</th>\n",
              "      <td>0</td>\n",
              "      <td>0</td>\n",
              "      <td>0</td>\n",
              "      <td>0</td>\n",
              "      <td>0</td>\n",
              "      <td>0</td>\n",
              "      <td>0</td>\n",
              "      <td>0</td>\n",
              "      <td>0</td>\n",
              "      <td>0</td>\n",
              "      <td>0</td>\n",
              "      <td>0</td>\n",
              "      <td>0</td>\n",
              "      <td>0</td>\n",
              "      <td>0</td>\n",
              "      <td>0</td>\n",
              "      <td>0</td>\n",
              "      <td>0</td>\n",
              "      <td>0</td>\n",
              "      <td>0</td>\n",
              "      <td>0</td>\n",
              "      <td>0</td>\n",
              "      <td>0</td>\n",
              "      <td>1</td>\n",
              "      <td>0</td>\n",
              "      <td>0</td>\n",
              "      <td>0</td>\n",
              "    </tr>\n",
              "  </tbody>\n",
              "</table>\n",
              "<p>40699 rows × 27 columns</p>\n",
              "</div>"
            ],
            "text/plain": [
              "       rt_Bordeaux-style White Blend  ...  rt_Zinfandel\n",
              "0                                  0  ...             0\n",
              "1                                  0  ...             1\n",
              "2                                  0  ...             0\n",
              "3                                  0  ...             0\n",
              "4                                  0  ...             1\n",
              "...                              ...  ...           ...\n",
              "40694                              0  ...             0\n",
              "40695                              0  ...             0\n",
              "40696                              0  ...             0\n",
              "40697                              0  ...             0\n",
              "40698                              0  ...             0\n",
              "\n",
              "[40699 rows x 27 columns]"
            ]
          },
          "metadata": {
            "tags": []
          },
          "execution_count": 180
        }
      ]
    },
    {
      "cell_type": "code",
      "metadata": {
        "id": "ahJ6-G31Hgm3",
        "colab_type": "code",
        "colab": {}
      },
      "source": [
        "nb_features  = df[['points','country']]"
      ],
      "execution_count": 0,
      "outputs": []
    },
    {
      "cell_type": "code",
      "metadata": {
        "id": "ThG-RQvIHosL",
        "colab_type": "code",
        "colab": {}
      },
      "source": [
        "nb_features=pd.concat([pd.DataFrame(points_encoder.transform(df[['points']])),pd.DataFrame(country_encoder.transform(df[['country']]))],axis=1)"
      ],
      "execution_count": 0,
      "outputs": []
    },
    {
      "cell_type": "code",
      "metadata": {
        "id": "SnXL8eBuo4PD",
        "colab_type": "code",
        "colab": {}
      },
      "source": [
        "features = pd.concat([rd_features,rt_features,nb_features],axis=1)"
      ],
      "execution_count": 0,
      "outputs": []
    },
    {
      "cell_type": "code",
      "metadata": {
        "id": "i6uSz1JWI-lQ",
        "colab_type": "code",
        "colab": {}
      },
      "source": [
        ""
      ],
      "execution_count": 0,
      "outputs": []
    },
    {
      "cell_type": "code",
      "metadata": {
        "id": "mD_t6c6wpUVX",
        "colab_type": "code",
        "colab": {}
      },
      "source": [
        "category_to_id = load('category_to_id.joblib')"
      ],
      "execution_count": 0,
      "outputs": []
    },
    {
      "cell_type": "code",
      "metadata": {
        "id": "IIdm9bZUp5ZQ",
        "colab_type": "code",
        "colab": {}
      },
      "source": [
        "labels=labels.map(category_to_id)"
      ],
      "execution_count": 0,
      "outputs": []
    },
    {
      "cell_type": "code",
      "metadata": {
        "id": "R8MKAljVp-if",
        "colab_type": "code",
        "outputId": "89719a33-9e66-47a4-f591-f55856c1e7c4",
        "colab": {
          "base_uri": "https://localhost:8080/",
          "height": 348
        }
      },
      "source": [
        "from sklearn.linear_model import LogisticRegression\n",
        "from sklearn.ensemble import RandomForestClassifier\n",
        "from sklearn.svm import LinearSVC\n",
        "from sklearn.naive_bayes import MultinomialNB\n",
        "from sklearn.model_selection import cross_val_score\n",
        "models = [\n",
        "    LinearSVC(verbose=1),\n",
        "    MultinomialNB(),\n",
        "]\n",
        "CV = 5\n",
        "cv_df = pd.DataFrame(index=range(CV * len(models)))\n",
        "entries = []\n",
        "for model in models:\n",
        "  model_name = model.__class__.__name__\n",
        "  print(\"Started Training {}\".format(model_name))\n",
        "  accuracies = cross_val_score(model, features, labels, scoring='accuracy', cv=CV)\n",
        "  for fold_idx, accuracy in enumerate(accuracies):\n",
        "    entries.append((model_name, fold_idx, accuracy))\n",
        "  print(\"Completed Training {}\".format(model_name))\n",
        "cv_df = pd.DataFrame(entries, columns=['model_name', 'fold_idx', 'accuracy'])\n",
        "import seaborn as sns\n",
        "sns.boxplot(x='model_name', y='accuracy', data=cv_df)\n",
        "sns.stripplot(x='model_name', y='accuracy', data=cv_df, \n",
        "              size=8, jitter=True, edgecolor=\"gray\", linewidth=2)\n",
        "plt.show()"
      ],
      "execution_count": 0,
      "outputs": [
        {
          "output_type": "stream",
          "text": [
            "Started Training LinearSVC\n",
            "[LibLinear][LibLinear][LibLinear][LibLinear][LibLinear]Completed Training LinearSVC\n",
            "Started Training MultinomialNB\n",
            "Completed Training MultinomialNB\n"
          ],
          "name": "stdout"
        },
        {
          "output_type": "display_data",
          "data": {
            "image/png": "[encoded data removed]",
            "text/plain": [
              "<Figure size 432x288 with 1 Axes>"
            ]
          },
          "metadata": {
            "tags": [],
            "needs_background": "light"
          }
        }
      ]
    },
    {
      "cell_type": "code",
      "metadata": {
        "id": "maQ6j8HTp_qL",
        "colab_type": "code",
        "outputId": "c2ecd7b2-c079-4a55-f439-6ac0381f65a3",
        "colab": {
          "base_uri": "https://localhost:8080/",
          "height": 85
        }
      },
      "source": [
        "cv_df.groupby('model_name').accuracy.mean()"
      ],
      "execution_count": 0,
      "outputs": [
        {
          "output_type": "execute_result",
          "data": {
            "text/plain": [
              "model_name\n",
              "LinearSVC        0.978132\n",
              "MultinomialNB    0.952480\n",
              "Name: accuracy, dtype: float64"
            ]
          },
          "metadata": {
            "tags": []
          },
          "execution_count": 187
        }
      ]
    },
    {
      "cell_type": "code",
      "metadata": {
        "id": "aAiMt48uqjoM",
        "colab_type": "code",
        "colab": {}
      },
      "source": [
        "category_id_df = load('category_id_df.joblib')"
      ],
      "execution_count": 0,
      "outputs": []
    },
    {
      "cell_type": "code",
      "metadata": {
        "id": "LwGqA49PqW1k",
        "colab_type": "code",
        "outputId": "6e797e9b-dd08-4bd0-c914-2390263fa7bd",
        "colab": {
          "base_uri": "https://localhost:8080/",
          "height": 1000
        }
      },
      "source": [
        "from sklearn.model_selection import train_test_split\n",
        "model = LinearSVC()\n",
        "X_train, X_test, y_train, y_test, indices_train, indices_test = train_test_split(features, labels, df.index, test_size=0.33, random_state=0)\n",
        "model.fit(X_train, y_train)\n",
        "y_pred = model.predict(X_test)\n",
        "from sklearn.metrics import confusion_matrix\n",
        "conf_mat = confusion_matrix(y_test, y_pred)\n",
        "fig, ax = plt.subplots(figsize=(15,15))\n",
        "sns.heatmap(conf_mat, annot=True, fmt='d',\n",
        "            xticklabels=category_id_df.variety.values, yticklabels=category_id_df.variety.values)\n",
        "plt.ylabel('Actual')\n",
        "plt.xlabel('Predicted')\n",
        "plt.show()\n"
      ],
      "execution_count": 0,
      "outputs": [
        {
          "output_type": "display_data",
          "data": {
            "image/png": "[encoded data removed]",
            "text/plain": [
              "<Figure size 1080x1080 with 2 Axes>"
            ]
          },
          "metadata": {
            "tags": [],
            "needs_background": "light"
          }
        }
      ]
    },
    {
      "cell_type": "code",
      "metadata": {
        "id": "X_KQlTWsqcB1",
        "colab_type": "code",
        "outputId": "bda56e78-a56e-4d36-dc28-33e5aaaec3e9",
        "colab": {
          "base_uri": "https://localhost:8080/",
          "height": 612
        }
      },
      "source": [
        "from sklearn import metrics\n",
        "print(metrics.classification_report(y_test, y_pred, target_names=df['variety'].unique()))"
      ],
      "execution_count": 0,
      "outputs": [
        {
          "output_type": "stream",
          "text": [
            "                            precision    recall  f1-score   support\n",
            "\n",
            "  Bordeaux-style Red Blend       1.00      0.99      1.00       469\n",
            "                 Zinfandel       0.98      0.98      0.98       269\n",
            "                    Merlot       0.99      0.99      0.99       534\n",
            "                 Red Blend       0.91      0.92      0.92      1112\n",
            "                Pinot Noir       1.00      1.00      1.00       389\n",
            "                  Riesling       0.94      0.95      0.95       913\n",
            "          Portuguese White       1.00      1.00      1.00       184\n",
            "                Chardonnay       0.99      0.99      0.99      1696\n",
            "           Sauvignon Blanc       1.00      1.00      1.00       667\n",
            "                      Rosé       0.93      0.90      0.92       383\n",
            "        Cabernet Sauvignon       0.98      1.00      0.99      1599\n",
            "                Sangiovese       1.00      1.00      1.00      1182\n",
            "                Pinot Gris       1.00      1.00      1.00       362\n",
            "                  Nebbiolo       0.99      1.00      1.00       308\n",
            "          Grüner Veltliner       1.00      0.98      0.99       204\n",
            "           Champagne Blend       1.00      0.99      0.99       649\n",
            "            Cabernet Franc       1.00      1.00      1.00       333\n",
            "            Portuguese Red       1.00      1.00      1.00       131\n",
            "                    Malbec       0.99      1.00      1.00       170\n",
            "               White Blend       0.95      1.00      0.98       222\n",
            "            Gewürztraminer       0.94      0.92      0.93       141\n",
            "           Sparkling Blend       1.00      1.00      1.00       147\n",
            "                     Gamay       0.99      0.98      0.99       385\n",
            "                     Syrah       0.99      0.99      0.99       300\n",
            "              Pinot Grigio       1.00      1.00      1.00       159\n",
            "               Tempranillo       0.99      0.97      0.98       131\n",
            "Bordeaux-style White Blend       1.00      1.00      1.00       190\n",
            "     Rhône-style Red Blend       0.93      0.86      0.89       202\n",
            "\n",
            "                  accuracy                           0.98     13431\n",
            "                 macro avg       0.98      0.98      0.98     13431\n",
            "              weighted avg       0.98      0.98      0.98     13431\n",
            "\n"
          ],
          "name": "stdout"
        }
      ]
    }
  ]
}