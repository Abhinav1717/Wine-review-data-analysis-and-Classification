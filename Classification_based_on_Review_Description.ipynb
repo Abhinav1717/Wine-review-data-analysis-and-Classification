{
  "nbformat": 4,
  "nbformat_minor": 0,
  "metadata": {
    "colab": {
      "name": "Classification based on Review Description",
      "provenance": []
    },
    "kernelspec": {
      "name": "python3",
      "display_name": "Python 3"
    }
  },
  "cells": [
    {
      "cell_type": "code",
      "metadata": {
        "id": "6iUnF35eXMxz",
        "colab_type": "code",
        "outputId": "2c2bb14e-171d-40a4-d9a1-ecc3f63fa257",
        "colab": {
          "base_uri": "https://localhost:8080/",
          "height": 122
        }
      },
      "source": [
        "from google.colab import drive\n",
        "drive.mount('/gdrive')"
      ],
      "execution_count": 0,
      "outputs": [
        {
          "output_type": "stream",
          "text": [
            "Go to this URL in a browser: https://accounts.google.com/o/oauth2/auth?client_id=947318989803-6bn6qk8qdgf4n4g3pfee6491hc0brc4i.apps.googleusercontent.com&redirect_uri=urn%3aietf%3awg%3aoauth%3a2.0%3aoob&response_type=code&scope=email%20https%3a%2f%2fwww.googleapis.com%2fauth%2fdocs.test%20https%3a%2f%2fwww.googleapis.com%2fauth%2fdrive%20https%3a%2f%2fwww.googleapis.com%2fauth%2fdrive.photos.readonly%20https%3a%2f%2fwww.googleapis.com%2fauth%2fpeopleapi.readonly\n",
            "\n",
            "Enter your authorization code:\n",
            "··········\n",
            "Mounted at /gdrive\n"
          ],
          "name": "stdout"
        }
      ]
    },
    {
      "cell_type": "code",
      "metadata": {
        "id": "Uysn3o83X7a6",
        "colab_type": "code",
        "colab": {}
      },
      "source": [
        "import numpy as np\n",
        "import pandas as pd\n",
        "import matplotlib.pyplot as plt \n",
        "import seaborn as sns\n",
        "from sklearn.feature_extraction.text import TfidfVectorizer\n",
        "%matplotlib inline"
      ],
      "execution_count": 0,
      "outputs": []
    },
    {
      "cell_type": "code",
      "metadata": {
        "id": "MevE09TddJ0J",
        "colab_type": "code",
        "outputId": "55509ad1-73f6-4a38-9f75-d7f92e05f7dc",
        "colab": {
          "base_uri": "https://localhost:8080/",
          "height": 34
        }
      },
      "source": [
        "cd '/gdrive/My Drive/Colab Notebooks/Knight ML Assignment/Data/mydata'"
      ],
      "execution_count": 0,
      "outputs": [
        {
          "output_type": "stream",
          "text": [
            "/gdrive/My Drive/Colab Notebooks/Knight ML Assignment/Data/mydata\n"
          ],
          "name": "stdout"
        }
      ]
    },
    {
      "cell_type": "code",
      "metadata": {
        "id": "ofH9_hpmdlOZ",
        "colab_type": "code",
        "colab": {}
      },
      "source": [
        "df=pd.read_csv('df1_train.csv')[['review_description','variety',]]"
      ],
      "execution_count": 0,
      "outputs": []
    },
    {
      "cell_type": "code",
      "metadata": {
        "id": "qqS7wWc7dvT4",
        "colab_type": "code",
        "outputId": "e314b61e-5b41-4771-b1f9-21bc5bc336f9",
        "colab": {
          "base_uri": "https://localhost:8080/",
          "height": 204
        }
      },
      "source": [
        "df.head()"
      ],
      "execution_count": 0,
      "outputs": [
        {
          "output_type": "execute_result",
          "data": {
            "text/html": [
              "<div>\n",
              "<style scoped>\n",
              "    .dataframe tbody tr th:only-of-type {\n",
              "        vertical-align: middle;\n",
              "    }\n",
              "\n",
              "    .dataframe tbody tr th {\n",
              "        vertical-align: top;\n",
              "    }\n",
              "\n",
              "    .dataframe thead th {\n",
              "        text-align: right;\n",
              "    }\n",
              "</style>\n",
              "<table border=\"1\" class=\"dataframe\">\n",
              "  <thead>\n",
              "    <tr style=\"text-align: right;\">\n",
              "      <th></th>\n",
              "      <th>review_description</th>\n",
              "      <th>variety</th>\n",
              "    </tr>\n",
              "  </thead>\n",
              "  <tbody>\n",
              "    <tr>\n",
              "      <th>0</th>\n",
              "      <td>Vines planted on steep, terraced slopes around...</td>\n",
              "      <td>Rosé</td>\n",
              "    </tr>\n",
              "    <tr>\n",
              "      <th>1</th>\n",
              "      <td>The textured skin of russet apples and William...</td>\n",
              "      <td>White Blend</td>\n",
              "    </tr>\n",
              "    <tr>\n",
              "      <th>2</th>\n",
              "      <td>This bottling is still very young and will vas...</td>\n",
              "      <td>Syrah</td>\n",
              "    </tr>\n",
              "    <tr>\n",
              "      <th>3</th>\n",
              "      <td>Luzon's signature Best Buy red blends one-thir...</td>\n",
              "      <td>Red Blend</td>\n",
              "    </tr>\n",
              "    <tr>\n",
              "      <th>4</th>\n",
              "      <td>Nicely balanced for dinner time, this dry wine...</td>\n",
              "      <td>Zinfandel</td>\n",
              "    </tr>\n",
              "  </tbody>\n",
              "</table>\n",
              "</div>"
            ],
            "text/plain": [
              "                                  review_description      variety\n",
              "0  Vines planted on steep, terraced slopes around...         Rosé\n",
              "1  The textured skin of russet apples and William...  White Blend\n",
              "2  This bottling is still very young and will vas...        Syrah\n",
              "3  Luzon's signature Best Buy red blends one-thir...    Red Blend\n",
              "4  Nicely balanced for dinner time, this dry wine...    Zinfandel"
            ]
          },
          "metadata": {
            "tags": []
          },
          "execution_count": 48
        }
      ]
    },
    {
      "cell_type": "code",
      "metadata": {
        "id": "UTSDOTgOdwZK",
        "colab_type": "code",
        "colab": {}
      },
      "source": [
        "df['category_id']=df['variety'].factorize()[0]"
      ],
      "execution_count": 0,
      "outputs": []
    },
    {
      "cell_type": "code",
      "metadata": {
        "id": "rDfT3_c-eER6",
        "colab_type": "code",
        "colab": {}
      },
      "source": [
        "category_id_df=df[['variety','category_id']].drop_duplicates().sort_values('category_id')"
      ],
      "execution_count": 0,
      "outputs": []
    },
    {
      "cell_type": "code",
      "metadata": {
        "id": "xM09TRKQeFXC",
        "colab_type": "code",
        "colab": {}
      },
      "source": [
        "category_to_id = category_id_df.set_index('variety')['category_id'].to_dict()"
      ],
      "execution_count": 0,
      "outputs": []
    },
    {
      "cell_type": "code",
      "metadata": {
        "id": "TGVdj6KteXak",
        "colab_type": "code",
        "colab": {}
      },
      "source": [
        "id_to_category = category_id_df.set_index('category_id')['variety'].to_dict()"
      ],
      "execution_count": 0,
      "outputs": []
    },
    {
      "cell_type": "code",
      "metadata": {
        "id": "D3JmBjrHemgl",
        "colab_type": "code",
        "colab": {}
      },
      "source": [
        "tfidf=TfidfVectorizer( sublinear_tf=True,min_df=10,norm='l2',ngram_range=(1,2),stop_words='english')"
      ],
      "execution_count": 0,
      "outputs": []
    },
    {
      "cell_type": "code",
      "metadata": {
        "id": "YvVg8f7qfZbt",
        "colab_type": "code",
        "outputId": "6c1fe876-3d1a-466a-81a5-bce72ffcbe75",
        "colab": {
          "base_uri": "https://localhost:8080/",
          "height": 136
        }
      },
      "source": [
        "tfidf"
      ],
      "execution_count": 0,
      "outputs": [
        {
          "output_type": "execute_result",
          "data": {
            "text/plain": [
              "TfidfVectorizer(analyzer='word', binary=False, decode_error='strict',\n",
              "                dtype=<class 'numpy.float64'>, encoding='utf-8',\n",
              "                input='content', lowercase=True, max_df=1.0, max_features=None,\n",
              "                min_df=10, ngram_range=(1, 2), norm='l2', preprocessor=None,\n",
              "                smooth_idf=True, stop_words='english', strip_accents=None,\n",
              "                sublinear_tf=True, token_pattern='(?u)\\\\b\\\\w\\\\w+\\\\b',\n",
              "                tokenizer=None, use_idf=True, vocabulary=None)"
            ]
          },
          "metadata": {
            "tags": []
          },
          "execution_count": 85
        }
      ]
    },
    {
      "cell_type": "code",
      "metadata": {
        "id": "bS3W8R6GgI52",
        "colab_type": "code",
        "colab": {}
      },
      "source": [
        "features = tfidf.fit_transform(df.review_description)"
      ],
      "execution_count": 0,
      "outputs": []
    },
    {
      "cell_type": "code",
      "metadata": {
        "id": "3qI8qZpQgNyv",
        "colab_type": "code",
        "outputId": "844af11f-8b0d-4083-d84e-53bc63311c2e",
        "colab": {
          "base_uri": "https://localhost:8080/",
          "height": 34
        }
      },
      "source": [
        "features.shape"
      ],
      "execution_count": 0,
      "outputs": [
        {
          "output_type": "execute_result",
          "data": {
            "text/plain": [
              "(41319, 17798)"
            ]
          },
          "metadata": {
            "tags": []
          },
          "execution_count": 87
        }
      ]
    },
    {
      "cell_type": "code",
      "metadata": {
        "id": "fTZM6dQBgair",
        "colab_type": "code",
        "colab": {}
      },
      "source": [
        "features=features.toarray()"
      ],
      "execution_count": 0,
      "outputs": []
    },
    {
      "cell_type": "code",
      "metadata": {
        "id": "l9L4mzGCg3wP",
        "colab_type": "code",
        "colab": {}
      },
      "source": [
        "labels=df.category_id"
      ],
      "execution_count": 0,
      "outputs": []
    },
    {
      "cell_type": "code",
      "metadata": {
        "id": "at3_1FFdgtF_",
        "colab_type": "code",
        "outputId": "022f41d1-d006-4425-df61-d8e109c472c1",
        "colab": {
          "base_uri": "https://localhost:8080/",
          "height": 1000
        }
      },
      "source": [
        "from sklearn.feature_selection import chi2\n",
        "import numpy as np\n",
        "N = 2\n",
        "for variety, category_id in sorted(category_to_id.items()):\n",
        "  features_chi2 = chi2(features, labels == category_id)\n",
        "  indices = np.argsort(features_chi2[0])\n",
        "  feature_names = np.array(tfidf.get_feature_names())[indices]\n",
        "  unigrams = [v for v in feature_names if len(v.split(' ')) == 1]\n",
        "  bigrams = [v for v in feature_names if len(v.split(' ')) == 2]\n",
        "  print(\"# '{}':\".format(variety))\n",
        "  print(\"  . Most correlated unigrams:\\n. {}\".format('\\n. '.join(unigrams[-N:])))\n",
        "  print(\"  . Most correlated bigrams:\\n. {}\".format('\\n. '.join(bigrams[-N:])))"
      ],
      "execution_count": 0,
      "outputs": [
        {
          "output_type": "stream",
          "text": [
            "# 'Bordeaux-style Red Blend':\n",
            "  . Most correlated unigrams:\n",
            ". bordeaux\n",
            ". sample\n",
            "  . Most correlated bigrams:\n",
            ". black currant\n",
            ". barrel sample\n",
            "# 'Bordeaux-style White Blend':\n",
            "  . Most correlated unigrams:\n",
            ". sémillon\n",
            ". botrytis\n",
            "  . Most correlated bigrams:\n",
            ". sémillon sauvignon\n",
            ". sémillon blend\n",
            "# 'Cabernet Franc':\n",
            "  . Most correlated unigrams:\n",
            ". cab\n",
            ". franc\n",
            "  . Most correlated bigrams:\n",
            ". franc palate\n",
            ". cab franc\n",
            "# 'Cabernet Sauvignon':\n",
            "  . Most correlated unigrams:\n",
            ". cassis\n",
            ". cab\n",
            "  . Most correlated bigrams:\n",
            ". flavors blackberries\n",
            ". 100 cabernet\n",
            "# 'Champagne Blend':\n",
            "  . Most correlated unigrams:\n",
            ". dosage\n",
            ". champagne\n",
            "  . Most correlated bigrams:\n",
            ". high dosage\n",
            ". dry champagne\n",
            "# 'Chardonnay':\n",
            "  . Most correlated unigrams:\n",
            ". buttered\n",
            ". chardonnay\n",
            "  . Most correlated bigrams:\n",
            ". tropical fruit\n",
            ". buttered toast\n",
            "# 'Gamay':\n",
            "  . Most correlated unigrams:\n",
            ". nouveau\n",
            ". beaujolais\n",
            "  . Most correlated bigrams:\n",
            ". cherry fruits\n",
            ". cru wine\n",
            "# 'Gewürztraminer':\n",
            "  . Most correlated unigrams:\n",
            ". lychee\n",
            ". gewürztraminer\n",
            "  . Most correlated bigrams:\n",
            ". medium sweet\n",
            ". dry gewürztraminer\n",
            "# 'Grüner Veltliner':\n",
            "  . Most correlated unigrams:\n",
            ". screwcap\n",
            ". grüner\n",
            "  . Most correlated bigrams:\n",
            ". grüner veltliner\n",
            ". green pear\n",
            "# 'Malbec':\n",
            "  . Most correlated unigrams:\n",
            ". malbecs\n",
            ". malbec\n",
            "  . Most correlated bigrams:\n",
            ". pure malbec\n",
            ". malbec feels\n",
            "# 'Merlot':\n",
            "  . Most correlated unigrams:\n",
            ". merlots\n",
            ". merlot\n",
            "  . Most correlated bigrams:\n",
            ". good merlot\n",
            ". 100 merlot\n",
            "# 'Nebbiolo':\n",
            "  . Most correlated unigrams:\n",
            ". nebbiolo\n",
            ". barolo\n",
            "  . Most correlated bigrams:\n",
            ". balsamic note\n",
            ". expression nebbiolo\n",
            "# 'Pinot Grigio':\n",
            "  . Most correlated unigrams:\n",
            ". grigios\n",
            ". grigio\n",
            "  . Most correlated bigrams:\n",
            ". pinot grigios\n",
            ". pinot grigio\n",
            "# 'Pinot Gris':\n",
            "  . Most correlated unigrams:\n",
            ". pear\n",
            ". gris\n",
            "  . Most correlated bigrams:\n",
            ". pear fruit\n",
            ". pinot gris\n",
            "# 'Pinot Noir':\n",
            "  . Most correlated unigrams:\n",
            ". noir\n",
            ". pinot\n",
            "  . Most correlated bigrams:\n",
            ". cherry fruit\n",
            ". pinot noir\n",
            "# 'Portuguese Red':\n",
            "  . Most correlated unigrams:\n",
            ". touriga\n",
            ". douro\n",
            "  . Most correlated bigrams:\n",
            ". blend touriga\n",
            ". touriga nacional\n",
            "# 'Portuguese White':\n",
            "  . Most correlated unigrams:\n",
            ". vinho\n",
            ". arinto\n",
            "  . Most correlated bigrams:\n",
            ". fernão pires\n",
            ". vinho verde\n",
            "# 'Red Blend':\n",
            "  . Most correlated unigrams:\n",
            ". sangiovese\n",
            ". blend\n",
            "  . Most correlated bigrams:\n",
            ". blend sangiovese\n",
            ". cabernet sauvignon\n",
            "# 'Rhône-style Red Blend':\n",
            "  . Most correlated unigrams:\n",
            ". mourvèdre\n",
            ". grenache\n",
            "  . Most correlated bigrams:\n",
            ". grenache 20\n",
            ". grenache syrah\n",
            "# 'Riesling':\n",
            "  . Most correlated unigrams:\n",
            ". tangerine\n",
            ". riesling\n",
            "  . Most correlated bigrams:\n",
            ". lime acidity\n",
            ". dry riesling\n",
            "# 'Rosé':\n",
            "  . Most correlated unigrams:\n",
            ". pale\n",
            ". rosé\n",
            "  . Most correlated bigrams:\n",
            ". dry rosé\n",
            ". pink color\n",
            "# 'Sangiovese':\n",
            "  . Most correlated unigrams:\n",
            ". sangiovese\n",
            ". chianti\n",
            "  . Most correlated bigrams:\n",
            ". entirely sangiovese\n",
            ". chianti classico\n",
            "# 'Sauvignon Blanc':\n",
            "  . Most correlated unigrams:\n",
            ". gooseberry\n",
            ". blanc\n",
            "  . Most correlated bigrams:\n",
            ". passion fruit\n",
            ". sauvignon blanc\n",
            "# 'Sparkling Blend':\n",
            "  . Most correlated unigrams:\n",
            ". bubbly\n",
            ". sparkling\n",
            "  . Most correlated bigrams:\n",
            ". pinot nero\n",
            ". sparkling wine\n",
            "# 'Syrah':\n",
            "  . Most correlated unigrams:\n",
            ". syrahs\n",
            ". syrah\n",
            "  . Most correlated bigrams:\n",
            ". black pepper\n",
            ". 100 syrah\n",
            "# 'Tempranillo':\n",
            "  . Most correlated unigrams:\n",
            ". tempranillo\n",
            ". rioja\n",
            "  . Most correlated bigrams:\n",
            ". del duero\n",
            ". ribera del\n",
            "# 'White Blend':\n",
            "  . Most correlated unigrams:\n",
            ". roussanne\n",
            ". viognier\n",
            "  . Most correlated bigrams:\n",
            ". chardonnay sauvignon\n",
            ". white blend\n",
            "# 'Zinfandel':\n",
            "  . Most correlated unigrams:\n",
            ". zinfandel\n",
            ". zin\n",
            "  . Most correlated bigrams:\n",
            ". briary brambly\n",
            ". high alcohol\n"
          ],
          "name": "stdout"
        }
      ]
    },
    {
      "cell_type": "code",
      "metadata": {
        "id": "SiiMK71KgzsH",
        "colab_type": "code",
        "outputId": "22572ee1-a3c9-4034-ae9b-7386bffe06eb",
        "colab": {
          "base_uri": "https://localhost:8080/",
          "height": 348
        }
      },
      "source": [
        "from sklearn.linear_model import LogisticRegression\n",
        "from sklearn.ensemble import RandomForestClassifier\n",
        "from sklearn.svm import LinearSVC\n",
        "from sklearn.naive_bayes import MultinomialNB\n",
        "from sklearn.model_selection import cross_val_score\n",
        "models = [\n",
        "    LinearSVC(verbose=1),\n",
        "    MultinomialNB(),\n",
        "]\n",
        "CV = 5\n",
        "cv_df = pd.DataFrame(index=range(CV * len(models)))\n",
        "entries = []\n",
        "for model in models:\n",
        "  model_name = model.__class__.__name__\n",
        "  print(\"Started Training {}\".format(model_name))\n",
        "  accuracies = cross_val_score(model, features, labels, scoring='accuracy', cv=CV)\n",
        "  for fold_idx, accuracy in enumerate(accuracies):\n",
        "    entries.append((model_name, fold_idx, accuracy))\n",
        "  print(\"Completed Training {}\".format(model_name))\n",
        "cv_df = pd.DataFrame(entries, columns=['model_name', 'fold_idx', 'accuracy'])\n",
        "import seaborn as sns\n",
        "sns.boxplot(x='model_name', y='accuracy', data=cv_df)\n",
        "sns.stripplot(x='model_name', y='accuracy', data=cv_df, \n",
        "              size=8, jitter=True, edgecolor=\"gray\", linewidth=2)\n",
        "plt.show()"
      ],
      "execution_count": 0,
      "outputs": [
        {
          "output_type": "stream",
          "text": [
            "Started Training LinearSVC\n",
            "[LibLinear][LibLinear][LibLinear][LibLinear][LibLinear]Completed Training LinearSVC\n",
            "Started Training MultinomialNB\n",
            "Completed Training MultinomialNB\n"
          ],
          "name": "stdout"
        },
        {
          "output_type": "display_data",
          "data": {
            "image/png": "[encoded data removed]",
            "text/plain": [
              "<Figure size 432x288 with 1 Axes>"
            ]
          },
          "metadata": {
            "tags": [],
            "needs_background": "light"
          }
        }
      ]
    },
    {
      "cell_type": "code",
      "metadata": {
        "id": "F9uma0FihT3J",
        "colab_type": "code",
        "outputId": "4d3d0fd5-6ab8-4778-aa5c-066667d60a9a",
        "colab": {
          "base_uri": "https://localhost:8080/",
          "height": 85
        }
      },
      "source": [
        "cv_df.groupby('model_name').accuracy.mean()"
      ],
      "execution_count": 0,
      "outputs": [
        {
          "output_type": "execute_result",
          "data": {
            "text/plain": [
              "model_name\n",
              "LinearSVC        0.682931\n",
              "MultinomialNB    0.482296\n",
              "Name: accuracy, dtype: float64"
            ]
          },
          "metadata": {
            "tags": []
          },
          "execution_count": 94
        }
      ]
    },
    {
      "cell_type": "code",
      "metadata": {
        "id": "DnhbB0v-h2fa",
        "colab_type": "code",
        "outputId": "ed0e1f0d-c1eb-4c45-8767-6a0c8852d80b",
        "colab": {
          "base_uri": "https://localhost:8080/",
          "height": 990
        }
      },
      "source": [
        "from sklearn.model_selection import train_test_split\n",
        "model = LinearSVC()\n",
        "X_train, X_test, y_train, y_test, indices_train, indices_test = train_test_split(features, labels, df.index, test_size=0.33, random_state=0)\n",
        "model.fit(X_train, y_train)\n",
        "y_pred = model.predict(X_test)\n",
        "from sklearn.metrics import confusion_matrix\n",
        "conf_mat = confusion_matrix(y_test, y_pred)\n",
        "fig, ax = plt.subplots(figsize=(15,15))\n",
        "sns.heatmap(conf_mat, annot=True, fmt='d',\n",
        "            xticklabels=category_id_df.variety.values, yticklabels=category_id_df.variety.values)\n",
        "plt.ylabel('Actual')\n",
        "plt.xlabel('Predicted')\n",
        "plt.show()\n"
      ],
      "execution_count": 0,
      "outputs": [
        {
          "output_type": "display_data",
          "data": {
            "image/png": "[encoded data removed]",
            "text/plain": [
              "<Figure size 1080x1080 with 2 Axes>"
            ]
          },
          "metadata": {
            "tags": [],
            "needs_background": "light"
          }
        }
      ]
    },
    {
      "cell_type": "code",
      "metadata": {
        "id": "Frf_7DmziGfm",
        "colab_type": "code",
        "outputId": "3fa22dab-cace-406b-86cb-7facd26a583c",
        "colab": {
          "base_uri": "https://localhost:8080/",
          "height": 453
        }
      },
      "source": [
        "from IPython.display import display\n",
        "for predicted in category_id_df.category_id:\n",
        "  for actual in category_id_df.category_id:\n",
        "    if predicted != actual and conf_mat[actual, predicted] >= 100:\n",
        "      print(\"'{}' predicted as '{}' : {} examples.\".format(id_to_category[actual], id_to_category[predicted], conf_mat[actual, predicted]))\n",
        "      display(df.loc[indices_test[(y_test == actual) & (y_pred == predicted)]][['variety', 'review_description']])\n",
        "      print('')"
      ],
      "execution_count": 0,
      "outputs": [
        {
          "output_type": "stream",
          "text": [
            "'Sauvignon Blanc' predicted as 'Chardonnay' : 134 examples.\n"
          ],
          "name": "stdout"
        },
        {
          "output_type": "display_data",
          "data": {
            "text/html": [
              "<div>\n",
              "<style scoped>\n",
              "    .dataframe tbody tr th:only-of-type {\n",
              "        vertical-align: middle;\n",
              "    }\n",
              "\n",
              "    .dataframe tbody tr th {\n",
              "        vertical-align: top;\n",
              "    }\n",
              "\n",
              "    .dataframe thead th {\n",
              "        text-align: right;\n",
              "    }\n",
              "</style>\n",
              "<table border=\"1\" class=\"dataframe\">\n",
              "  <thead>\n",
              "    <tr style=\"text-align: right;\">\n",
              "      <th></th>\n",
              "      <th>variety</th>\n",
              "      <th>review_description</th>\n",
              "    </tr>\n",
              "  </thead>\n",
              "  <tbody>\n",
              "    <tr>\n",
              "      <th>34120</th>\n",
              "      <td>Sauvignon Blanc</td>\n",
              "      <td>Tart, tangy lemon flavor meets green apple and...</td>\n",
              "    </tr>\n",
              "    <tr>\n",
              "      <th>33868</th>\n",
              "      <td>Sauvignon Blanc</td>\n",
              "      <td>Aromas of caramel, toffee and lemon zest set t...</td>\n",
              "    </tr>\n",
              "    <tr>\n",
              "      <th>23942</th>\n",
              "      <td>Sauvignon Blanc</td>\n",
              "      <td>From the intensely steep Monts Damnés vineyard...</td>\n",
              "    </tr>\n",
              "    <tr>\n",
              "      <th>23042</th>\n",
              "      <td>Sauvignon Blanc</td>\n",
              "      <td>Wheaty white-fruit aromas lack pop and clarity...</td>\n",
              "    </tr>\n",
              "    <tr>\n",
              "      <th>35276</th>\n",
              "      <td>Sauvignon Blanc</td>\n",
              "      <td>Aromas of herb, grass, pear and citrus lead to...</td>\n",
              "    </tr>\n",
              "    <tr>\n",
              "      <th>...</th>\n",
              "      <td>...</td>\n",
              "      <td>...</td>\n",
              "    </tr>\n",
              "    <tr>\n",
              "      <th>30596</th>\n",
              "      <td>Sauvignon Blanc</td>\n",
              "      <td>Citrusy aromas suggest white grapefruit. Plump...</td>\n",
              "    </tr>\n",
              "    <tr>\n",
              "      <th>20788</th>\n",
              "      <td>Sauvignon Blanc</td>\n",
              "      <td>Aged half in stainless and half in new French ...</td>\n",
              "    </tr>\n",
              "    <tr>\n",
              "      <th>6314</th>\n",
              "      <td>Sauvignon Blanc</td>\n",
              "      <td>This is on the full-bodied side, quite ripe an...</td>\n",
              "    </tr>\n",
              "    <tr>\n",
              "      <th>21965</th>\n",
              "      <td>Sauvignon Blanc</td>\n",
              "      <td>This is dry, but lushly fruity, with sour-cand...</td>\n",
              "    </tr>\n",
              "    <tr>\n",
              "      <th>13196</th>\n",
              "      <td>Sauvignon Blanc</td>\n",
              "      <td>With three years' aging, this has developed in...</td>\n",
              "    </tr>\n",
              "  </tbody>\n",
              "</table>\n",
              "<p>134 rows × 2 columns</p>\n",
              "</div>"
            ],
            "text/plain": [
              "               variety                                 review_description\n",
              "34120  Sauvignon Blanc  Tart, tangy lemon flavor meets green apple and...\n",
              "33868  Sauvignon Blanc  Aromas of caramel, toffee and lemon zest set t...\n",
              "23942  Sauvignon Blanc  From the intensely steep Monts Damnés vineyard...\n",
              "23042  Sauvignon Blanc  Wheaty white-fruit aromas lack pop and clarity...\n",
              "35276  Sauvignon Blanc  Aromas of herb, grass, pear and citrus lead to...\n",
              "...                ...                                                ...\n",
              "30596  Sauvignon Blanc  Citrusy aromas suggest white grapefruit. Plump...\n",
              "20788  Sauvignon Blanc  Aged half in stainless and half in new French ...\n",
              "6314   Sauvignon Blanc  This is on the full-bodied side, quite ripe an...\n",
              "21965  Sauvignon Blanc  This is dry, but lushly fruity, with sour-cand...\n",
              "13196  Sauvignon Blanc  With three years' aging, this has developed in...\n",
              "\n",
              "[134 rows x 2 columns]"
            ]
          },
          "metadata": {
            "tags": []
          }
        },
        {
          "output_type": "stream",
          "text": [
            "\n"
          ],
          "name": "stdout"
        }
      ]
    },
    {
      "cell_type": "code",
      "metadata": {
        "id": "qNoaFfCOiWxc",
        "colab_type": "code",
        "outputId": "39996666-c18f-49ea-957b-76b65160058b",
        "colab": {
          "base_uri": "https://localhost:8080/",
          "height": 1000
        }
      },
      "source": [
        "model.fit(features, labels)\n",
        "N = 2\n",
        "for Product, category_id in sorted(category_to_id.items()):\n",
        "  indices = np.argsort(model.coef_[category_id])\n",
        "  feature_names = np.array(tfidf.get_feature_names())[indices]\n",
        "  unigrams = [v for v in reversed(feature_names) if len(v.split(' ')) == 1][:N]\n",
        "  bigrams = [v for v in reversed(feature_names) if len(v.split(' ')) == 2][:N]\n",
        "  print(\"# '{}':\".format(Product))\n",
        "  print(\"  . Top unigrams:\\n       . {}\".format('\\n       . '.join(unigrams)))\n",
        "  print(\"  . Top bigrams:\\n       . {}\".format('\\n       . '.join(bigrams)))"
      ],
      "execution_count": 0,
      "outputs": [
        {
          "output_type": "stream",
          "text": [
            "# 'Bordeaux-style Red Blend':\n",
            "  . Top unigrams:\n",
            "       . bordeaux\n",
            "       . merlot\n",
            "  . Top bigrams:\n",
            "       . bordeaux blend\n",
            "       . black currant\n",
            "# 'Bordeaux-style White Blend':\n",
            "  . Top unigrams:\n",
            "       . botrytis\n",
            "       . sémillon\n",
            "  . Top bigrams:\n",
            "       . sémillon sauvignon\n",
            "       . sémillon blend\n",
            "# 'Cabernet Franc':\n",
            "  . Top unigrams:\n",
            "       . franc\n",
            "       . loire\n",
            "  . Top bigrams:\n",
            "       . cab franc\n",
            "       . cabernet franc\n",
            "# 'Cabernet Sauvignon':\n",
            "  . Top unigrams:\n",
            "       . cabernet\n",
            "       . cab\n",
            "  . Top bigrams:\n",
            "       . pure cabernet\n",
            "       . blended merlot\n",
            "# 'Champagne Blend':\n",
            "  . Top unigrams:\n",
            "       . champagne\n",
            "       . dosage\n",
            "  . Top bigrams:\n",
            "       . dry champagne\n",
            "       . crisp steely\n",
            "# 'Chardonnay':\n",
            "  . Top unigrams:\n",
            "       . chardonnay\n",
            "       . chard\n",
            "  . Top bigrams:\n",
            "       . blanc blancs\n",
            "       . yellow fruits\n",
            "# 'Gamay':\n",
            "  . Top unigrams:\n",
            "       . beaujolais\n",
            "       . cherry\n",
            "  . Top bigrams:\n",
            "       . cru wine\n",
            "       . cherry fruits\n",
            "# 'Gewürztraminer':\n",
            "  . Top unigrams:\n",
            "       . gewürztraminer\n",
            "       . gewurztraminer\n",
            "  . Top bigrams:\n",
            "       . medium sweet\n",
            "       . touch acidity\n",
            "# 'Grüner Veltliner':\n",
            "  . Top unigrams:\n",
            "       . grüner\n",
            "       . screwcap\n",
            "  . Top bigrams:\n",
            "       . green pear\n",
            "       . green pears\n",
            "# 'Malbec':\n",
            "  . Top unigrams:\n",
            "       . malbec\n",
            "       . malbecs\n",
            "  . Top bigrams:\n",
            "       . leathery aromas\n",
            "       . aromas clove\n",
            "# 'Merlot':\n",
            "  . Top unigrams:\n",
            "       . merlot\n",
            "       . merlots\n",
            "  . Top bigrams:\n",
            "       . 100 merlot\n",
            "       . pure merlot\n",
            "# 'Nebbiolo':\n",
            "  . Top unigrams:\n",
            "       . barolo\n",
            "       . nebbiolo\n",
            "  . Top bigrams:\n",
            "       . bracing tannins\n",
            "       . cellar floor\n",
            "# 'Pinot Grigio':\n",
            "  . Top unigrams:\n",
            "       . grigio\n",
            "       . grigios\n",
            "  . Top bigrams:\n",
            "       . pinot grigio\n",
            "       . pinot grigios\n",
            "# 'Pinot Gris':\n",
            "  . Top unigrams:\n",
            "       . gris\n",
            "       . pear\n",
            "  . Top bigrams:\n",
            "       . pinot gris\n",
            "       . pear fruit\n",
            "# 'Pinot Noir':\n",
            "  . Top unigrams:\n",
            "       . pinot\n",
            "       . pinots\n",
            "  . Top bigrams:\n",
            "       . red fruits\n",
            "       . rich flavors\n",
            "# 'Portuguese Red':\n",
            "  . Top unigrams:\n",
            "       . douro\n",
            "       . baga\n",
            "  . Top bigrams:\n",
            "       . solid tannic\n",
            "       . alicante bouschet\n",
            "# 'Portuguese White':\n",
            "  . Top unigrams:\n",
            "       . arinto\n",
            "       . alvarinho\n",
            "  . Top bigrams:\n",
            "       . vinho verde\n",
            "       . light prickle\n",
            "# 'Red Blend':\n",
            "  . Top unigrams:\n",
            "       . blend\n",
            "       . priorat\n",
            "  . Top bigrams:\n",
            "       . sauvignon syrah\n",
            "       . red blend\n",
            "# 'Rhône-style Red Blend':\n",
            "  . Top unigrams:\n",
            "       . grenache\n",
            "       . mourvèdre\n",
            "  . Top bigrams:\n",
            "       . nose blend\n",
            "       . grenache syrah\n",
            "# 'Riesling':\n",
            "  . Top unigrams:\n",
            "       . riesling\n",
            "       . rieslings\n",
            "  . Top bigrams:\n",
            "       . dried apricots\n",
            "       . yellow cherry\n",
            "# 'Rosé':\n",
            "  . Top unigrams:\n",
            "       . rosé\n",
            "       . provence\n",
            "  . Top bigrams:\n",
            "       . blush wine\n",
            "       . raspberry fruits\n",
            "# 'Sangiovese':\n",
            "  . Top unigrams:\n",
            "       . sangiovese\n",
            "       . brunello\n",
            "  . Top bigrams:\n",
            "       . entirely sangiovese\n",
            "       . plum baking\n",
            "# 'Sauvignon Blanc':\n",
            "  . Top unigrams:\n",
            "       . sb\n",
            "       . sancerre\n",
            "  . Top bigrams:\n",
            "       . sauvignon blanc\n",
            "       . sauvignon blancs\n",
            "# 'Sparkling Blend':\n",
            "  . Top unigrams:\n",
            "       . cava\n",
            "       . bubbly\n",
            "  . Top bigrams:\n",
            "       . sparkling wine\n",
            "       . pinot nero\n",
            "# 'Syrah':\n",
            "  . Top unigrams:\n",
            "       . syrah\n",
            "       . syrahs\n",
            "  . Top bigrams:\n",
            "       . cedar vanilla\n",
            "       . lead rich\n",
            "# 'Tempranillo':\n",
            "  . Top unigrams:\n",
            "       . tempranillo\n",
            "       . rioja\n",
            "  . Top bigrams:\n",
            "       . little fruit\n",
            "       . oaky aromas\n",
            "# 'White Blend':\n",
            "  . Top unigrams:\n",
            "       . blend\n",
            "       . viura\n",
            "  . Top bigrams:\n",
            "       . chardonnay sauvignon\n",
            "       . white blend\n",
            "# 'Zinfandel':\n",
            "  . Top unigrams:\n",
            "       . zin\n",
            "       . zinfandel\n",
            "  . Top bigrams:\n",
            "       . oaky aromas\n",
            "       . dry farmed\n"
          ],
          "name": "stdout"
        }
      ]
    },
    {
      "cell_type": "code",
      "metadata": {
        "id": "UvVXKutGiwBP",
        "colab_type": "code",
        "outputId": "b5f64992-7e29-4b95-91af-1ff58f37206a",
        "colab": {
          "base_uri": "https://localhost:8080/",
          "height": 612
        }
      },
      "source": [
        "from sklearn import metrics\n",
        "print(metrics.classification_report(y_test, y_pred, target_names=df['variety'].unique()))"
      ],
      "execution_count": 0,
      "outputs": [
        {
          "output_type": "stream",
          "text": [
            "                            precision    recall  f1-score   support\n",
            "\n",
            "                      Rosé       0.72      0.70      0.71       459\n",
            "               White Blend       0.77      0.59      0.67       296\n",
            "                     Syrah       0.62      0.57      0.60       546\n",
            "                 Red Blend       0.65      0.64      0.65      1153\n",
            "                 Zinfandel       0.67      0.58      0.62       345\n",
            "  Bordeaux-style Red Blend       0.64      0.75      0.69       876\n",
            "          Grüner Veltliner       0.77      0.59      0.67       183\n",
            "                Pinot Noir       0.71      0.83      0.76      1795\n",
            "                  Riesling       0.79      0.80      0.79       676\n",
            "                Sangiovese       0.64      0.51      0.57       358\n",
            "                Chardonnay       0.71      0.86      0.78      1603\n",
            "        Cabernet Sauvignon       0.63      0.69      0.66      1286\n",
            "                  Nebbiolo       0.77      0.81      0.79       392\n",
            "            Portuguese Red       0.60      0.56      0.58       334\n",
            "           Champagne Blend       0.70      0.48      0.57       185\n",
            "           Sauvignon Blanc       0.65      0.68      0.67       664\n",
            "                    Malbec       0.55      0.48      0.51       346\n",
            "            Gewürztraminer       0.74      0.61      0.67       135\n",
            "            Cabernet Franc       0.69      0.32      0.44       180\n",
            "               Tempranillo       0.48      0.44      0.46       227\n",
            "Bordeaux-style White Blend       0.49      0.24      0.32       136\n",
            "              Pinot Grigio       0.69      0.53      0.60       120\n",
            "                    Merlot       0.59      0.40      0.48       404\n",
            "           Sparkling Blend       0.74      0.65      0.70       282\n",
            "          Portuguese White       0.70      0.50      0.58       147\n",
            "                     Gamay       0.62      0.56      0.59       147\n",
            "                Pinot Gris       0.66      0.50      0.57       170\n",
            "     Rhône-style Red Blend       0.75      0.55      0.63       191\n",
            "\n",
            "                  accuracy                           0.68     13636\n",
            "                 macro avg       0.67      0.59      0.62     13636\n",
            "              weighted avg       0.67      0.68      0.67     13636\n",
            "\n"
          ],
          "name": "stdout"
        }
      ]
    },
    {
      "cell_type": "code",
      "metadata": {
        "id": "-SGCdD-0i3V7",
        "colab_type": "code",
        "colab": {}
      },
      "source": [
        "from joblib import dump,load"
      ],
      "execution_count": 0,
      "outputs": []
    },
    {
      "cell_type": "code",
      "metadata": {
        "id": "EQ1yMjETjawO",
        "colab_type": "code",
        "outputId": "142e0871-4282-4012-b0a0-753ac54a5936",
        "colab": {
          "base_uri": "https://localhost:8080/",
          "height": 34
        }
      },
      "source": [
        "dump(tfidf,'tfidf_review_description.joblib')"
      ],
      "execution_count": 0,
      "outputs": [
        {
          "output_type": "execute_result",
          "data": {
            "text/plain": [
              "['tfidf_review_description.joblib']"
            ]
          },
          "metadata": {
            "tags": []
          },
          "execution_count": 100
        }
      ]
    },
    {
      "cell_type": "code",
      "metadata": {
        "id": "n3f3oy--jhj9",
        "colab_type": "code",
        "outputId": "b1637466-795f-4b98-9f46-91d3fa1f673b",
        "colab": {
          "base_uri": "https://localhost:8080/",
          "height": 34
        }
      },
      "source": [
        "dump(model,'svm_review_description.joblib')"
      ],
      "execution_count": 0,
      "outputs": [
        {
          "output_type": "execute_result",
          "data": {
            "text/plain": [
              "['svm_review_description.joblib']"
            ]
          },
          "metadata": {
            "tags": []
          },
          "execution_count": 101
        }
      ]
    },
    {
      "cell_type": "code",
      "metadata": {
        "id": "07eqFpzvjpOh",
        "colab_type": "code",
        "colab": {}
      },
      "source": [
        ""
      ],
      "execution_count": 0,
      "outputs": []
    }
  ]
}