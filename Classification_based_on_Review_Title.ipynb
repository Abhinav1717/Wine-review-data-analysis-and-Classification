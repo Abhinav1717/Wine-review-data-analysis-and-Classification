{
  "nbformat": 4,
  "nbformat_minor": 0,
  "metadata": {
    "colab": {
      "name": "Classification based on Review Title",
      "provenance": [],
      "collapsed_sections": []
    },
    "kernelspec": {
      "name": "python3",
      "display_name": "Python 3"
    }
  },
  "cells": [
    {
      "cell_type": "code",
      "metadata": {
        "id": "6iUnF35eXMxz",
        "colab_type": "code",
        "outputId": "2c2bb14e-171d-40a4-d9a1-ecc3f63fa257",
        "colab": {
          "base_uri": "https://localhost:8080/",
          "height": 122
        }
      },
      "source": [
        "from google.colab import drive\n",
        "drive.mount('/gdrive')"
      ],
      "execution_count": 0,
      "outputs": [
        {
          "output_type": "stream",
          "text": [
            "Go to this URL in a browser: https://accounts.google.com/o/oauth2/auth?client_id=947318989803-6bn6qk8qdgf4n4g3pfee6491hc0brc4i.apps.googleusercontent.com&redirect_uri=urn%3aietf%3awg%3aoauth%3a2.0%3aoob&response_type=code&scope=email%20https%3a%2f%2fwww.googleapis.com%2fauth%2fdocs.test%20https%3a%2f%2fwww.googleapis.com%2fauth%2fdrive%20https%3a%2f%2fwww.googleapis.com%2fauth%2fdrive.photos.readonly%20https%3a%2f%2fwww.googleapis.com%2fauth%2fpeopleapi.readonly\n",
            "\n",
            "Enter your authorization code:\n",
            "··········\n",
            "Mounted at /gdrive\n"
          ],
          "name": "stdout"
        }
      ]
    },
    {
      "cell_type": "code",
      "metadata": {
        "id": "Uysn3o83X7a6",
        "colab_type": "code",
        "outputId": "3d9a02cd-3b6b-4456-d57b-182e6c596c5e",
        "colab": {
          "base_uri": "https://localhost:8080/",
          "height": 71
        }
      },
      "source": [
        "import numpy as np\n",
        "import pandas as pd\n",
        "import matplotlib.pyplot as plt \n",
        "import seaborn as sns\n",
        "from sklearn.feature_extraction.text import TfidfVectorizer\n",
        "%matplotlib inline"
      ],
      "execution_count": 0,
      "outputs": [
        {
          "output_type": "stream",
          "text": [
            "/usr/local/lib/python3.6/dist-packages/statsmodels/tools/_testing.py:19: FutureWarning: pandas.util.testing is deprecated. Use the functions in the public API at pandas.testing instead.\n",
            "  import pandas.util.testing as tm\n"
          ],
          "name": "stderr"
        }
      ]
    },
    {
      "cell_type": "code",
      "metadata": {
        "id": "MevE09TddJ0J",
        "colab_type": "code",
        "outputId": "a43d2e3b-e0a8-48bf-d8ca-b21205b31062",
        "colab": {
          "base_uri": "https://localhost:8080/",
          "height": 34
        }
      },
      "source": [
        "cd '/gdrive/My Drive/Colab Notebooks/Knight ML Assignment/Data/mydata'"
      ],
      "execution_count": 0,
      "outputs": [
        {
          "output_type": "stream",
          "text": [
            "/gdrive/My Drive/Colab Notebooks/Knight ML Assignment/Data/mydata\n"
          ],
          "name": "stdout"
        }
      ]
    },
    {
      "cell_type": "code",
      "metadata": {
        "id": "ofH9_hpmdlOZ",
        "colab_type": "code",
        "colab": {}
      },
      "source": [
        "df=pd.read_csv('df1_train.csv')[['review_title','variety',]]"
      ],
      "execution_count": 0,
      "outputs": []
    },
    {
      "cell_type": "code",
      "metadata": {
        "id": "qqS7wWc7dvT4",
        "colab_type": "code",
        "outputId": "aeed44e3-22d0-43b9-d6dc-fafcb219b60c",
        "colab": {
          "base_uri": "https://localhost:8080/",
          "height": 204
        }
      },
      "source": [
        "df.head()"
      ],
      "execution_count": 0,
      "outputs": [
        {
          "output_type": "execute_result",
          "data": {
            "text/html": [
              "<div>\n",
              "<style scoped>\n",
              "    .dataframe tbody tr th:only-of-type {\n",
              "        vertical-align: middle;\n",
              "    }\n",
              "\n",
              "    .dataframe tbody tr th {\n",
              "        vertical-align: top;\n",
              "    }\n",
              "\n",
              "    .dataframe thead th {\n",
              "        text-align: right;\n",
              "    }\n",
              "</style>\n",
              "<table border=\"1\" class=\"dataframe\">\n",
              "  <thead>\n",
              "    <tr style=\"text-align: right;\">\n",
              "      <th></th>\n",
              "      <th>review_title</th>\n",
              "      <th>variety</th>\n",
              "    </tr>\n",
              "  </thead>\n",
              "  <tbody>\n",
              "    <tr>\n",
              "      <th>0</th>\n",
              "      <td>Domaines Bunan 2014 Château la Rouvière Rosé (...</td>\n",
              "      <td>Rosé</td>\n",
              "    </tr>\n",
              "    <tr>\n",
              "      <th>1</th>\n",
              "      <td>Wieninger 2014 White (Wiener Gemischter Satz)</td>\n",
              "      <td>White Blend</td>\n",
              "    </tr>\n",
              "    <tr>\n",
              "      <th>2</th>\n",
              "      <td>Tensley 2015 Colson Canyon Vineyard Syrah (San...</td>\n",
              "      <td>Syrah</td>\n",
              "    </tr>\n",
              "    <tr>\n",
              "      <th>3</th>\n",
              "      <td>Bodegas Luzón 2008 Red (Jumilla)</td>\n",
              "      <td>Red Blend</td>\n",
              "    </tr>\n",
              "    <tr>\n",
              "      <th>4</th>\n",
              "      <td>Big Smooth 2014 Zinfandel (Lodi)</td>\n",
              "      <td>Zinfandel</td>\n",
              "    </tr>\n",
              "  </tbody>\n",
              "</table>\n",
              "</div>"
            ],
            "text/plain": [
              "                                        review_title      variety\n",
              "0  Domaines Bunan 2014 Château la Rouvière Rosé (...         Rosé\n",
              "1      Wieninger 2014 White (Wiener Gemischter Satz)  White Blend\n",
              "2  Tensley 2015 Colson Canyon Vineyard Syrah (San...        Syrah\n",
              "3                   Bodegas Luzón 2008 Red (Jumilla)    Red Blend\n",
              "4                   Big Smooth 2014 Zinfandel (Lodi)    Zinfandel"
            ]
          },
          "metadata": {
            "tags": []
          },
          "execution_count": 5
        }
      ]
    },
    {
      "cell_type": "code",
      "metadata": {
        "id": "UTSDOTgOdwZK",
        "colab_type": "code",
        "colab": {}
      },
      "source": [
        "df['category_id']=df['variety'].factorize()[0]"
      ],
      "execution_count": 0,
      "outputs": []
    },
    {
      "cell_type": "code",
      "metadata": {
        "id": "rDfT3_c-eER6",
        "colab_type": "code",
        "colab": {}
      },
      "source": [
        "category_id_df=df[['variety','category_id']].drop_duplicates().sort_values('category_id')"
      ],
      "execution_count": 0,
      "outputs": []
    },
    {
      "cell_type": "code",
      "metadata": {
        "id": "xM09TRKQeFXC",
        "colab_type": "code",
        "colab": {}
      },
      "source": [
        "category_to_id = category_id_df.set_index('variety')['category_id'].to_dict()"
      ],
      "execution_count": 0,
      "outputs": []
    },
    {
      "cell_type": "code",
      "metadata": {
        "id": "TGVdj6KteXak",
        "colab_type": "code",
        "colab": {}
      },
      "source": [
        "id_to_category = category_id_df.set_index('category_id')['variety'].to_dict()"
      ],
      "execution_count": 0,
      "outputs": []
    },
    {
      "cell_type": "code",
      "metadata": {
        "id": "D3JmBjrHemgl",
        "colab_type": "code",
        "colab": {}
      },
      "source": [
        "tfidf=TfidfVectorizer( sublinear_tf=True,min_df=10,norm='l2',ngram_range=(1,2),stop_words='english')"
      ],
      "execution_count": 0,
      "outputs": []
    },
    {
      "cell_type": "code",
      "metadata": {
        "id": "YvVg8f7qfZbt",
        "colab_type": "code",
        "outputId": "7454ca34-ff22-40d6-c384-ed4451ebaa2f",
        "colab": {
          "base_uri": "https://localhost:8080/",
          "height": 136
        }
      },
      "source": [
        "tfidf"
      ],
      "execution_count": 0,
      "outputs": [
        {
          "output_type": "execute_result",
          "data": {
            "text/plain": [
              "TfidfVectorizer(analyzer='word', binary=False, decode_error='strict',\n",
              "                dtype=<class 'numpy.float64'>, encoding='utf-8',\n",
              "                input='content', lowercase=True, max_df=1.0, max_features=None,\n",
              "                min_df=10, ngram_range=(1, 2), norm='l2', preprocessor=None,\n",
              "                smooth_idf=True, stop_words='english', strip_accents=None,\n",
              "                sublinear_tf=True, token_pattern='(?u)\\\\b\\\\w\\\\w+\\\\b',\n",
              "                tokenizer=None, use_idf=True, vocabulary=None)"
            ]
          },
          "metadata": {
            "tags": []
          },
          "execution_count": 11
        }
      ]
    },
    {
      "cell_type": "code",
      "metadata": {
        "id": "bS3W8R6GgI52",
        "colab_type": "code",
        "colab": {}
      },
      "source": [
        "features = tfidf.fit_transform(df.review_title)"
      ],
      "execution_count": 0,
      "outputs": []
    },
    {
      "cell_type": "code",
      "metadata": {
        "id": "3qI8qZpQgNyv",
        "colab_type": "code",
        "outputId": "1c63cce7-7d43-492c-8900-9677815b94f8",
        "colab": {
          "base_uri": "https://localhost:8080/",
          "height": 34
        }
      },
      "source": [
        "features.shape"
      ],
      "execution_count": 0,
      "outputs": [
        {
          "output_type": "execute_result",
          "data": {
            "text/plain": [
              "(41319, 5734)"
            ]
          },
          "metadata": {
            "tags": []
          },
          "execution_count": 13
        }
      ]
    },
    {
      "cell_type": "code",
      "metadata": {
        "id": "fTZM6dQBgair",
        "colab_type": "code",
        "colab": {}
      },
      "source": [
        "features=features.toarray()"
      ],
      "execution_count": 0,
      "outputs": []
    },
    {
      "cell_type": "code",
      "metadata": {
        "id": "l9L4mzGCg3wP",
        "colab_type": "code",
        "colab": {}
      },
      "source": [
        "labels=df.category_id"
      ],
      "execution_count": 0,
      "outputs": []
    },
    {
      "cell_type": "code",
      "metadata": {
        "id": "at3_1FFdgtF_",
        "colab_type": "code",
        "outputId": "dcb9890f-f99e-415a-98d3-ac6b07adca48",
        "colab": {
          "base_uri": "https://localhost:8080/",
          "height": 1000
        }
      },
      "source": [
        "from sklearn.feature_selection import chi2\n",
        "import numpy as np\n",
        "N = 2\n",
        "for variety, category_id in sorted(category_to_id.items()):\n",
        "  features_chi2 = chi2(features, labels == category_id)\n",
        "  indices = np.argsort(features_chi2[0])\n",
        "  feature_names = np.array(tfidf.get_feature_names())[indices]\n",
        "  unigrams = [v for v in feature_names if len(v.split(' ')) == 1]\n",
        "  bigrams = [v for v in feature_names if len(v.split(' ')) == 2]\n",
        "  print(\"# '{}':\".format(variety))\n",
        "  print(\"  . Most correlated unigrams:\\n. {}\".format('\\n. '.join(unigrams[-N:])))\n",
        "  print(\"  . Most correlated bigrams:\\n. {}\".format('\\n. '.join(bigrams[-N:])))"
      ],
      "execution_count": 0,
      "outputs": [
        {
          "output_type": "stream",
          "text": [
            "# 'Bordeaux-style Red Blend':\n",
            "  . Most correlated unigrams:\n",
            ". médoc\n",
            ". château\n",
            "  . Most correlated bigrams:\n",
            ". côtes bordeaux\n",
            ". saint émilion\n",
            "# 'Bordeaux-style White Blend':\n",
            "  . Most correlated unigrams:\n",
            ". barsac\n",
            ". sauternes\n",
            "  . Most correlated bigrams:\n",
            ". 2016 bordeaux\n",
            ". bordeaux blanc\n",
            "# 'Cabernet Franc':\n",
            "  . Most correlated unigrams:\n",
            ". chinon\n",
            ". franc\n",
            "  . Most correlated bigrams:\n",
            ". franc finger\n",
            ". cabernet franc\n",
            "# 'Cabernet Sauvignon':\n",
            "  . Most correlated unigrams:\n",
            ". sauvignon\n",
            ". cabernet\n",
            "  . Most correlated bigrams:\n",
            ". sauvignon napa\n",
            ". cabernet sauvignon\n",
            "# 'Champagne Blend':\n",
            "  . Most correlated unigrams:\n",
            ". brut\n",
            ". champagne\n",
            "  . Most correlated bigrams:\n",
            ". rosé champagne\n",
            ". brut champagne\n",
            "# 'Chardonnay':\n",
            "  . Most correlated unigrams:\n",
            ". chablis\n",
            ". chardonnay\n",
            "  . Most correlated bigrams:\n",
            ". chardonnay russian\n",
            ". vineyard chardonnay\n",
            "# 'Gamay':\n",
            "  . Most correlated unigrams:\n",
            ". morgon\n",
            ". beaujolais\n",
            "  . Most correlated bigrams:\n",
            ". georges duboeuf\n",
            ". beaujolais villages\n",
            "# 'Gewürztraminer':\n",
            "  . Most correlated unigrams:\n",
            ". gewürztraminer\n",
            ". gewurztraminer\n",
            "  . Most correlated bigrams:\n",
            ". cru gewurztraminer\n",
            ". gewurztraminer alsace\n",
            "# 'Grüner Veltliner':\n",
            "  . Most correlated unigrams:\n",
            ". veltliner\n",
            ". grüner\n",
            "  . Most correlated bigrams:\n",
            ". veltliner niederösterreich\n",
            ". grüner veltliner\n",
            "# 'Malbec':\n",
            "  . Most correlated unigrams:\n",
            ". mendoza\n",
            ". malbec\n",
            "  . Most correlated bigrams:\n",
            ". malbec cahors\n",
            ". malbec mendoza\n",
            "# 'Merlot':\n",
            "  . Most correlated unigrams:\n",
            ". duckhorn\n",
            ". merlot\n",
            "  . Most correlated bigrams:\n",
            ". merlot columbia\n",
            ". merlot napa\n",
            "# 'Nebbiolo':\n",
            "  . Most correlated unigrams:\n",
            ". barbaresco\n",
            ". barolo\n",
            "  . Most correlated bigrams:\n",
            ". riserva barbaresco\n",
            ". riserva barolo\n",
            "# 'Pinot Grigio':\n",
            "  . Most correlated unigrams:\n",
            ". friuli\n",
            ". grigio\n",
            "  . Most correlated bigrams:\n",
            ". grigio california\n",
            ". pinot grigio\n",
            "# 'Pinot Gris':\n",
            "  . Most correlated unigrams:\n",
            ". alsace\n",
            ". gris\n",
            "  . Most correlated bigrams:\n",
            ". gris alsace\n",
            ". pinot gris\n",
            "# 'Pinot Noir':\n",
            "  . Most correlated unigrams:\n",
            ". pinot\n",
            ". noir\n",
            "  . Most correlated bigrams:\n",
            ". vineyard pinot\n",
            ". pinot noir\n",
            "# 'Portuguese Red':\n",
            "  . Most correlated unigrams:\n",
            ". quinta\n",
            ". douro\n",
            "  . Most correlated bigrams:\n",
            ". reserva red\n",
            ". red douro\n",
            "# 'Portuguese White':\n",
            "  . Most correlated unigrams:\n",
            ". white\n",
            ". branco\n",
            "  . Most correlated bigrams:\n",
            ". white douro\n",
            ". branco white\n",
            "# 'Red Blend':\n",
            "  . Most correlated unigrams:\n",
            ". valpolicella\n",
            ". red\n",
            "  . Most correlated bigrams:\n",
            ". red california\n",
            ". red toscana\n",
            "# 'Rhône-style Red Blend':\n",
            "  . Most correlated unigrams:\n",
            ". rhône\n",
            ". châteauneuf\n",
            "  . Most correlated bigrams:\n",
            ". red châteauneuf\n",
            ". red côtes\n",
            "# 'Riesling':\n",
            "  . Most correlated unigrams:\n",
            ". mosel\n",
            ". riesling\n",
            "  . Most correlated bigrams:\n",
            ". riesling alsace\n",
            ". riesling mosel\n",
            "# 'Rosé':\n",
            "  . Most correlated unigrams:\n",
            ". provence\n",
            ". rosé\n",
            "  . Most correlated bigrams:\n",
            ". côtes provence\n",
            ". rosé côtes\n",
            "# 'Sangiovese':\n",
            "  . Most correlated unigrams:\n",
            ". brunello\n",
            ". montalcino\n",
            "  . Most correlated bigrams:\n",
            ". brunello di\n",
            ". di montalcino\n",
            "# 'Sauvignon Blanc':\n",
            "  . Most correlated unigrams:\n",
            ". sauvignon\n",
            ". blanc\n",
            "  . Most correlated bigrams:\n",
            ". blanc marlborough\n",
            ". sauvignon blanc\n",
            "# 'Sparkling Blend':\n",
            "  . Most correlated unigrams:\n",
            ". cava\n",
            ". sparkling\n",
            "  . Most correlated bigrams:\n",
            ". sparkling cava\n",
            ". brut sparkling\n",
            "# 'Syrah':\n",
            "  . Most correlated unigrams:\n",
            ". walla\n",
            ". syrah\n",
            "  . Most correlated bigrams:\n",
            ". syrah santa\n",
            ". vineyard syrah\n",
            "# 'Tempranillo':\n",
            "  . Most correlated unigrams:\n",
            ". rioja\n",
            ". tempranillo\n",
            "  . Most correlated bigrams:\n",
            ". ribera del\n",
            ". del duero\n",
            "# 'White Blend':\n",
            "  . Most correlated unigrams:\n",
            ". bianco\n",
            ". white\n",
            "  . Most correlated bigrams:\n",
            ". white sicilia\n",
            ". white california\n",
            "# 'Zinfandel':\n",
            "  . Most correlated unigrams:\n",
            ". old\n",
            ". zinfandel\n",
            "  . Most correlated bigrams:\n",
            ". zinfandel dry\n",
            ". vineyard zinfandel\n"
          ],
          "name": "stdout"
        }
      ]
    },
    {
      "cell_type": "code",
      "metadata": {
        "id": "SiiMK71KgzsH",
        "colab_type": "code",
        "outputId": "9929ac73-8b63-4f6f-fcf9-104a5ed052dc",
        "colab": {
          "base_uri": "https://localhost:8080/",
          "height": 348
        }
      },
      "source": [
        "from sklearn.linear_model import LogisticRegression\n",
        "from sklearn.ensemble import RandomForestClassifier\n",
        "from sklearn.svm import LinearSVC\n",
        "from sklearn.naive_bayes import MultinomialNB\n",
        "from sklearn.model_selection import cross_val_score\n",
        "models = [\n",
        "    LinearSVC(verbose=1),\n",
        "    MultinomialNB(),\n",
        "]\n",
        "CV = 5\n",
        "cv_df = pd.DataFrame(index=range(CV * len(models)))\n",
        "entries = []\n",
        "for model in models:\n",
        "  model_name = model.__class__.__name__\n",
        "  print(\"Started Training {}\".format(model_name))\n",
        "  accuracies = cross_val_score(model, features, labels, scoring='accuracy', cv=CV)\n",
        "  for fold_idx, accuracy in enumerate(accuracies):\n",
        "    entries.append((model_name, fold_idx, accuracy))\n",
        "  print(\"Completed Training {}\".format(model_name))\n",
        "cv_df = pd.DataFrame(entries, columns=['model_name', 'fold_idx', 'accuracy'])\n",
        "import seaborn as sns\n",
        "sns.boxplot(x='model_name', y='accuracy', data=cv_df)\n",
        "sns.stripplot(x='model_name', y='accuracy', data=cv_df, \n",
        "              size=8, jitter=True, edgecolor=\"gray\", linewidth=2)\n",
        "plt.show()"
      ],
      "execution_count": 0,
      "outputs": [
        {
          "output_type": "stream",
          "text": [
            "Started Training LinearSVC\n",
            "[LibLinear][LibLinear][LibLinear][LibLinear][LibLinear]Completed Training LinearSVC\n",
            "Started Training MultinomialNB\n",
            "Completed Training MultinomialNB\n"
          ],
          "name": "stdout"
        },
        {
          "output_type": "display_data",
          "data": {
            "image/png": "[encoded data removed]",
            "text/plain": [
              "<Figure size 432x288 with 1 Axes>"
            ]
          },
          "metadata": {
            "tags": [],
            "needs_background": "light"
          }
        }
      ]
    },
    {
      "cell_type": "code",
      "metadata": {
        "id": "F9uma0FihT3J",
        "colab_type": "code",
        "outputId": "bf2575de-118d-45c0-808b-636421f349c6",
        "colab": {
          "base_uri": "https://localhost:8080/",
          "height": 85
        }
      },
      "source": [
        "cv_df.groupby('model_name').accuracy.mean()"
      ],
      "execution_count": 0,
      "outputs": [
        {
          "output_type": "execute_result",
          "data": {
            "text/plain": [
              "model_name\n",
              "LinearSVC        0.956921\n",
              "MultinomialNB    0.883419\n",
              "Name: accuracy, dtype: float64"
            ]
          },
          "metadata": {
            "tags": []
          },
          "execution_count": 18
        }
      ]
    },
    {
      "cell_type": "code",
      "metadata": {
        "id": "DnhbB0v-h2fa",
        "colab_type": "code",
        "outputId": "26bb4acb-d264-4f4e-fe8a-e1b418aed4fb",
        "colab": {
          "base_uri": "https://localhost:8080/",
          "height": 990
        }
      },
      "source": [
        "from sklearn.model_selection import train_test_split\n",
        "model = LinearSVC()\n",
        "X_train, X_test, y_train, y_test, indices_train, indices_test = train_test_split(features, labels, df.index, test_size=0.33, random_state=0)\n",
        "model.fit(X_train, y_train)\n",
        "y_pred = model.predict(X_test)\n",
        "from sklearn.metrics import confusion_matrix\n",
        "conf_mat = confusion_matrix(y_test, y_pred)\n",
        "fig, ax = plt.subplots(figsize=(15,15))\n",
        "sns.heatmap(conf_mat, annot=True, fmt='d',\n",
        "            xticklabels=category_id_df.variety.values, yticklabels=category_id_df.variety.values)\n",
        "plt.ylabel('Actual')\n",
        "plt.xlabel('Predicted')\n",
        "plt.show()\n"
      ],
      "execution_count": 0,
      "outputs": [
        {
          "output_type": "display_data",
          "data": {
            "image/png": "[encoded data removed]",
            "text/plain": [
              "<Figure size 1080x1080 with 2 Axes>"
            ]
          },
          "metadata": {
            "tags": [],
            "needs_background": "light"
          }
        }
      ]
    },
    {
      "cell_type": "code",
      "metadata": {
        "id": "Frf_7DmziGfm",
        "colab_type": "code",
        "outputId": "29dce3ed-8c08-4ed0-f2b9-2e63fc659b92",
        "colab": {
          "base_uri": "https://localhost:8080/",
          "height": 453
        }
      },
      "source": [
        "from IPython.display import display\n",
        "for predicted in category_id_df.category_id:\n",
        "  for actual in category_id_df.category_id:\n",
        "    if predicted != actual and conf_mat[actual, predicted] >= 100:\n",
        "      print(\"'{}' predicted as '{}' : {} examples.\".format(id_to_category[actual], id_to_category[predicted], conf_mat[actual, predicted]))\n",
        "      display(df.loc[indices_test[(y_test == actual) & (y_pred == predicted)]][['variety', 'review_title']])\n",
        "      print('')"
      ],
      "execution_count": 0,
      "outputs": [
        {
          "output_type": "stream",
          "text": [
            "'Bordeaux-style Red Blend' predicted as 'Red Blend' : 124 examples.\n"
          ],
          "name": "stdout"
        },
        {
          "output_type": "display_data",
          "data": {
            "text/html": [
              "<div>\n",
              "<style scoped>\n",
              "    .dataframe tbody tr th:only-of-type {\n",
              "        vertical-align: middle;\n",
              "    }\n",
              "\n",
              "    .dataframe tbody tr th {\n",
              "        vertical-align: top;\n",
              "    }\n",
              "\n",
              "    .dataframe thead th {\n",
              "        text-align: right;\n",
              "    }\n",
              "</style>\n",
              "<table border=\"1\" class=\"dataframe\">\n",
              "  <thead>\n",
              "    <tr style=\"text-align: right;\">\n",
              "      <th></th>\n",
              "      <th>variety</th>\n",
              "      <th>review_title</th>\n",
              "    </tr>\n",
              "  </thead>\n",
              "  <tbody>\n",
              "    <tr>\n",
              "      <th>32581</th>\n",
              "      <td>Bordeaux-style Red Blend</td>\n",
              "      <td>Woodinville Wine Cellars 2013 Indomitable Red ...</td>\n",
              "    </tr>\n",
              "    <tr>\n",
              "      <th>27485</th>\n",
              "      <td>Bordeaux-style Red Blend</td>\n",
              "      <td>Yates Family Vineyard 2009 Alden Perry Reserve...</td>\n",
              "    </tr>\n",
              "    <tr>\n",
              "      <th>13526</th>\n",
              "      <td>Bordeaux-style Red Blend</td>\n",
              "      <td>Quilceda Creek 2009 Palengat Red Red (Horse He...</td>\n",
              "    </tr>\n",
              "    <tr>\n",
              "      <th>6540</th>\n",
              "      <td>Bordeaux-style Red Blend</td>\n",
              "      <td>Riglos 2009 Gran Corte Las Divas Vineyard Red ...</td>\n",
              "    </tr>\n",
              "    <tr>\n",
              "      <th>39484</th>\n",
              "      <td>Bordeaux-style Red Blend</td>\n",
              "      <td>Clos du Val 2007 Three Graces Blend Red (Napa ...</td>\n",
              "    </tr>\n",
              "    <tr>\n",
              "      <th>...</th>\n",
              "      <td>...</td>\n",
              "      <td>...</td>\n",
              "    </tr>\n",
              "    <tr>\n",
              "      <th>22647</th>\n",
              "      <td>Bordeaux-style Red Blend</td>\n",
              "      <td>Spier 2010 Creative Block 5 Red (Coastal Region)</td>\n",
              "    </tr>\n",
              "    <tr>\n",
              "      <th>2852</th>\n",
              "      <td>Bordeaux-style Red Blend</td>\n",
              "      <td>Walla Walla Vintners 2014 Washington State Cuv...</td>\n",
              "    </tr>\n",
              "    <tr>\n",
              "      <th>2111</th>\n",
              "      <td>Bordeaux-style Red Blend</td>\n",
              "      <td>Verité 2007 Le Desir Red (Sonoma County)</td>\n",
              "    </tr>\n",
              "    <tr>\n",
              "      <th>12286</th>\n",
              "      <td>Bordeaux-style Red Blend</td>\n",
              "      <td>Coho 2007 Headwaters Red (Napa Valley)</td>\n",
              "    </tr>\n",
              "    <tr>\n",
              "      <th>4483</th>\n",
              "      <td>Bordeaux-style Red Blend</td>\n",
              "      <td>Trefethen 2007 Double T Red (Oak Knoll District)</td>\n",
              "    </tr>\n",
              "  </tbody>\n",
              "</table>\n",
              "<p>124 rows × 2 columns</p>\n",
              "</div>"
            ],
            "text/plain": [
              "                        variety                                       review_title\n",
              "32581  Bordeaux-style Red Blend  Woodinville Wine Cellars 2013 Indomitable Red ...\n",
              "27485  Bordeaux-style Red Blend  Yates Family Vineyard 2009 Alden Perry Reserve...\n",
              "13526  Bordeaux-style Red Blend  Quilceda Creek 2009 Palengat Red Red (Horse He...\n",
              "6540   Bordeaux-style Red Blend  Riglos 2009 Gran Corte Las Divas Vineyard Red ...\n",
              "39484  Bordeaux-style Red Blend  Clos du Val 2007 Three Graces Blend Red (Napa ...\n",
              "...                         ...                                                ...\n",
              "22647  Bordeaux-style Red Blend   Spier 2010 Creative Block 5 Red (Coastal Region)\n",
              "2852   Bordeaux-style Red Blend  Walla Walla Vintners 2014 Washington State Cuv...\n",
              "2111   Bordeaux-style Red Blend           Verité 2007 Le Desir Red (Sonoma County)\n",
              "12286  Bordeaux-style Red Blend             Coho 2007 Headwaters Red (Napa Valley)\n",
              "4483   Bordeaux-style Red Blend   Trefethen 2007 Double T Red (Oak Knoll District)\n",
              "\n",
              "[124 rows x 2 columns]"
            ]
          },
          "metadata": {
            "tags": []
          }
        },
        {
          "output_type": "stream",
          "text": [
            "\n"
          ],
          "name": "stdout"
        }
      ]
    },
    {
      "cell_type": "code",
      "metadata": {
        "id": "qNoaFfCOiWxc",
        "colab_type": "code",
        "outputId": "06ec44dc-d9b5-4601-f656-ef248a2c2770",
        "colab": {
          "base_uri": "https://localhost:8080/",
          "height": 1000
        }
      },
      "source": [
        "model.fit(features, labels)\n",
        "N = 2\n",
        "for Product, category_id in sorted(category_to_id.items()):\n",
        "  indices = np.argsort(model.coef_[category_id])\n",
        "  feature_names = np.array(tfidf.get_feature_names())[indices]\n",
        "  unigrams = [v for v in reversed(feature_names) if len(v.split(' ')) == 1][:N]\n",
        "  bigrams = [v for v in reversed(feature_names) if len(v.split(' ')) == 2][:N]\n",
        "  print(\"# '{}':\".format(Product))\n",
        "  print(\"  . Top unigrams:\\n       . {}\".format('\\n       . '.join(unigrams)))\n",
        "  print(\"  . Top bigrams:\\n       . {}\".format('\\n       . '.join(bigrams)))"
      ],
      "execution_count": 0,
      "outputs": [
        {
          "output_type": "stream",
          "text": [
            "# 'Bordeaux-style Red Blend':\n",
            "  . Top unigrams:\n",
            "       . bordeaux\n",
            "       . médoc\n",
            "  . Top bigrams:\n",
            "       . merlot cabernet\n",
            "       . sauvignon merlot\n",
            "# 'Bordeaux-style White Blend':\n",
            "  . Top unigrams:\n",
            "       . sauternes\n",
            "       . barsac\n",
            "  . Top bigrams:\n",
            "       . bordeaux blanc\n",
            "       . white bergerac\n",
            "# 'Cabernet Franc':\n",
            "  . Top unigrams:\n",
            "       . chinon\n",
            "       . franc\n",
            "  . Top bigrams:\n",
            "       . cabernet franc\n",
            "       . saint nicolas\n",
            "# 'Cabernet Sauvignon':\n",
            "  . Top unigrams:\n",
            "       . cabernet\n",
            "       . sauvignon\n",
            "  . Top bigrams:\n",
            "       . cabernet sauvignon\n",
            "       . red mountain\n",
            "# 'Champagne Blend':\n",
            "  . Top unigrams:\n",
            "       . champagne\n",
            "       . brut\n",
            "  . Top bigrams:\n",
            "       . brut champagne\n",
            "       . rosé champagne\n",
            "# 'Chardonnay':\n",
            "  . Top unigrams:\n",
            "       . chardonnay\n",
            "       . chablis\n",
            "  . Top bigrams:\n",
            "       . beaujolais blanc\n",
            "       . saint véran\n",
            "# 'Gamay':\n",
            "  . Top unigrams:\n",
            "       . beaujolais\n",
            "       . morgon\n",
            "  . Top bigrams:\n",
            "       . saint amour\n",
            "       . moulin vent\n",
            "# 'Gewürztraminer':\n",
            "  . Top unigrams:\n",
            "       . gewürztraminer\n",
            "       . gewurztraminer\n",
            "  . Top bigrams:\n",
            "       . gewurztraminer alsace\n",
            "       . vineyard gewürztraminer\n",
            "# 'Grüner Veltliner':\n",
            "  . Top unigrams:\n",
            "       . grüner\n",
            "       . veltliner\n",
            "  . Top bigrams:\n",
            "       . grüner veltliner\n",
            "       . reserve grüner\n",
            "# 'Malbec':\n",
            "  . Top unigrams:\n",
            "       . malbec\n",
            "       . raymond\n",
            "  . Top bigrams:\n",
            "       . malbec mendoza\n",
            "       . vineyard malbec\n",
            "# 'Merlot':\n",
            "  . Top unigrams:\n",
            "       . merlot\n",
            "       . carpineto\n",
            "  . Top bigrams:\n",
            "       . red mountain\n",
            "       . vineyard merlot\n",
            "# 'Nebbiolo':\n",
            "  . Top unigrams:\n",
            "       . barolo\n",
            "       . barbaresco\n",
            "  . Top bigrams:\n",
            "       . valtellina superiore\n",
            "       . riserva roero\n",
            "# 'Pinot Grigio':\n",
            "  . Top unigrams:\n",
            "       . grigio\n",
            "       . pinot\n",
            "  . Top bigrams:\n",
            "       . pinot grigio\n",
            "       . grigio alto\n",
            "# 'Pinot Gris':\n",
            "  . Top unigrams:\n",
            "       . gris\n",
            "       . pinot\n",
            "  . Top bigrams:\n",
            "       . pinot gris\n",
            "       . gris alsace\n",
            "# 'Pinot Noir':\n",
            "  . Top unigrams:\n",
            "       . noir\n",
            "       . pinot\n",
            "  . Top bigrams:\n",
            "       . pinot noir\n",
            "       . domaine jessiaume\n",
            "# 'Portuguese Red':\n",
            "  . Top unigrams:\n",
            "       . quinta\n",
            "       . douro\n",
            "  . Top bigrams:\n",
            "       . red tejo\n",
            "       . red alentejano\n",
            "# 'Portuguese White':\n",
            "  . Top unigrams:\n",
            "       . aveleda\n",
            "       . branco\n",
            "  . Top bigrams:\n",
            "       . white tejo\n",
            "       . white alentejano\n",
            "# 'Red Blend':\n",
            "  . Top unigrams:\n",
            "       . red\n",
            "       . bolgheri\n",
            "  . Top bigrams:\n",
            "       . red toscana\n",
            "       . red vino\n",
            "# 'Rhône-style Red Blend':\n",
            "  . Top unigrams:\n",
            "       . epiphany\n",
            "       . morgan\n",
            "  . Top bigrams:\n",
            "       . red côtes\n",
            "       . red costières\n",
            "# 'Riesling':\n",
            "  . Top unigrams:\n",
            "       . riesling\n",
            "       . kiedrich\n",
            "  . Top bigrams:\n",
            "       . riesling alsace\n",
            "       . riesling mosel\n",
            "# 'Rosé':\n",
            "  . Top unigrams:\n",
            "       . rosé\n",
            "       . tavel\n",
            "  . Top bigrams:\n",
            "       . noir rosé\n",
            "       . rosé côtes\n",
            "# 'Sangiovese':\n",
            "  . Top unigrams:\n",
            "       . sangiovese\n",
            "       . montalcino\n",
            "  . Top bigrams:\n",
            "       . di montalcino\n",
            "       . 2006 chianti\n",
            "# 'Sauvignon Blanc':\n",
            "  . Top unigrams:\n",
            "       . sancerre\n",
            "       . sauvignon\n",
            "  . Top bigrams:\n",
            "       . sauvignon blanc\n",
            "       . pouilly fumé\n",
            "# 'Sparkling Blend':\n",
            "  . Top unigrams:\n",
            "       . sparkling\n",
            "       . crémant\n",
            "  . Top bigrams:\n",
            "       . rosé sparkling\n",
            "       . sparkling north\n",
            "# 'Syrah':\n",
            "  . Top unigrams:\n",
            "       . syrah\n",
            "       . hermitage\n",
            "  . Top bigrams:\n",
            "       . saint joseph\n",
            "       . vineyard syrah\n",
            "# 'Tempranillo':\n",
            "  . Top unigrams:\n",
            "       . tempranillo\n",
            "       . rioja\n",
            "  . Top bigrams:\n",
            "       . tempranillo vino\n",
            "       . del duero\n",
            "# 'White Blend':\n",
            "  . Top unigrams:\n",
            "       . white\n",
            "       . soave\n",
            "  . Top bigrams:\n",
            "       . vin santo\n",
            "       . santo del\n",
            "# 'Zinfandel':\n",
            "  . Top unigrams:\n",
            "       . zinfandel\n",
            "       . zin\n",
            "  . Top bigrams:\n",
            "       . vineyard zinfandel\n",
            "       . zinfandel dry\n"
          ],
          "name": "stdout"
        }
      ]
    },
    {
      "cell_type": "code",
      "metadata": {
        "id": "UvVXKutGiwBP",
        "colab_type": "code",
        "outputId": "b8f1724d-189f-452b-c05e-1b80f6e77867",
        "colab": {
          "base_uri": "https://localhost:8080/",
          "height": 612
        }
      },
      "source": [
        "from sklearn import metrics\n",
        "print(metrics.classification_report(y_test, y_pred, target_names=df['variety'].unique()))"
      ],
      "execution_count": 0,
      "outputs": [
        {
          "output_type": "stream",
          "text": [
            "                            precision    recall  f1-score   support\n",
            "\n",
            "                      Rosé       0.98      0.98      0.98       459\n",
            "               White Blend       0.95      0.95      0.95       296\n",
            "                     Syrah       1.00      1.00      1.00       546\n",
            "                 Red Blend       0.80      0.88      0.84      1153\n",
            "                 Zinfandel       1.00      1.00      1.00       345\n",
            "  Bordeaux-style Red Blend       0.85      0.83      0.84       876\n",
            "          Grüner Veltliner       1.00      1.00      1.00       183\n",
            "                Pinot Noir       0.99      0.98      0.99      1795\n",
            "                  Riesling       1.00      1.00      1.00       676\n",
            "                Sangiovese       0.93      0.85      0.89       358\n",
            "                Chardonnay       0.99      0.99      0.99      1603\n",
            "        Cabernet Sauvignon       1.00      1.00      1.00      1286\n",
            "                  Nebbiolo       0.99      1.00      1.00       392\n",
            "            Portuguese Red       0.99      0.99      0.99       334\n",
            "           Champagne Blend       0.99      0.95      0.97       185\n",
            "           Sauvignon Blanc       0.98      0.99      0.99       664\n",
            "                    Malbec       1.00      1.00      1.00       346\n",
            "            Gewürztraminer       0.99      1.00      1.00       135\n",
            "            Cabernet Franc       0.97      1.00      0.98       180\n",
            "               Tempranillo       0.95      1.00      0.97       227\n",
            "Bordeaux-style White Blend       0.85      0.74      0.79       136\n",
            "              Pinot Grigio       1.00      1.00      1.00       120\n",
            "                    Merlot       0.99      0.97      0.98       404\n",
            "           Sparkling Blend       0.99      0.96      0.98       282\n",
            "          Portuguese White       0.99      0.99      0.99       147\n",
            "                     Gamay       0.96      0.99      0.98       147\n",
            "                Pinot Gris       0.99      1.00      1.00       170\n",
            "     Rhône-style Red Blend       0.78      0.56      0.65       191\n",
            "\n",
            "                  accuracy                           0.96     13636\n",
            "                 macro avg       0.96      0.95      0.95     13636\n",
            "              weighted avg       0.96      0.96      0.96     13636\n",
            "\n"
          ],
          "name": "stdout"
        }
      ]
    },
    {
      "cell_type": "code",
      "metadata": {
        "id": "-SGCdD-0i3V7",
        "colab_type": "code",
        "colab": {}
      },
      "source": [
        "from joblib import dump,load"
      ],
      "execution_count": 0,
      "outputs": []
    },
    {
      "cell_type": "code",
      "metadata": {
        "id": "EQ1yMjETjawO",
        "colab_type": "code",
        "outputId": "ab437aae-1812-42b4-f53c-90283dca50f9",
        "colab": {
          "base_uri": "https://localhost:8080/",
          "height": 34
        }
      },
      "source": [
        "dump(tfidf,'tfidf_review_title.joblib')"
      ],
      "execution_count": 0,
      "outputs": [
        {
          "output_type": "execute_result",
          "data": {
            "text/plain": [
              "['tfidf_review_title.joblib']"
            ]
          },
          "metadata": {
            "tags": []
          },
          "execution_count": 25
        }
      ]
    },
    {
      "cell_type": "code",
      "metadata": {
        "id": "n3f3oy--jhj9",
        "colab_type": "code",
        "outputId": "08bb6e9f-a1b1-42fc-d80d-878dfca0eb97",
        "colab": {
          "base_uri": "https://localhost:8080/",
          "height": 34
        }
      },
      "source": [
        "dump(model,'svm_review_title.joblib')"
      ],
      "execution_count": 0,
      "outputs": [
        {
          "output_type": "execute_result",
          "data": {
            "text/plain": [
              "['svm_review_title.joblib']"
            ]
          },
          "metadata": {
            "tags": []
          },
          "execution_count": 26
        }
      ]
    },
    {
      "cell_type": "code",
      "metadata": {
        "id": "07eqFpzvjpOh",
        "colab_type": "code",
        "colab": {}
      },
      "source": [
        ""
      ],
      "execution_count": 0,
      "outputs": []
    }
  ]
}